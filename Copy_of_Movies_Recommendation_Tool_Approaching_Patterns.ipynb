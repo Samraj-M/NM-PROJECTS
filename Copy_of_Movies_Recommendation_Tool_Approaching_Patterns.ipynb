{
  "metadata": {
    "kernelspec": {
      "language": "python",
      "display_name": "Python 3",
      "name": "python3"
    },
    "language_info": {
      "pygments_lexer": "ipython3",
      "nbconvert_exporter": "python",
      "version": "3.6.4",
      "file_extension": ".py",
      "codemirror_mode": {
        "name": "ipython",
        "version": 3
      },
      "name": "python",
      "mimetype": "text/x-python"
    },
    "colab": {
      "provenance": []
    }
  },
  "nbformat_minor": 0,
  "nbformat": 4,
  "cells": [
    {
      "source": [
        "# IMPORTANT: RUN THIS CELL IN ORDER TO IMPORT YOUR KAGGLE DATA SOURCES,\n",
        "# THEN FEEL FREE TO DELETE THIS CELL.\n",
        "# NOTE: THIS NOTEBOOK ENVIRONMENT DIFFERS FROM KAGGLE'S PYTHON\n",
        "# ENVIRONMENT SO THERE MAY BE MISSING LIBRARIES USED BY YOUR\n",
        "# NOTEBOOK.\n",
        "import kagglehub\n",
        "rounakbanik_the_movies_dataset_path = kagglehub.dataset_download('rounakbanik/the-movies-dataset')\n",
        "\n",
        "print('Data source import complete.')\n"
      ],
      "metadata": {
        "id": "Ovr20zYoXc0Q"
      },
      "cell_type": "code",
      "outputs": [],
      "execution_count": null
    },
    {
      "cell_type": "markdown",
      "source": [
        "# Recommendation System- An Introduction"
      ],
      "metadata": {
        "id": "yad1vdULXc0X"
      }
    },
    {
      "cell_type": "markdown",
      "source": [
        "![](https://miro.medium.com/max/1132/1*N0-ikjPv4RUVvS-6KCgLPg.jpeg)\n",
        "\n",
        "A recommendation system provides suggestions to the users through a filtering process that is based on user preferences and browsing history. The information about the user is taken as an input. The information is taken from the input that is in the form of browsing data. This information reflects the prior usage of the product as well as the assigned ratings. A recommendation system is a platform that provides its users with various contents based on their preferences and likings. A recommendation system takes the information about the user as an input. The recommendation system is an implementation of the machine learning algorithms.\n",
        "\n",
        "A recommendation system also finds a similarity between the different products. For example, Netflix Recommendation System provides you with the recommendations of the movies that are similar to the ones that have been watched in the past. Furthermore, there is a collaborative content filtering that provides you with the recommendations in respect with the other users who might have a similar viewing history or preferences. There are two types of recommendation systems – Content-Based Recommendation System and Collaborative Filtering Recommendation.\n",
        "\n"
      ],
      "metadata": {
        "id": "JMVVlVPmXc0e"
      }
    },
    {
      "cell_type": "markdown",
      "source": [
        "# A walkthrough of the Notebook\n",
        "\n",
        "![](data:image/jpeg;base64,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)"
      ],
      "metadata": {
        "id": "WKXCg_kuXc0k"
      }
    },
    {
      "cell_type": "markdown",
      "source": [
        "In this notebook, we will attempt at implementing a few recommendation algorithms (content based, popularity based and collaborative filtering) and try to build an ensemble of these models to come up with our final recommendation system. With us, we have two MovieLens datasets.\n",
        "\n",
        "The Full Dataset: Comprises of 26,000,000 ratings and 750,000 tag applications applied to 45,000 movies by 270,000 users. Includes tag genome data with 12 million relevance scores across 1,100 tags.\n",
        "\n",
        "The Small Dataset: Comprises of 100,000 ratings and 1,300 tag applications applied to 9,000 movies by 700 users.\n",
        "\n",
        "We will build a Simple Recommender using movies from the Full Dataset whereas all personalised recommender systems will make use of the small dataset (due to the computing power I possess being very limited). As a first step, we will build my simple recommender system."
      ],
      "metadata": {
        "id": "6a7PRJvaXc0o"
      }
    },
    {
      "cell_type": "markdown",
      "source": [
        "# Importing the Libraries"
      ],
      "metadata": {
        "id": "h5slmItNXc0s"
      }
    },
    {
      "cell_type": "markdown",
      "source": [
        "# Introducing- Surprise!!!\n",
        "\n",
        "![](data:image/jpeg;base64,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)\n",
        "\n",
        "The name SurPRISE (roughly :) ) stands for Simple Python RecommendatIon System Engine.\n",
        "Surprise is a Python scikit for building and analyzing recommender systems that deal with explicit rating data.\n",
        "\n",
        "Surprise was designed with the following purposes in mind:\n",
        "\n",
        "1. Give users perfect control over their experiments. To this end, a strong emphasis is laid on documentation, which we have tried to make as clear and precise as possible by pointing out every detail of the algorithms.\n",
        "2. Alleviate the pain of Dataset handling. Users can use both built-in datasets (Movielens, Jester), and their own custom datasets.\n",
        "3. Provide various ready-to-use prediction algorithms such as baseline algorithms, neighborhood methods, matrix factorization-based ( SVD, PMF, SVD++, NMF), and many others. Also, various similarity measures (cosine, MSD, pearson…) are built-in.\n",
        "4. Make it easy to implement new algorithm ideas.\n",
        "5. Provide tools to evaluate, analyse and compare the algorithms’ performance.\n",
        "\n",
        "Please refer to the following link for any further information: http://surpriselib.com/"
      ],
      "metadata": {
        "id": "W3OdUlLsXc0u"
      }
    },
    {
      "cell_type": "markdown",
      "source": [
        "Installing the Library in the system"
      ],
      "metadata": {
        "id": "6eiFfGuMXc05"
      }
    },
    {
      "cell_type": "code",
      "source": [
        "!pip install scikit-surprise"
      ],
      "metadata": {
        "_kg_hide-input": false,
        "_kg_hide-output": true,
        "execution": {
          "iopub.status.busy": "2023-02-06T18:59:31.323284Z",
          "iopub.execute_input": "2023-02-06T18:59:31.323997Z",
          "iopub.status.idle": "2023-02-06T18:59:40.04448Z",
          "shell.execute_reply.started": "2023-02-06T18:59:31.323877Z",
          "shell.execute_reply": "2023-02-06T18:59:40.043517Z"
        },
        "trusted": true,
        "id": "twyuKeanXc08"
      },
      "execution_count": null,
      "outputs": []
    },
    {
      "cell_type": "code",
      "source": [
        "# This Python 3 environment comes with many helpful analytics libraries installed\n",
        "# It is defined by the kaggle/python Docker image: https://github.com/kaggle/docker-python\n",
        "# For example, here's several helpful packages to load\n",
        "\n",
        "import numpy as np # linear algebra\n",
        "import pandas as pd # data processing, CSV file I/O (e.g. pd.read_csv)\n",
        "\n",
        "# Input data files are available in the read-only \"../input/\" directory\n",
        "# For example, running this (by clicking run or pressing Shift+Enter) will list all files under the input directory\n",
        "\n",
        "import os\n",
        "for dirname, _, filenames in os.walk('/kaggle/input'):\n",
        "    for filename in filenames:\n",
        "        print(os.path.join(dirname, filename))\n",
        "\n",
        "\n",
        "%matplotlib inline\n",
        "import pandas as pd\n",
        "import numpy as np\n",
        "import matplotlib.pyplot as plt\n",
        "import seaborn as sns\n",
        "from scipy import stats\n",
        "from ast import literal_eval\n",
        "from sklearn.feature_extraction.text import TfidfVectorizer, CountVectorizer\n",
        "from sklearn.metrics.pairwise import linear_kernel, cosine_similarity\n",
        "from nltk.stem.snowball import SnowballStemmer\n",
        "from nltk.stem.wordnet import WordNetLemmatizer\n",
        "from nltk.corpus import wordnet\n",
        "from surprise import Reader, Dataset, SVD\n",
        "from surprise.model_selection import cross_validate\n",
        "\n",
        "pd.options.display.max_columns=None\n",
        "#pd.set_option('display.max_colwidth', None)\n",
        "\n",
        "import warnings; warnings.simplefilter('ignore')\n",
        "\n",
        "# You can write up to 20GB to the current directory (/kaggle/working/) that gets preserved as output when you create a version using \"Save & Run All\"\n",
        "# You can also write temporary files to /kaggle/temp/, but they won't be saved outside of the current session"
      ],
      "metadata": {
        "_uuid": "8f2839f25d086af736a60e9eeb907d3b93b6e0e5",
        "_cell_guid": "b1076dfc-b9ad-4769-8c92-a6c4dae69d19",
        "_kg_hide-input": false,
        "_kg_hide-output": true,
        "execution": {
          "iopub.status.busy": "2023-02-06T18:59:40.046191Z",
          "iopub.execute_input": "2023-02-06T18:59:40.046562Z",
          "iopub.status.idle": "2023-02-06T18:59:41.926578Z",
          "shell.execute_reply.started": "2023-02-06T18:59:40.046531Z",
          "shell.execute_reply": "2023-02-06T18:59:41.925445Z"
        },
        "trusted": true,
        "id": "g5pUdnLJXc1A"
      },
      "execution_count": null,
      "outputs": []
    },
    {
      "cell_type": "markdown",
      "source": [
        "Now we have installed the libraries and are ready for our model creation. Let us first see the simplest approach- i.e. The Simple Recommender"
      ],
      "metadata": {
        "id": "88oj9REWXc1D"
      }
    },
    {
      "cell_type": "markdown",
      "source": [
        "# The Simple Recommender Approach\n",
        "\n",
        "The Simple Recommender offers generalized recommnendations to every user based on movie popularity and (sometimes) genre. The basic idea behind this recommender is that movies that are more popular and more critically acclaimed will have a higher probability of being liked by the average audience. This model does not give personalized recommendations based on the user.\n",
        "\n",
        "The implementation of this model is extremely trivial. All we have to do is sort our movies based on ratings and popularity and display the top movies of our list. As an added step, we can pass in a genre argument to get the top movies of a particular genre."
      ],
      "metadata": {
        "id": "7LG-TLCTXc1F"
      }
    },
    {
      "cell_type": "markdown",
      "source": [
        "> **Reading the Larger Dataset**"
      ],
      "metadata": {
        "id": "n_7vXnBsXc1G"
      }
    },
    {
      "cell_type": "code",
      "source": [
        "meta = pd. read_csv('/content/credits.csv.zip')\n",
        "meta.head()"
      ],
      "metadata": {
        "_kg_hide-input": false,
        "execution": {
          "iopub.status.busy": "2023-02-06T18:59:41.927994Z",
          "iopub.execute_input": "2023-02-06T18:59:41.928613Z",
          "iopub.status.idle": "2023-02-06T18:59:43.285238Z",
          "shell.execute_reply.started": "2023-02-06T18:59:41.928569Z",
          "shell.execute_reply": "2023-02-06T18:59:43.284036Z"
        },
        "trusted": true,
        "id": "Q_L1cSDrXc1H"
      },
      "execution_count": null,
      "outputs": []
    },
    {
      "cell_type": "markdown",
      "source": [
        "> **Let's identify the total number of null values in the data:**"
      ],
      "metadata": {
        "id": "lFToqwuHXc1I"
      }
    },
    {
      "cell_type": "code",
      "source": [
        "meta.isnull().sum()"
      ],
      "metadata": {
        "_kg_hide-input": false,
        "execution": {
          "iopub.status.busy": "2021-10-03T09:19:18.789291Z",
          "iopub.execute_input": "2021-10-03T09:19:18.789587Z",
          "iopub.status.idle": "2021-10-03T09:19:18.87544Z",
          "shell.execute_reply.started": "2021-10-03T09:19:18.789557Z",
          "shell.execute_reply": "2021-10-03T09:19:18.874266Z"
        },
        "trusted": true,
        "id": "qj_OwqNyXc1J"
      },
      "execution_count": null,
      "outputs": []
    },
    {
      "cell_type": "markdown",
      "source": [
        "**Observation** Okay, so the dataset has sufficient number of null values- and it will be better if we can clean them. Also, we observe some of the columns have a list of dictionary structure- but it isn't a very easy format to read. So let's just clean it up to create an ordinary list."
      ],
      "metadata": {
        "id": "w0tRb9YvXc1L"
      }
    },
    {
      "cell_type": "markdown",
      "source": [
        "> **Cleaning the Dataset**"
      ],
      "metadata": {
        "id": "FN3QNUNgXc1M"
      }
    },
    {
      "cell_type": "code",
      "source": [
        "meta['genres'] = meta['genres'].fillna('[]').apply(literal_eval).apply(lambda x: [i['name'] for i in x] if isinstance(x, list) else [])\n",
        "meta['production_companies']= meta['production_companies'].fillna('[]').apply(literal_eval).apply(lambda x: [i['name'] for i in x] if isinstance(x, list) else [])\n",
        "meta['production_countries'] = meta['production_countries'].fillna('[]').apply(literal_eval).apply(lambda x: [i['name'] for i in x] if isinstance(x, list) else [])\n",
        "meta['spoken_languages'] = meta['spoken_languages'].fillna('[]').apply(literal_eval).apply(lambda x: [i['name'] for i in x] if isinstance(x, list) else [])\n",
        "meta['year'] = pd.to_datetime(meta['release_date'], errors='coerce').apply(lambda x: str(x).split('-')[0] if x != np.nan else np.nan)"
      ],
      "metadata": {
        "_kg_hide-input": false,
        "_kg_hide-output": true,
        "execution": {
          "iopub.status.busy": "2021-10-03T09:19:18.880567Z",
          "iopub.execute_input": "2021-10-03T09:19:18.880896Z",
          "iopub.status.idle": "2021-10-03T09:19:24.304088Z",
          "shell.execute_reply.started": "2021-10-03T09:19:18.880864Z",
          "shell.execute_reply": "2021-10-03T09:19:24.302915Z"
        },
        "trusted": true,
        "id": "0YJxrY5hXc1N"
      },
      "execution_count": null,
      "outputs": []
    },
    {
      "cell_type": "markdown",
      "source": [
        "> **Let's take a final look at the data before moving to our next steps**"
      ],
      "metadata": {
        "id": "sCUscV_WXc1P"
      }
    },
    {
      "cell_type": "code",
      "source": [
        "meta.head()"
      ],
      "metadata": {
        "_kg_hide-input": false,
        "execution": {
          "iopub.status.busy": "2021-10-03T09:19:24.307503Z",
          "iopub.execute_input": "2021-10-03T09:19:24.307856Z",
          "iopub.status.idle": "2021-10-03T09:19:24.353401Z",
          "shell.execute_reply.started": "2021-10-03T09:19:24.307822Z",
          "shell.execute_reply": "2021-10-03T09:19:24.352213Z"
        },
        "trusted": true,
        "id": "N-JQSsV1Xc1T"
      },
      "execution_count": null,
      "outputs": []
    },
    {
      "cell_type": "markdown",
      "source": [
        "# Logic Implemented\n",
        "\n",
        "We will use the IMDB Ratings to come up with our Top Movies Chart. I will use IMDB's weighted rating formula to construct my chart. Mathematically, it is represented as follows:\n",
        "\n",
        "                            Weighted Rank (WR) = (v ÷ (v+m)) × R + (m ÷ (v+m)) × C\n",
        "where,\n",
        "\n",
        "                             R = average for the movie (mean) = (Rating)\n",
        "                             v = number of votes for the movie = (votes)\n",
        "                             m = minimum votes required to be listed in the Top 250\n",
        "                             C = the mean vote across the whole report\n",
        "                             \n",
        "The next step is to determine an appropriate value for m, the minimum votes required to be listed in the chart. We will use 90th percentile as our cutoff. In other words, for a movie to feature in the charts, it must have more votes than at least 96% of the movies in the list.\n",
        "\n",
        "I will build our overall Top 250 Chart and will define a function to build charts for a particular genre. Let's begin!"
      ],
      "metadata": {
        "id": "jxCCb9XzXc1U"
      }
    },
    {
      "cell_type": "code",
      "source": [
        "vote_counts = meta[meta['vote_count'].notnull()]['vote_count'].astype('int')\n",
        "vote_averages = meta[meta['vote_average'].notnull()]['vote_average'].astype('int')"
      ],
      "metadata": {
        "_kg_hide-input": false,
        "execution": {
          "iopub.status.busy": "2021-10-03T09:19:24.355101Z",
          "iopub.execute_input": "2021-10-03T09:19:24.35553Z",
          "iopub.status.idle": "2021-10-03T09:19:24.462365Z",
          "shell.execute_reply.started": "2021-10-03T09:19:24.355452Z",
          "shell.execute_reply": "2021-10-03T09:19:24.46144Z"
        },
        "trusted": true,
        "id": "QSnbTNUkXc1W"
      },
      "execution_count": null,
      "outputs": []
    },
    {
      "cell_type": "code",
      "source": [
        "C = vote_averages.mean()\n",
        "print('The Mean value of the voting averages= ',C)\n",
        "m = vote_counts.quantile(0.96)\n",
        "print('The minimum vote count for a movie to consider= ',m)"
      ],
      "metadata": {
        "_kg_hide-input": false,
        "execution": {
          "iopub.status.busy": "2021-10-03T09:19:24.463549Z",
          "iopub.execute_input": "2021-10-03T09:19:24.464042Z",
          "iopub.status.idle": "2021-10-03T09:19:24.475773Z",
          "shell.execute_reply.started": "2021-10-03T09:19:24.463974Z",
          "shell.execute_reply": "2021-10-03T09:19:24.474432Z"
        },
        "trusted": true,
        "id": "9YRM1RwjXc1X"
      },
      "execution_count": null,
      "outputs": []
    },
    {
      "cell_type": "markdown",
      "source": [
        "> **Creating the qualified database- upon whom we shall perfrom the next estimations**"
      ],
      "metadata": {
        "id": "4q3KXIs7Xc1Y"
      }
    },
    {
      "cell_type": "code",
      "source": [
        "qualified = meta[(meta['vote_count'] >= m) & (meta['vote_count'].notnull()) & (meta['vote_average'].notnull())][['title', 'year', 'vote_count', 'vote_average', 'popularity', 'genres']]\n",
        "qualified['vote_count'] = qualified['vote_count'].astype('int')\n",
        "qualified['vote_average'] = qualified['vote_average'].astype('int')\n",
        "print('The structure of the qualified database is= ',qualified.shape)"
      ],
      "metadata": {
        "_kg_hide-input": false,
        "execution": {
          "iopub.status.busy": "2021-10-03T09:19:24.477596Z",
          "iopub.execute_input": "2021-10-03T09:19:24.47794Z",
          "iopub.status.idle": "2021-10-03T09:19:24.509434Z",
          "shell.execute_reply.started": "2021-10-03T09:19:24.477906Z",
          "shell.execute_reply": "2021-10-03T09:19:24.508109Z"
        },
        "trusted": true,
        "id": "MiVRKAgqXc1Z"
      },
      "execution_count": null,
      "outputs": []
    },
    {
      "cell_type": "markdown",
      "source": [
        "Therefore, to qualify to be considered for the chart, a movie has to have at least 576.63 votes on TMDB. We also see that the average rating for a movie on TMDB is 5.244 on a scale of 10. Only 1899 Movies qualify to be on our chart."
      ],
      "metadata": {
        "id": "WzbxY4yxXc1b"
      }
    },
    {
      "cell_type": "code",
      "source": [
        "def weighted_rating(x):\n",
        "    v = x['vote_count']\n",
        "    R = x['vote_average']\n",
        "    return (v/(v+m) * R) + (m/(m+v) * C)"
      ],
      "metadata": {
        "_kg_hide-input": false,
        "execution": {
          "iopub.status.busy": "2021-10-03T09:19:24.51097Z",
          "iopub.execute_input": "2021-10-03T09:19:24.511328Z",
          "iopub.status.idle": "2021-10-03T09:19:24.516835Z",
          "shell.execute_reply.started": "2021-10-03T09:19:24.511294Z",
          "shell.execute_reply": "2021-10-03T09:19:24.515703Z"
        },
        "trusted": true,
        "id": "6N87ObRJXc1c"
      },
      "execution_count": null,
      "outputs": []
    },
    {
      "cell_type": "code",
      "source": [
        "qualified['wr'] = qualified.apply(weighted_rating, axis=1)\n",
        "qualified = qualified.sort_values('wr', ascending=False).head(250)"
      ],
      "metadata": {
        "_kg_hide-input": false,
        "execution": {
          "iopub.status.busy": "2021-10-03T09:19:24.518691Z",
          "iopub.execute_input": "2021-10-03T09:19:24.519126Z",
          "iopub.status.idle": "2021-10-03T09:19:24.575904Z",
          "shell.execute_reply.started": "2021-10-03T09:19:24.519091Z",
          "shell.execute_reply": "2021-10-03T09:19:24.57489Z"
        },
        "trusted": true,
        "id": "rd0nJ1pAXc1g"
      },
      "execution_count": null,
      "outputs": []
    },
    {
      "cell_type": "markdown",
      "source": [
        "**Top Movies**\n",
        "\n",
        "![](data:image/jpeg;base64,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)"
      ],
      "metadata": {
        "id": "mhOgqhxHXc1i"
      }
    },
    {
      "cell_type": "code",
      "source": [
        "qualified.head(15)"
      ],
      "metadata": {
        "_kg_hide-input": false,
        "execution": {
          "iopub.status.busy": "2021-10-03T09:19:24.577523Z",
          "iopub.execute_input": "2021-10-03T09:19:24.577841Z",
          "iopub.status.idle": "2021-10-03T09:19:24.605881Z",
          "shell.execute_reply.started": "2021-10-03T09:19:24.577808Z",
          "shell.execute_reply": "2021-10-03T09:19:24.604604Z"
        },
        "trusted": true,
        "id": "SEMESKI2Xc1k"
      },
      "execution_count": null,
      "outputs": []
    },
    {
      "cell_type": "markdown",
      "source": [
        "**Observations:** We see that three Christopher Nolan Films, Inception, The Dark Knight and Interstellar occur at the very top of our chart. The chart also indicates a strong bias of TMDB Users towards particular genres and directors.\n",
        "\n",
        "Let us now construct our function that builds charts for particular genres. For this, we will use relax our default conditions to the 90th percentile instead of 96."
      ],
      "metadata": {
        "id": "TpXq5bC_Xc1m"
      }
    },
    {
      "cell_type": "markdown",
      "source": [
        "> **Pivoting down the entire dataset based on genres**"
      ],
      "metadata": {
        "id": "7MIOhSx0Xc1o"
      }
    },
    {
      "cell_type": "code",
      "source": [
        "s = meta.apply(lambda x: pd.Series(x['genres']),axis=1).stack().reset_index(level=1, drop=True)\n",
        "s.name = 'genre'\n",
        "gen_md = meta.drop('genres', axis=1).join(s)\n",
        "gen_md.head(8)"
      ],
      "metadata": {
        "_kg_hide-input": false,
        "execution": {
          "iopub.status.busy": "2021-10-03T09:19:24.607422Z",
          "iopub.execute_input": "2021-10-03T09:19:24.607745Z",
          "iopub.status.idle": "2021-10-03T09:19:49.589514Z",
          "shell.execute_reply.started": "2021-10-03T09:19:24.607712Z",
          "shell.execute_reply": "2021-10-03T09:19:49.588578Z"
        },
        "trusted": true,
        "id": "dwOVpBGVXc1p"
      },
      "execution_count": null,
      "outputs": []
    },
    {
      "cell_type": "markdown",
      "source": [
        "So now, we will create a function that returns us the list of top movies for a genre!"
      ],
      "metadata": {
        "id": "gGRz6vuiXc1q"
      }
    },
    {
      "cell_type": "code",
      "source": [
        "def build_chart(genre, percentile=0.90):\n",
        "    df = gen_md[gen_md['genre'] == genre]\n",
        "    vote_counts = df[df['vote_count'].notnull()]['vote_count'].astype('int')\n",
        "    vote_averages = df[df['vote_average'].notnull()]['vote_average'].astype('int')\n",
        "    C = vote_averages.mean()\n",
        "    m = vote_counts.quantile(percentile)\n",
        "\n",
        "    qualified = df[(df['vote_count'] >= m) & (df['vote_count'].notnull()) & (df['vote_average'].notnull())][['title', 'year', 'vote_count', 'vote_average', 'popularity']]\n",
        "    qualified['vote_count'] = qualified['vote_count'].astype('int')\n",
        "    qualified['vote_average'] = qualified['vote_average'].astype('int')\n",
        "\n",
        "    qualified['wr'] = qualified.apply(lambda x: (x['vote_count']/(x['vote_count']+m) * x['vote_average']) + (m/(m+x['vote_count']) * C), axis=1)\n",
        "    qualified = qualified.sort_values('wr', ascending=False).head(250)\n",
        "\n",
        "    return qualified"
      ],
      "metadata": {
        "_kg_hide-input": false,
        "execution": {
          "iopub.status.busy": "2021-10-03T09:19:49.591151Z",
          "iopub.execute_input": "2021-10-03T09:19:49.59152Z",
          "iopub.status.idle": "2021-10-03T09:19:49.600736Z",
          "shell.execute_reply.started": "2021-10-03T09:19:49.591486Z",
          "shell.execute_reply": "2021-10-03T09:19:49.599884Z"
        },
        "trusted": true,
        "id": "aZ4VkdXNXc1u"
      },
      "execution_count": null,
      "outputs": []
    },
    {
      "cell_type": "markdown",
      "source": [
        "Let us see our method in action by displaying the Top 15 Horror Movies (Horror almost didn't feature at all in our Generic Top Chart despite being one of the most popular movie genres).\n",
        "\n",
        "**Top Horror Movies**\n",
        "\n",
        "![](https://encrypted-tbn0.gstatic.com/images?q=tbn:ANd9GcRPmfSkUQPZ6vrX5XqkPu2crntc3_kvi0FtWg&usqp=CAU)"
      ],
      "metadata": {
        "id": "O6GfS1heXc1v"
      }
    },
    {
      "cell_type": "code",
      "source": [
        "build_chart('Horror').head(15)"
      ],
      "metadata": {
        "_kg_hide-input": false,
        "execution": {
          "iopub.status.busy": "2021-10-03T09:19:49.601952Z",
          "iopub.execute_input": "2021-10-03T09:19:49.602408Z",
          "iopub.status.idle": "2021-10-03T09:19:49.733774Z",
          "shell.execute_reply.started": "2021-10-03T09:19:49.602376Z",
          "shell.execute_reply": "2021-10-03T09:19:49.732455Z"
        },
        "trusted": true,
        "id": "zVurySvVXc1y"
      },
      "execution_count": null,
      "outputs": []
    },
    {
      "cell_type": "markdown",
      "source": [
        "**Observations** Pretty frightening!!! But our predictions have done well. Just compared with the top horror movies list in IMDB- and the results were impressive.\n",
        "\n",
        "Kindly refer to the following link for your reference-https://www.imdb.com/search/title/?genres=horror&title_type=feature&explore=genres\n",
        "\n",
        "Let's lighten up ourselved with some movie that may lighten our moods- Lets look for some recommendations of the Romantic Genre\n",
        "\n",
        "**Top Romantic Movies**\n",
        "\n",
        "![](data:image/jpeg;base64,/9j/4AAQSkZJRgABAQAAAQABAAD/2wCEAAkGBxMTEhUSEhMWFRUXGBcYFxUXGBYYGBYVFxUXFxYXFhUYHSggGBolGxYXITEhJSkrLi4uGB8zODMtNygtLisBCgoKDg0OGxAQGy0lICUtLS0tLS0wLS0tLi0tLS0tLS0tLS0tLS0tLS0tLS0tLS0tLS0tLS0tLS0tLS0tLS0tLf/AABEIALcBEwMBIgACEQEDEQH/xAAcAAACAgMBAQAAAAAAAAAAAAAEBQMGAAIHAQj/xABDEAACAQIEAwUECAQFAwQDAAABAgMAEQQSITEFQVEGEyJhcTKBkaEHI0JSscHR8BRicvEzQ5Ki4RVjgheD0uJTo7L/xAAaAQADAQEBAQAAAAAAAAAAAAACAwQBAAUG/8QAMBEAAgIBAwIDBgYDAQAAAAAAAAECEQMSITEEQRNRYTJxgbHh8AUUIpHB0RUjoVL/2gAMAwEAAhEDEQA/AONg1sKjBqRa449rysrCa44ysq18A+jzH4oBhF3MZ/zJiUFuoSxY/C3nV44X9C8Vrz4t38olVBobEZnzX1B5CpMvXYMW0pfz8glCT4OO16K75/6U8NRdYppDpvK997bJb5Csm+irhpOURTJcXzLK9hvp4r66dKm/zHTev7BeFI4IKkArrWN+iGBlzQYuRNbATKrg87XTKR86qXG/o7x+Guxi75B9uG728yls4+BHnVOPrcGR1GX8fMzQ1yVULW1q3C1tlqk4jC1IorMtSItccbIKlC1iJRCpWNhpAxjqNoqP7qsMNZZ2kVmKvVipgcPW64at1HaQJIqkEdHDD1t3FDZukB7ute7o/uPKtTBXWdpAe6rO7o7ua8MVZZ2kXslRMtMJIqHeOjTBaA2WoyKKZKiZa0EHIrypilala4yiEitCKmIrRhXGURVle1lbZhCtbrWq1stacG8J4ZLiZVhhXM7bDYAc2Y8lHM12/sd2Fw+DGeyz4kW+scDKjdI1Ps8/EfF6bVXvom4TNDA+LIQpLaygXkKKT4gw21+xztfTSr7PjcwCxtuLlxuFOwHQnX0r5/8AEerySn4WN0u7RRigqth2J4gqtzd7WKKfCP6mOg/HyoT+LlOgZY16IAf9zX+IAodFCjkAP37zUuHlVwGUgryNuhttXnQwJK6tefYZauj3uS28kp/9xx8lI/CiIsJbUSSj/wBxz15MTevYlopT+9KpxwT5BZB9cuzrIL3tIov7mTb1INexY4ZiLFJWGiufCSPusND6b6bVMWH793OhMUiuMrAEc/W+mvI+dBlwY3wq9xysSdrOxeHxgzgCLEWv3qjRj/3F+0PPfz5Vx/ifCpMPI0Mq5XX4EHZlPNT1rrfFuPGH6llMreGzXIJBOgNhdmuLab6c6Q9qo3xim691NACxiYWLRHLmIc2NwbeHbUc6s6HPmxvRk3j8vp8h+TpZ6PErb77cnOO6rdI6YLgWI0sSBcrcZrdctRrFXs60+BEsMoVqVWRJHRKR1JHFRKRVjYUYgyxVIsVFLHUipQ2GoAow9SLhqLRKmWOs1BaADua8KDmQPWh+M4wi6IdVtmtvbcqDyO3xq6/9J4fJh48RHGsJK6Fw0iM0bsrK8TMTrlAzKTcMSQthRVtbESyJOkVJYwdiD6V6YKNx7YBHLKh8lLlEU87KpLf7/cK0Ti8DkKEjF9Loz3Hn4na9Y77BRknyAmCtGhpoYq17ih1DdAoeChpIKfPDQssFEpASxiN4ahaGnD4eoGgo9QpwFLR1E0dNHgqFoaLUA4ixkqNlo+SKh3SiAoFy15U+SsrjKB+HYMzSxwqQGkdUBOwLEC5ty1q28H7MYeVFlUYiVTMYBGxjhzsqGRnL+LItgRlte/OqWptYiundkeMGSCPO+JxEkc/eMe7ZwoMLIIlbMbm7Frm2/vpHUynGNx+/v4HRSb3LZNMIFVo4mAKj6rIWAy2SxCAhSpy3Pskb6C4lTGFDJGiKGumUM1i7yRd41yNCwsx0ttvSzGRTTLLNJFIi908MMC5WltJ7crKGy5ibWF/CAdd68xCTu8hTDyJK7YcCU5ckLqmQspBvIqqztewFyBbXTxljj3q+7+KKVKnZksEmcB2sxBb62QFMuZR7Kqbi7AAXqw4bEyLJDG+U5u8BK3F+7SMghfsHMWGW52qs8RwMh71hh5PC4WJvqWaMl2eaQd4QqoxfKrG5XLe1N8JHiAY5Ewzlv4ieQB5EQJG5I+tOp10YZQdd7b0yS1RXx22+/f7jcuZ5HbS+CLLFjUKsyMGy3BsRoRoQelufSkY4rih/DGTu07xGaRbOQWMqLHCjkgLJaTmpuQdANoezfDZEmLPFLHEscit38kRDMzISVjiJS1lN2ax203qPGRFMREseDLiJZTCokiCESMn1iB2DJYArcKbZzajUUnS4+j+gmyzPjAGZGNirBb6jNmTOtvPLfT+U1XeLcWmDKIsrZo8Uc12Kr3LR2J53GZgVG7WFayYDEgGVkjfESzJI1nIjhEaFEUXF5FCEjS12YnQHQR8Ji1VTHColy4s5jKLIcS+YJYDV1YIc21gbXJFIjGK5afxXl/Yd+h5j55WUCcYdizKiDPkdZHUFMpa3i1Bte/wqJw+YT54WcQlWYuQotYvJoNSMt8uh5+nuM4a0bIIFQ92sPiaQo0YiJB8eRzldMl9iQp13qHD8NmmjV2SIx91MY0EjEFsTpcvkFrRXAa3+YRbTU6hSl2HfmJvakvchJNw4xzkIVUl1jUylT3kjqCMqJc2a9xfYb20pWICCQdwSCdNwbHbTfpVq4pFiYlLtHBq0JJWSVSSiqD9nRbIqlb+IAHTY19QWLMVVMzswVSzAZjmPibU6knYVfhyalf8A0CKk9nx99jWOOiESvVSvMZOI0LnkPnTrsclW4s47xlYAABmc7L0HU+VV5+JzuAZJe7U7BNLj3a/OvMHgnxOKIve+pO9hp/a1dG4H2JjDBnNwNtt6KU4Y+eRChky7rg55M0sbAAZW+7mcuOhksbA+R1pzguKSR/4hzL15qTsfMXte9Sdo+zkuDlZkOaM+LMLn461XMTii6E+ViOo2pi0zViZa8bLTwPBKQcRiNUBNlJIEjbksfuDnbc6ciQr4/wBpZZjaK4QeEWAGg2CqNFUdLUv4jxm+Ghw6nZbyHzLE5f1oHBTkHmRztufKtjHuwL7IiXDliLknXc/PWicZGEIyixFiCD06irv2f4FHPh27zSU3KLsVCi4sOfWg8B2UEgLya2fJk1R2Fgc6rb2dbb3oHmjuvIcumnS9SLg/H2ZbupNiiADa5Fr5mbc72PnY8qskMitfKQbEg25EaEHoaqmN7O4jDTsIAWja9hdCCmhyOrkBgLke6iuHSd1IT3TI7DxxH7YBFmi3vYXFiff0FxjJXEZCc4PTMshWoZI6MijLKrqLqyhgR9015JCRoRY9DSFJFriLHgqGTD01MdRtFRKQvQJpMPQ0kFPJIaDmho1ITKAjlioV4acSw0M8VMTEuIs7mvKYd1WUVg6Srir/APRJj8sk8ABLOEdFHMqSG15CzA38qoVXr6K+0cOGkeGVQpmIyzgEsDsEb+Una3M6+SetTeCVKxcNpI6rFmBKPbMLHQWDDyv0Nx8+dEqtQPgmkGZzZgS0Y2ym97sB12I6X51NhXzbizA2ZTup5j/nmNa+bi1L3lXBW8bwUqk5kEbrNPhAdGLOn8WgKyZjbLZrBRp7XW1WbifEkw8btoTHkGXQau2WMAHa+vwqPiXCnltlneIaEqEicMVIZW+sQkEEA6eXSoE7OMM5OLnMjFby2hBAS9lyiPIRz1F76g16EaauT+fovkhLJ4e0EBiEzOETN3d28Pi2sC1r+vr0NI5+IJFig0aqyvBhVDgqqRxvNiApzHkbrlUe0bDzDX/oYEWTv5S+YuZWyMxYgLqpXIFsALAC3lrdZi+CpDFJI8uIdvCzsjBXdYwTHEqoAAo+yFtYnfW9deOzqYfhOK94yqEIDPKgOlrxFVY6Ha+fQ2PgPrSqbtPZIHMTMJIzIwRJXKbgKAkZBJYcytrjehIOG4q6PKCEEoldZMUQTlZWHeJHDk8NgbA6kG5NyaGjXvIQ0cWLVXU5HjdQskZY5bor3W62Gaym1ta5YoXvVe822G8XxEMjAYjDLIyxpJ4rN3aO6qVe45nMQut8hvbnJj+KNebuyEjiMarIbN3hZos2WIW0tIAtm3vpWs3D0EDSSqyO/dO6GX7UYBSHOdAtxryuSbkV5guFmJRiMVKgVckhu7PGCASdJb5GQ5crLY3voL2oLhXu7c+XHyN3Ae0fFrs8GVjlKEMFOVgbAuSQBlzMtrFulJ7UVj5oJkjZUbvGtJJdpFRX9qwgvkDXsSbaX63tCBV2BJQ4ooxJ1ueAUl7USgRgHmRp1tr+/Wntqq3aJs0uXktv9RI/fuqnGrkdmdQIezuJeGaRgqsVAzAqSoC7i4NxqbXt8a6Lgu10YjzquZtcyZgMljqWbkPxqmdmJUkWQiJjIDma5AUNlAZg17hTa9rG1zvVziiwxhiVCJDkfvcqnM+ds7NpuVbW2tgTS8+ly3QfTxeheTI8b2jgmQo5jQm6sC5BBsdPEtr6E7iuZPEgV1G+oDdTe4/OuoQxxeJgCdyWYHMSAQBdhe9ze/lXLeLSfWyD+b/mi6Zq3Qvq4tRViV0161a+zPD80ZeM/WHS/NbnUgHnak2EhBzsB4kXOPMC+YEelP8AguJ7orKmkTmw/lIGoPnT8jdbCOmitVsvuJgEaRylEjKZBmF7tYeJmJO51Jt1p5DjoixMQ7yMgEyAAAN90Hc0iOK72LI2trEc9L7itsNPI6iPKy8giWBA/mYV5z35PV0I07UY8RoZMl7si+l2389CRbqaXSCJsolTMGJUMLhkZwQrI3I3sPeKl7Zx2RY72W8bEknQK63uTrvUbgMCNwf3cU2C/SKnu67bCThOOeCdkZcsvszxW9ob95FYm7AG/nc1dW4h3kgiQxyKyIolDAhiW2AH21BJIqtcZwizx3uExcYBjfYTBd1NuegNjsfKtOx3aUqbgXO0sNxrl0Lx30VxpcWVddTtY5Q1rUluTrI8L0vddhtKhUkHcEj4VoanxeIWRjKoIVzdb8+R+dQ0K4KSJqgkSiTUTCiBaAZIqGeKmMgoV1o0xUoi8x1lElayjsXpKJRvBeJNhp450Clo2uAwuDpYjy0J1Go3oBTW1PaTVMgs+j+zfHYsbCJYGF9A6N7Ubc1YD5HY/gykwefxr9XINLkXBAOzgbjodx6b/N3B+KTYaQSwOUccxsR91lOjDyNdd7OfSbh517rGr3LkWLi5ibS1zzT33HnXzXU/h2XDLXh3X/fqVRyKSplyOMyeGZe7PU6xk/yvt7jY+VFMw5Wt8rXrfDSCUZ4pFkRrbEMtri9rEjYWt53N6GbhcdxZDHcnWJigAB0JX2fPakR6uLVS2+/3+ZlGsjfv986ExMSupVhcHca+ultj58iBRH/TPDmGJkte3iWM65stvZHOozw3UhsTL5hURT9nmVP3x8a55Ic6vn/QQjn7PxNpI8roP8tpDkIHJrWLjyYnzo5J8xyQr3hGll9lf6n9lfTf1pgvCoeaPMcoP1jEg3NrZPZvofs8qZiQRrdskcYUbkKFPTpbl7vOl5Opvzf/AD6/I5CrDcOEfjlOeSxsACVUW1CDmbHc6nlYXpXxHhOAgUTyYaJSDdVyLfPyyJtm9Nt614t2ygiGXDjvn+8bhBvbU6sbG2m/WqTjuISTPnlbMeXIKOijYCqOm6XPkeqTcV+1/D+xqhZvxDGNNK0rAAtyFtABYAnmbczUQNRitg1e3GKikkOR6z1TuLSXmv1qzY2cKDry3qn4iXNJm8x8P3pT8S7k3US2oYdnZjHMUBt3q2H9Qvy57n4V0jg6TRrYCwI3aMa9fErflXIMXMQUdDZlNwRyIN6dw/SBjCvd3QX52N/xoM2KUt0b0/URhHTIvfH+KpEl3NjbbqfKuUY7Eh2J5lizdB0Apvg8FLiXLOS7W3Ow9TstHzdgpMuaORC33NbHr4th+9a7GoYuWbm8TP7K2Qg4S6iRg5ADRsuu2osNai4DgxLMI3coLEgg/aFhz0rTGYKSNykisjDcHofxHnVp7Fdng5ExiZzc5c91iXle+8h9NB0PJuSajFysmhBuSjQ0/wCkY2JAY8s6W0KGzDqCp2PvrMN21kj8DQskg08Qt8jXReAcCdiFHgTclFCIPTbMf2bc7RL2dhdcr3dejZWHrqKjhrmrcb9eCyeVQ2Uv5OLxrJiFcyk3dSATyuNPde1A9mZyI8r6AHw87dVJ5WI+dda4h2DU/wCBJk1vlIuPTqKo/H+yL4E/xaC6aHERi57sk2Ln78R3zWup3uNmwT3i1QGTLH9MoO33AuIECJ2K58qs2XqVBIFUfseoknkzEhu6kkQgnwvHZ9eoyhh11+N/wMCsBlcZWNrEWEbHZfJCTboLg7XtWODYFYcVjECkZYZ7Aj2fEiZfdnI91MjcUwZNZpwXqPuF4wMQHYJuZBlzBtNJEAIsToCQeYvfQ0TxCQxBT3TvmIAC6jUjdreHfn03ql8WR2j8GjKbjr0IB9/41euwnHu8wwjlNpE0PUj7JPnb8DSc2y1osWN4pPH8U/vuHz8Myx5tjpp08vSlLLT/AIhiLjXaqlFxEBij6DYNbb+ocx57+tJwtu7HODfCCmWh5EotxULinCJICKVlEZayisDScyWpUFaKKmRarPKN0WiokqFFouEVjGJB2AxUkTZopHjbqjFfjberPge3/EI9DKsg/wC4in5rY1VY6nRamyYceT24pjUi9wfSZibWaGFv9Y/M1O30i4g+zDCp6+M/mKo8S0Sgqd9B0/8A4+Y6MSy4jtrjX2kVP6EUfNrmk2JxMkpzSu7nqzFvhfaoVNPuzeAzm5XMDoFy5ix3OUW8uXSiWLHiVxih0YoRZayrf3UGtosrBipRlKsCDzVrEf2oLFxw7FRfqun4Vvjdmhix2tmV29elqZy8GJ1Q+40sxsTRg5hRxyRlwDKDjyVztBi9Qg/vSVgan4qx7035f2oaSa9j0quKpHm5XcmbzC4sOQ09aN7HdnXxuMjwynLmuXb7ka6s3ryHmRSzvdK6t9B2HJbE4kgbRRp73JkIt5hfga18C0rZ13gfBsPhYhFBGqKNzuzn7zsdWNa8T4JFMD4Qj8nUAG/mPtD1+VGxHSpCaW6ezDUnF2mck7V9n1cNBiFsyi6uNwPvRnmORHx5GmPY/hrtIInDMFAMkoUrGB9mKPzta55bDyuPa3honw7Ee2gLKfd4194uPW3SveyXEFlw4UWDR+FlHnex/EX6qan8JaqfHJZPPePUlvwxyo5DQDYDkK2FaK2pFesbVTsRG1ayICLEAjYgi4IOhB8jW1ZXHHFe3PZk8PMssTgQSi0UZvYNqTEWOi2F8t9wSu41rfZ7DH+JlaVsqymXDJfm8hKpc+TBLmvoLjHDUxMMkEnsyKVJsCVJGjC+lwda432w7B48QhwiOkS3YRt47geNwltdQW0N9a6rVHRlpdrsVeWMi6kWIJBB3BB1B99KykqSKYiQxIXTncgWPlVj7/8AjIjiV/xkA/iUHM7DEKB9lvtdGvyIpp2L7LS4mTvljBSM+2bAZ7bC+5APLypNtWj3ck8ebCp3X8DrGJljAPlf31SsbpK48x+Aq+dp8O8I+sUrpp0PoedUEQsymQA2NydD639LEUjBFq7Cx5I2nYw4ViLjuzyF0PkNWX8/jRhpTwhbyr5BifQIb/Kmt6Y+Qc6SlsaEVle1lYIo5oi0RGlaRii4Uqw8lIxI6IjWt0jqZUoGxyibRrRCLWka1OtCxiRIgqdagWtw1YOQQBXQ/o1whjRp2AOZiIyRqqn27HkCwH+mubh6Z8L49NB/hucv3Dqvw5e61KyKTX6TWrVHUOLcAOJnLs+VLCzJ/iaD2bEEbm9/dQc/YKC5aOWVHO+Y50Jtb2Tqv/iQKW8H7fYdmCTMIXOxJ8BP9ey/+VvWrtFjQbX2PMUuM0tsipiZPIqp8FJxvAMRDclO8Ua3jN9PNPa+ANVHtFMGRuo3B09xrsWOwIlU2Otrc7W3sQPO1c+43wIG8cy3J3N/FbqHBvfnrv8AEVzioyTXA7FleSLT5OIzPmN+u1DsKe9p+y8mFclQWw5a0chIJ2vlewFm0PIA0jW5JF99Kvi01aPNmmnUg7gXB3xMqRggXOpJsALEk+tgT7q7D2JfusQ2Hj0jMS5RYA/VtodLa2bXrvSrsvwZMJgVkIvPiRmv9yHkqjlfY77HWxozh+IEU8Uh2uFPo3hvp03qbJl/Wkel03Tf6pSfL/g6tC2lv35fvyqe9qHgGl9fn+FTKaYeeaYmRQjltFCsT0Atr+dcj4BxV8LjO+BJjchZF5ZSoB94IDD0PU1aO3nGHzHCqLKMrOeb3FwvkOvW3xosBJldTsyrl/qUt+IPypGTJUtux6OHp/8AS3LudrmlLKJYjmFr2+8OnkangmWRQym4P7sfOqX2Y4s6qMvi+9Hza2mZP5xsRzptDxOJWMsbgAkd7E3hYH7yg/aHMc7U1TXJFLG1sP4HuLcxpUtBI12zKbggEEVNc9aNS2FtEuase/I291/dWqaVvWmHLZ/ohZMQMRg8aYjmJIZASisfEEsbMtrjIwsRoTXSuHYJII1ijUKq30AsCSbsbcrkk0TevK06+wm7Y8PWfBToRr3bsh6OqllPyt6GuP8ACcdJGS2I8OYalh4yQABlQC97b2W2mtiST0v6U+JGDhmJI9p17pbb3lOQn3KWPur50wH1bLcWvvY2JBAO49a2MNTC8XRFxr6HRcJPE5kESGMHLZm9twSSM2pAF7aC2wvetMhvbnSzhUrNmBN2GVb9VGYgn409F9xzP7/WqJdLGSVbCYddOF6t/IiGEbqB8f0rKKE69CfPT8yKyt/J4vX7+Bn+Qzehy2IUbCKHjSjIVqWRREKjWpgtaRVPloChI1C1IprRakFYGkb2rL1rW8MZY2A9+v4cz5VjdBo9AvUqYKR/Zso+8fyFNcLg1UbXPO/y/fnRYqeWbyLcfTqrkIG7NqRqxJ6k6m9MsBLjMCR/Cv3kXOCS5XzyHdD6aeRosy+ID3/D+9Ed5S3kk+Rjwwaqi1dne16TWVg0Ep/y5NmP/bf2X9N/Kje2OPRcOGyXlZ1RDba7DOT/AC5Qd9L2rnuKIcFW9k71PFLIVVXleXICELakAnYtz5anXQUMZVx+xO+jWpSTNO0eDOIw7x8yoy/1rqp9Lg+41ybCj6xVA1zWIaw1zAWPSu0xPfQ+lzVb4r2OjllMySGNyQxsLqWHO2hBPrT8GVRTUhPVdM5tOPI84ri7yFR7MYEa+kahPyJ99K8XMQMw3HiHqLEfhWjYTEITqpsF1CA5yVLFrsNrqQSL2PoaHxnf2fnY5f8ACTVvFytt4Tr8qzQ9V2VwzQUaXbY7ZhJLqDc20J+HM8z6dfeDWYHb+36VzHsr2jnCvG5VmjfIWK22LqbAWA9kVY37TMBoif6T+tOlminTPJ/LTe6K323mX+NkVyQLJZuV8i3uR59ar/cMGYg3ICstvIm/40XNjRI8jMbszE2bUHXQXPloKFwUyCdUBsSGvG17jbUX5aVLJ220e1o04lF9khpgMdks9iUbU23Q9RTzHcXgZczKJDb2ho1vMjf4VWDEY2ZDfK23lU0WFzDXXy5fDahWTSvQiljTdi6fthioX+rNox7KXOn/AJflYirr2K+kOPFsIZrRy8gTo/mpt8qp/EeGgg6VUjwxu8IGhsSDtYgggg9apxTTRNlxs+lZp1UqDuxAA6k1viZQgLHYfM7AfOuOdjO2ZWRVxhJeMEI7NlD6WFydFa1/I+tOuJ/SdDJLHCsbZA4zPcFSeQB+7fc+VNtk7x7o6XE+mtblhVMPaKZM31YcWLWFy1gCTYAXJsDoLmq9j/pKjMTdxdpSPqyQcilhozE2uBvYb0WozQJfpd7Q9/jEwiG8UN1cg6GdgN/6VNvVmqiTYF3dEQXbb/QbEk8hqfgKIw+GYszG5ZiSwO5lGoN+pPPzqzcLwgQW3P2m6+Xp+NXY8e1EOSe9hOCwaxrZdSdWbqTy9OlEGQDXf7o66dPf+9L4TztcX021Pp8f3uPiZbXubsed9vIfrVHoI9QDHRRmRiyi53ta17ctayleKnu5N/wrysN3AIoKIWKi44KmEVeXZ7SxgaLUwFTmGtGW2vIUIaVGgS5sOdHtwaWwK5Df+Yj8qVYbiCByTbw7X13Gu2xsd9asvCsWGjVhqCPwNKyylHdFPTwx5U1e4FBwl/8AM8IHSxJ8hqbetMxFkACeEdOZ9TU0hJ1FRnU1PKblyW48UYcHhk3H72FeK16hlbxHzAryGTW1DQ/SSxP4z5AD46/pRDNpQeAGrHqfwFqPrGCwWa/LfpW8Tt0tW0leBTz0FdZ17BCHmW+Fa4pWKkxnxD338q0XoNqk73L+lcA0C4zjRClZHaxyxaBR4UuQNtDprfrQ8U8bH25PiNv0rzjHDlm1VjExILELmVrbEi+h5Xqs4uKeG5KhlB9oXF9bCqI1LvuSPEoXsy8YQqL5SzFiLliDtf8AWicbKAnnVEwHaQjQj4/8U8w+OMpGbbptQTxtbsPFUvZPRGxFniU/+f8A9aCkGSeE2YDNaxbMPECNL7a2p4kYA0+TWpRxwWyMDs6HcH7Y94rIO3RRl3iy0TnQHetsPtpt/eooXutZhWtpUhMSyxA3pO2FAmTzJHyJ/KnqHWg+ILZ42/mH6UUJUBJCHjXC99KrEuBZSbCuoY7Chhe1I58ANdKow56W4nJiT3H3Y/HmXumbRhZi3S3te7ehO2fZlRKk+Gw47l799kuDG1mOfINAhsLkbHfet+yvDmIITQKTmv8Ad3H5/Cl/aTtQZVMGHY919t9u8/lG1k69fTe6EXk2RDOXh7sSC2bwgdLi+ovp8rUziIC9Op5k9B7zb93oHBx2F/h5np/zy1qeSXn0B9PWx+XkfM16cIqMVFHmTm5ycmSTSgXPM7D7q9PwpRi8Rz67eQ0qXEz31P76UqxU2hv+/wDitboyKA1lvc+Z/E1lBxy2HxPPmb1lJ1sZpHQxjFyEyWGgv9s72DA2BsdOtFR8QTZ7o3MMLfOgI8PFNfIwh08SMbrmG2XrufjU+KwuKS6ujgAA+JNQBsQxUtlseR10qPQj0o5WGjFAvkRS5sSSLZRbqf0vQkqKyr30uUsblCMoAtoNd9wTc8tqEw0zoVKI7ggarEWsuumYHlY8uRrfFY7DTA3lCnTwEkD/AHILH0JPrWqNAyyOXINxPCwx6qQ9+YN9bc9aa9keIq8fc3AkQkgHZlJJ08xf86rXEkiUeBr+YKnW/VSQR660qic51ykg5hZhoQb6EV08anGmbhzvDPUjrsTHY+8fpXmwoLAY3MArm7Wtm0GY+dtjRo3t8q82UWnTPoYTU1aIJRcBumlDu9jeioSDmWleMNjWxV7DUxpwkeH33owEXpdwSX6s35G34Uesy0MuRbNMb3ii6Jm062tSdcfiidMPKwIuGEUpButxYhdQdr+/arBCjTsETa4zt0W9z6mwOnlV0hmtbTQWsOgGgHwFapKK3RNnySVKLOUz8cmW6NAyuDlKlXuOuwreLtK4svcGxAu1n39y69KV9sOEPHipyZs+ZzISA3hEpLKrdN7fCoOz/ZFsXK0YkEeVcxZlJBF7Cw0vf4VV4ePTZE+ozFqwvE8RIqvHg5GUkglUkbKR1AS+1vjU08MssTLPE0RdTZWUhhYgg2IB3FWvstwoYPDLh1IYglmYDKGZtza55AfCgO1hPeo23gt/uap5Sjf6UUYJzlKpM5/JwXUAg3HMb/8ANO8DCqjqfMCmgs3tAVr3KLqD7qyWRyW5atK4VGDbU60t4tGSn/kv/wDQo8vuaX8VYmMjlmU/BwayPJj9ljLAyXUelFR9aW4NtCKYYc9aTJbkpMj1pxc+AHoQfnWynpUPEPYNCuTGOUOZRQc0OtTYJ/CBXs1BwwRdi8Y0GHxYU3MwjRB0GY97/wDrzfDzqqiAKQ2ykXvyq18cjBjHkwv7wRVazWGRz4NHFt1Da5rcwG+G/Kvofw93ht+Z4XXbZaXkSO2uo0I0HTyPnpcj3cjQmKnv+Zr2QnKVPtLz5MNwR++dL5n5jY/I8xVrZIkeTz3oCck2Uak6AetbTSWHpTDg+Ht9Y3tHb+Vf1NTZMmlFWHC5uivs6AkE2IJBHp6Aisp3iuz8Tuz5nXMbkKVtc72uKyleONfSTs8x/Cg12QC53XQX81PI0Lh+M4yFTAkj5bWyeXSzDT3U4SWtjiKSpNFTxxe62FPA+0mOwbl40Yg7rIjMp/DWpsX2qhmK58FAJBuzKDe+/hsB7jceVHHG21Jqn47FGV2kPPbyUbCmRbYnJFR4ZNxdke7iwJ6Kqj0AUAAUDwmO8y+RzH3f82qKRiTlFMcJKsa2G/M9T+lE+BcacrHpxFMcBxcaLIQNbBj15A1VTjqDxk+akvEpLcsj1Txu0dGlfK3S9BcVXS9Vnh3aORFEco71BoL+0o8jz9DRrcUhYXUm55NoR+XwpHgyiz04dbjyR5p+pYOzstkv5/oKbyYdSMwHuqtcJxQWMX53PuJNqcQcSUWN9iL+QvrSZxeooXsqXoWvs5hcsbMNMxt65Tr6gG49xtvTlV/flW2FgRI0RSCqooBGxsND7/zqUgfKlM8xzt2cx43iQmKxUeKVxHMyWylUJWN0ZMpfwspAsSDcXOl6sHYmCZnnxcy5O9yiNdQFjUWAUG3hAy2NtauNx+FeG2pvTJTuNUL7kCDkf3ypF2swzNlddkQltr2LWHO/y5VZABSLtLASyEEAmOZLX0OYxkaczdRbzPnS0NxyqSZVRiPdXoudTWkKg63qDGcTRPDfX8KOvI9X3BLNQXFJfqnPS34ih/8AqAPsi/61FxKa0TA9NelHGO6Bmv0seQga0ZHfpQmHjNgbHW1MPcfhU8yI8STKbEXrfiMgZDb4ULijUTDTesUe4NjbCP4RU8ji3zoLCNpapXblzoGjRdxqYd27ak3jFr6Ad6maw62/Cq5iZd3G4NyBtpoR7wT8ugp5xtbRsxNl0ufVlF/iRVZmxSWurX67j8df7V7n4e6xu/P+jxuvV5F7v5ZvI4FrHTdf5b7j+k0FPIBfodfQ8xQ8mKsN9iR+Y+RFCpeQ72HM/kKqnkJYY29kEYWPO1z7I+Z6elOBLS5FsABati5FRSepnqYorHGhj3teUv7815Q0N1hMT0RFKnPT3XrKytaEWwhuHRuPaIvzA2+dQnsQkhBGIy3P3Nz7udZWUtzceDJJPkKj+jtFOkw9SG/Sopuww5TJ/v8A/hWVlL8admxiq4NIfo/d9UdT8fzAqST6L8TbMLW63X82rKyiWaRkkl2I8J9GsrAl3tbTQKT77sK3/wDTW28rf6E/+dZWUE8s1wyiGLG17Pz/ALGEPCVUd0yAFAApB9pNhfz5e6oON8OTDx9+t7qRZW1Fz1tr/avKygTetI9GU34b9zIeBdt5bdzZL/5Y8WW9vY5lQTsdbbbWtM/0hyqSrwC4JBHeHQqbEaA86ysqrwYNvY8pZZabNh9I7c4T7nv+IqVfpGU7xP8AFTWVlb+Xh5G+LIw/SEP/AMb/AO39ang44+Nt3LPDJCwdX0O4KkWvqD+VZWUvJhjCLkuw3FNymkzbEwKzd5MpgYau8VjDL/MY9WjbrYEGj0wiRrmVQARfMBqR1vv8aysqaXspl0ZPVp7CfEzojEvZgTo2W5Avt6VmIwEM8e5At0Ne1la9kmPk+whTtrEp1jc5TuMtjb30Z/6hQE6xy/7Pl4q9rKu/KYnu0fOvrMtk6dvcKecif1KSP9pNGxcbgmH1bhr/AMjL8yorKykZOlhFWh2LqZydMd8OkBFiAPjRM+IRRdmA9xP4CsrKh0pzotk6ViXjnEsGYZc0mV5IyobLIbNbwm1re0F+Fct/juvvrKyvU6eHhxaTPK6mWqSs8WbN6fjRsJPIVlZTXuDj2Co4HP8Aephhn617WUtlSR4cM/WsrKyss3Sf/9k=)"
      ],
      "metadata": {
        "id": "jRBj_3NYXc10"
      }
    },
    {
      "cell_type": "code",
      "source": [
        "build_chart('Romance').head(15)"
      ],
      "metadata": {
        "_kg_hide-input": false,
        "execution": {
          "iopub.status.busy": "2021-10-03T09:19:49.735185Z",
          "iopub.execute_input": "2021-10-03T09:19:49.735862Z",
          "iopub.status.idle": "2021-10-03T09:19:49.815077Z",
          "shell.execute_reply.started": "2021-10-03T09:19:49.735814Z",
          "shell.execute_reply": "2021-10-03T09:19:49.814301Z"
        },
        "trusted": true,
        "id": "F6zUcPAUXc2k"
      },
      "execution_count": null,
      "outputs": []
    },
    {
      "cell_type": "markdown",
      "source": [
        "**Observations:** Well no wonders, the movie \"Dilwale Dulhaniya Le Jayenge\" starring Shah Rukh Khan- the King of Romance would top this list!"
      ],
      "metadata": {
        "id": "s7jqgZkvXc2l"
      }
    },
    {
      "cell_type": "markdown",
      "source": [
        "# Content Based Recommender\n",
        "\n",
        "The recommender we built in the previous section suffers some severe limitations. For one, it gives the same recommendation to everyone, regardless of the user's personal taste.\n",
        "\n",
        "For a person who loves codemy movies (and hates drama) were to look at our Top 15 Chart,he/she wouldn't probably like most of the movies. If he/she were to go one step further and look at our charts by genre, still wouldn't be getting the best recommendations.\n",
        "\n",
        "For instance, consider a person who loves Dilwale Dulhania Le Jayenge, My Name is Khan and Kabhi Khushi Kabhi Gham. One inference we can obtain is that the person loves the actor Shahrukh Khan and the director Karan Johar. Even if he/she were to access the romance chart, they wouldn't find these as the top recommendations.\n",
        "\n",
        "To personalise our recommendations more, we will be going to build an engine that computes similarity between movies based on certain metrics and suggests movies that are most similar to a particular movie that a user liked.\n",
        "\n",
        "Since we will be using movie metadata (or content) to build this engine, this also known as Content Based Filtering.\n",
        "\n",
        "We will build two Content Based Recommenders based on:\n",
        "\n",
        "1. Movie Overviews and Taglines\n",
        "2. Movie Cast, Crew, Keywords and Genre\n",
        "\n",
        "Also, as mentioned in the introduction, we will be using a subset of all the movies available to us due to limiting computing power available to me."
      ],
      "metadata": {
        "id": "my-ALOUuXc2m"
      }
    },
    {
      "cell_type": "code",
      "source": [
        "links_small = pd.read_csv('/kaggle/input/the-movies-dataset/links_small.csv')\n",
        "links_small = links_small[links_small['tmdbId'].notnull()]['tmdbId'].astype('int')"
      ],
      "metadata": {
        "_kg_hide-input": false,
        "execution": {
          "iopub.status.busy": "2021-10-03T09:19:49.816259Z",
          "iopub.execute_input": "2021-10-03T09:19:49.816703Z",
          "iopub.status.idle": "2021-10-03T09:19:49.843032Z",
          "shell.execute_reply.started": "2021-10-03T09:19:49.816662Z",
          "shell.execute_reply": "2021-10-03T09:19:49.841978Z"
        },
        "trusted": true,
        "id": "KklXMrnfXc2n"
      },
      "execution_count": null,
      "outputs": []
    },
    {
      "cell_type": "code",
      "source": [
        "links_small.head()"
      ],
      "metadata": {
        "_kg_hide-input": false,
        "_kg_hide-output": true,
        "execution": {
          "iopub.status.busy": "2021-10-03T09:19:49.844542Z",
          "iopub.execute_input": "2021-10-03T09:19:49.844874Z",
          "iopub.status.idle": "2021-10-03T09:19:49.852829Z",
          "shell.execute_reply.started": "2021-10-03T09:19:49.844841Z",
          "shell.execute_reply": "2021-10-03T09:19:49.851471Z"
        },
        "trusted": true,
        "id": "wzd7rvj3Xc2p"
      },
      "execution_count": null,
      "outputs": []
    },
    {
      "cell_type": "markdown",
      "source": [
        "> Deleting the unwanted input rows. These rows required special treatments of processing, and also protrayed lower weighted scores- hence would not have been a part of the recommendations- So we can safely remove them"
      ],
      "metadata": {
        "id": "sOe2rXAfXc2q"
      }
    },
    {
      "cell_type": "code",
      "source": [
        "meta = meta.drop([19730, 29503, 35587])"
      ],
      "metadata": {
        "_kg_hide-input": false,
        "execution": {
          "iopub.status.busy": "2021-10-03T09:19:49.855079Z",
          "iopub.execute_input": "2021-10-03T09:19:49.855865Z",
          "iopub.status.idle": "2021-10-03T09:19:49.888621Z",
          "shell.execute_reply.started": "2021-10-03T09:19:49.85581Z",
          "shell.execute_reply": "2021-10-03T09:19:49.887458Z"
        },
        "trusted": true,
        "id": "6CF4MulfXc2r"
      },
      "execution_count": null,
      "outputs": []
    },
    {
      "cell_type": "code",
      "source": [
        "meta['id'] = meta['id'].astype('int')"
      ],
      "metadata": {
        "_kg_hide-input": false,
        "execution": {
          "iopub.status.busy": "2021-10-03T09:19:49.890378Z",
          "iopub.execute_input": "2021-10-03T09:19:49.890825Z",
          "iopub.status.idle": "2021-10-03T09:19:49.929017Z",
          "shell.execute_reply.started": "2021-10-03T09:19:49.890777Z",
          "shell.execute_reply": "2021-10-03T09:19:49.927872Z"
        },
        "trusted": true,
        "id": "9mXoiSPSXc2s"
      },
      "execution_count": null,
      "outputs": []
    },
    {
      "cell_type": "code",
      "source": [
        "smd = meta[meta['id'].isin(links_small)]\n",
        "smd.shape"
      ],
      "metadata": {
        "_kg_hide-input": false,
        "_kg_hide-output": true,
        "execution": {
          "iopub.status.busy": "2021-10-03T09:19:49.930431Z",
          "iopub.execute_input": "2021-10-03T09:19:49.93075Z",
          "iopub.status.idle": "2021-10-03T09:19:49.944254Z",
          "shell.execute_reply.started": "2021-10-03T09:19:49.930717Z",
          "shell.execute_reply": "2021-10-03T09:19:49.943059Z"
        },
        "trusted": true,
        "id": "q4eagZbaXc2t"
      },
      "execution_count": null,
      "outputs": []
    },
    {
      "cell_type": "markdown",
      "source": [
        "We have 9099 movies avaiable in our small movies metadata dataset which is 5 times smaller than our original dataset of 45000 movies.\n",
        "\n",
        "**Movie Description Based Recommender**\n",
        "\n",
        "![](data:image/jpeg;base64,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)\n",
        "\n",
        "Let us first try to build a recommender using movie descriptions and taglines. We do not have a quantitative metric to judge our machine's performance so this will have to be done qualitatively."
      ],
      "metadata": {
        "id": "fWXA7A0fXc20"
      }
    },
    {
      "cell_type": "code",
      "source": [
        "smd['tagline'] = smd['tagline'].fillna('')\n",
        "smd['description'] = smd['overview'] + smd['tagline']\n",
        "smd['description'] = smd['description'].fillna('')"
      ],
      "metadata": {
        "_kg_hide-input": false,
        "execution": {
          "iopub.status.busy": "2021-10-03T09:19:49.945621Z",
          "iopub.execute_input": "2021-10-03T09:19:49.945979Z",
          "iopub.status.idle": "2021-10-03T09:19:49.962833Z",
          "shell.execute_reply.started": "2021-10-03T09:19:49.945947Z",
          "shell.execute_reply": "2021-10-03T09:19:49.961981Z"
        },
        "trusted": true,
        "id": "skXub7ZbXc22"
      },
      "execution_count": null,
      "outputs": []
    },
    {
      "cell_type": "markdown",
      "source": [
        "**We shall be using Tfidfvectorizer for this step.**\n",
        "\n",
        "With Tfidftransformer you will systematically compute word counts using CountVectorizer and then compute the Inverse Document Frequency (IDF) values and only then compute the Tf-idf scores. However with Tfidfvectorizer on the contrary, you will do all three steps at once. Under the hood, it computes the word counts, IDF values, and Tf-idf scores all using the same dataset.\n",
        "\n",
        "Please refer to the document for reference: https://kavita-ganesan.com/tfidftransformer-tfidfvectorizer-usage-differences/#.YD6EoyQzY2w"
      ],
      "metadata": {
        "id": "03TVBFbSXc23"
      }
    },
    {
      "cell_type": "code",
      "source": [
        "tf = TfidfVectorizer(analyzer='word',ngram_range=(1, 2),min_df=0, stop_words='english')\n",
        "tfidf_matrix = tf.fit_transform(smd['description'])"
      ],
      "metadata": {
        "_kg_hide-input": false,
        "execution": {
          "iopub.status.busy": "2021-10-03T09:19:49.964184Z",
          "iopub.execute_input": "2021-10-03T09:19:49.964839Z",
          "iopub.status.idle": "2021-10-03T09:19:52.253609Z",
          "shell.execute_reply.started": "2021-10-03T09:19:49.9648Z",
          "shell.execute_reply": "2021-10-03T09:19:52.252507Z"
        },
        "trusted": true,
        "id": "Y47wjuayXc24"
      },
      "execution_count": null,
      "outputs": []
    },
    {
      "cell_type": "markdown",
      "source": [
        "Let's look at the shape of the TF-IDF Vectorizer"
      ],
      "metadata": {
        "id": "9EvNr5fYXc26"
      }
    },
    {
      "cell_type": "code",
      "source": [
        "tfidf_matrix.shape"
      ],
      "metadata": {
        "_kg_hide-input": false,
        "execution": {
          "iopub.status.busy": "2021-10-03T09:19:52.254932Z",
          "iopub.execute_input": "2021-10-03T09:19:52.255244Z",
          "iopub.status.idle": "2021-10-03T09:19:52.261264Z",
          "shell.execute_reply.started": "2021-10-03T09:19:52.255214Z",
          "shell.execute_reply": "2021-10-03T09:19:52.259929Z"
        },
        "trusted": true,
        "id": "X0OxmLI7Xc27"
      },
      "execution_count": null,
      "outputs": []
    },
    {
      "cell_type": "markdown",
      "source": [
        "**Cosine Similarity**\n",
        "I will be using the Cosine Similarity to calculate a numeric quantity that denotes the similarity between two movies. Mathematically, it is defined as follows:\n",
        "\n",
        "cosine(x,y)=(x.y⊺)/(||x||.||y||)\n",
        "\n",
        "Since we have used the TF-IDF Vectorizer, calculating the Dot Product will directly give us the Cosine Similarity Score. Therefore, we will use sklearn's linear_kernel instead of cosine_similarities since it is much faster."
      ],
      "metadata": {
        "id": "YAyP2WaiXc29"
      }
    },
    {
      "cell_type": "code",
      "source": [
        "cosine_sim = linear_kernel(tfidf_matrix, tfidf_matrix)\n",
        "cosine_sim[0]"
      ],
      "metadata": {
        "_kg_hide-input": false,
        "execution": {
          "iopub.status.busy": "2021-10-03T09:19:52.262973Z",
          "iopub.execute_input": "2021-10-03T09:19:52.263377Z",
          "iopub.status.idle": "2021-10-03T09:19:53.906504Z",
          "shell.execute_reply.started": "2021-10-03T09:19:52.263338Z",
          "shell.execute_reply": "2021-10-03T09:19:53.90531Z"
        },
        "trusted": true,
        "id": "qYWrAuZJXc2-"
      },
      "execution_count": null,
      "outputs": []
    },
    {
      "cell_type": "markdown",
      "source": [
        "We now have a pairwise cosine similarity matrix for all the movies in our dataset. The next step is to write a function that returns the 20 most similar movies based on the cosine similarity score."
      ],
      "metadata": {
        "id": "Blbmib7YXc3D"
      }
    },
    {
      "cell_type": "code",
      "source": [
        "smd = smd.reset_index()\n",
        "titles = smd['title']\n",
        "indices = pd.Series(smd.index, index=smd['title'])"
      ],
      "metadata": {
        "_kg_hide-input": false,
        "execution": {
          "iopub.status.busy": "2021-10-03T09:19:53.909101Z",
          "iopub.execute_input": "2021-10-03T09:19:53.909607Z",
          "iopub.status.idle": "2021-10-03T09:19:53.923162Z",
          "shell.execute_reply.started": "2021-10-03T09:19:53.909557Z",
          "shell.execute_reply": "2021-10-03T09:19:53.921777Z"
        },
        "trusted": true,
        "id": "n1riak0XXc3E"
      },
      "execution_count": null,
      "outputs": []
    },
    {
      "cell_type": "code",
      "source": [
        "def get_recommendations(title):\n",
        "    idx = indices[title]\n",
        "    sim_scores = list(enumerate(cosine_sim[idx]))\n",
        "    sim_scores = sorted(sim_scores, key=lambda x: x[1], reverse=True)\n",
        "    sim_scores = sim_scores[1:21]\n",
        "    movie_indices = [i[0] for i in sim_scores]\n",
        "    return titles.iloc[movie_indices]"
      ],
      "metadata": {
        "_kg_hide-input": false,
        "execution": {
          "iopub.status.busy": "2021-10-03T09:19:53.924947Z",
          "iopub.execute_input": "2021-10-03T09:19:53.925344Z",
          "iopub.status.idle": "2021-10-03T09:19:53.932219Z",
          "shell.execute_reply.started": "2021-10-03T09:19:53.925312Z",
          "shell.execute_reply": "2021-10-03T09:19:53.930759Z"
        },
        "trusted": true,
        "id": "gLmBxUUeXc3G"
      },
      "execution_count": null,
      "outputs": []
    },
    {
      "cell_type": "markdown",
      "source": [
        "We're all set. Let us now try and get the top recommendations for a few movies and see how good the recommendations are. We shall take a look into the Indian Movie- **3 Idiots**. I personnaly love that movie- being an engineering student, this movie takes me back to the college days!\n",
        "\n",
        "So before checking the recommendations- let us check what is the **description of this movie?**\n",
        "\n",
        "![](data:image/jpeg;base64,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)"
      ],
      "metadata": {
        "id": "WF046j6aXc3H"
      }
    },
    {
      "cell_type": "code",
      "source": [
        "movie='3 Idiots'\n",
        "print(\"Description of the Movie: \", movie)\n",
        "print('---------------------------------------------------------------------')\n",
        "print(smd[smd['title']==movie]['overview'])"
      ],
      "metadata": {
        "_kg_hide-input": false,
        "execution": {
          "iopub.status.busy": "2021-10-03T09:19:53.933842Z",
          "iopub.execute_input": "2021-10-03T09:19:53.934278Z",
          "iopub.status.idle": "2021-10-03T09:19:53.960633Z",
          "shell.execute_reply.started": "2021-10-03T09:19:53.934245Z",
          "shell.execute_reply": "2021-10-03T09:19:53.958817Z"
        },
        "trusted": true,
        "id": "LPZS2_O0Xc3K"
      },
      "execution_count": null,
      "outputs": []
    },
    {
      "cell_type": "markdown",
      "source": [
        "**Observations:** Okay lets jot down a few points that we need to look for in the recommendations.\n",
        "1. Firstly “Ferris Bueller’s Day Off”- so we get an idea that this movie might be a recommendation.\n",
        "2. A rebellious prankster in the college and his story with the lives of his two newfound best friends.\n",
        "3. The Dean of the college is uptight and heartless- and his name is \"Virus\"\n",
        "4. The Dean has a beautiful daughter- who shall be the love interest of the protagonist\n",
        "\n",
        "So gathering up the points, lets just check our recommendations!"
      ],
      "metadata": {
        "id": "dd8iKCyYXc3b"
      }
    },
    {
      "cell_type": "code",
      "source": [
        "get_recommendations('3 Idiots').head(20)"
      ],
      "metadata": {
        "_kg_hide-input": false,
        "execution": {
          "iopub.status.busy": "2021-10-03T09:19:53.962362Z",
          "iopub.execute_input": "2021-10-03T09:19:53.962862Z",
          "iopub.status.idle": "2021-10-03T09:19:53.991409Z",
          "shell.execute_reply.started": "2021-10-03T09:19:53.962808Z",
          "shell.execute_reply": "2021-10-03T09:19:53.989612Z"
        },
        "trusted": true,
        "id": "BHWS3Wo5Xc3c"
      },
      "execution_count": null,
      "outputs": []
    },
    {
      "cell_type": "markdown",
      "source": [
        "**Observation:** Cool! The first movie predicted is- \"Ferris Bueller's Day Off\", which is present in the description.\n",
        "\n",
        "![](data:image/jpeg;base64,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)\n",
        "\n",
        "Indeed nice choice. We also see college oriented movies like Student of the year, College and Hackers.\n",
        "\n",
        "![](data:image/jpeg;base64,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)\n",
        "\n",
        "The thing which I was amused with most is since the name of the Dean was \"Virus\"- movies like Outbreak and Contagion have been predicted.\n",
        "\n",
        "![](data:image/jpeg;base64,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)\n",
        "\n",
        "Now a point that surprises me is why Lion King? Is it because of the two best friends- maybe an hint to Timon and Pumba! Woah! That was an interesting one\n",
        "\n",
        "![](https://encrypted-tbn0.gstatic.com/images?q=tbn:ANd9GcQeUwVrHEpGQHWgitOSt3gZiNIW4g5RidibGg&usqp=CAU)\n",
        "\n",
        "So indeed we have been able to go for nice predictions!!! I already love it!\n",
        "\n",
        "\n",
        "\n",
        "\n",
        "\n",
        "\n",
        "> Now let us look into another movie- another classic- **The Dark Knight** - but before checking, we shall look into the description here as well\n",
        ">\n",
        "![](data:image/jpeg;base64,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)"
      ],
      "metadata": {
        "id": "NCM4Ug12Xc3g"
      }
    },
    {
      "cell_type": "code",
      "source": [
        "movie='The Dark Knight'\n",
        "print(\"Description of the Movie: \", movie)\n",
        "print('---------------------------------------------------------------------')\n",
        "print(smd[smd['title']==movie]['overview'])"
      ],
      "metadata": {
        "_kg_hide-input": false,
        "execution": {
          "iopub.status.busy": "2021-10-03T09:19:53.993076Z",
          "iopub.execute_input": "2021-10-03T09:19:53.993599Z",
          "iopub.status.idle": "2021-10-03T09:19:54.00891Z",
          "shell.execute_reply.started": "2021-10-03T09:19:53.993548Z",
          "shell.execute_reply": "2021-10-03T09:19:54.007805Z"
        },
        "trusted": true,
        "id": "9uSPFKYpXc3n"
      },
      "execution_count": null,
      "outputs": []
    },
    {
      "cell_type": "markdown",
      "source": [
        "**Observation** Well, as we have all seen- the movie is mainly the story of Batman, and how he fights criminals to protect the city of Gotham. Another very important part of this movie will be the main antagonist- the Joker. Lets take a look at the recommendations now!"
      ],
      "metadata": {
        "id": "aqRJlzCYXc3o"
      }
    },
    {
      "cell_type": "code",
      "source": [
        "get_recommendations('The Dark Knight').head(20)"
      ],
      "metadata": {
        "_kg_hide-input": false,
        "execution": {
          "iopub.status.busy": "2021-10-03T09:19:54.010762Z",
          "iopub.execute_input": "2021-10-03T09:19:54.011153Z",
          "iopub.status.idle": "2021-10-03T09:19:54.033921Z",
          "shell.execute_reply.started": "2021-10-03T09:19:54.011101Z",
          "shell.execute_reply": "2021-10-03T09:19:54.032973Z"
        },
        "trusted": true,
        "id": "pXA0k3woXc3p"
      },
      "execution_count": null,
      "outputs": []
    },
    {
      "cell_type": "markdown",
      "source": [
        "**Observations:** We see that for The Dark Knight, our system is able to identify it as a Batman film and subsequently recommend other Batman films as its top recommendations.\n",
        "\n",
        "![](data:image/jpeg;base64,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)\n",
        "\n",
        "However based on the mention of criminal organizations in the description- there are also some movies recommended that were on the theme of Police and Crimes- To End all Wars, Q&A etc\n",
        "\n",
        "![](data:image/jpeg;base64,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)\n",
        "\n",
        "> But unfortunately, that is all this system can do at the moment. This is not of much use to most people as it doesn't take into considerations very important features such as cast, crew, director and genre, which determine the rating and the popularity of a movie. Someone who liked The Dark Knight probably likes it more because of Nolan and would hate Batman Forever and every other substandard movie in the Batman Franchise.\n",
        ">\n",
        "> Therefore, we are going to use much more suggestive metadata than Overview and Tagline. In the next subsection, we will build a more sophisticated recommender that takes genre, keywords, cast and crew into consideration."
      ],
      "metadata": {
        "id": "AZMQx4ewXc3q"
      }
    },
    {
      "cell_type": "markdown",
      "source": [
        "# Metadata Based Recommender\n",
        "To build our standard metadata based content recommender, we will need to merge our current dataset with the crew and the keyword datasets. Let us prepare this data as our first step."
      ],
      "metadata": {
        "id": "8XdmfUsNXc3v"
      }
    },
    {
      "cell_type": "code",
      "source": [
        "credits = pd.read_csv('/kaggle/input/the-movies-dataset/credits.csv')\n",
        "keywords = pd.read_csv('/kaggle/input/the-movies-dataset/keywords.csv')"
      ],
      "metadata": {
        "_kg_hide-input": false,
        "execution": {
          "iopub.status.busy": "2021-10-03T09:19:54.043766Z",
          "iopub.execute_input": "2021-10-03T09:19:54.044159Z",
          "iopub.status.idle": "2021-10-03T09:19:58.132011Z",
          "shell.execute_reply.started": "2021-10-03T09:19:54.044124Z",
          "shell.execute_reply": "2021-10-03T09:19:58.131026Z"
        },
        "trusted": true,
        "id": "1Os8e6CxXc3x"
      },
      "execution_count": null,
      "outputs": []
    },
    {
      "cell_type": "code",
      "source": [
        "keywords.head()"
      ],
      "metadata": {
        "_kg_hide-input": false,
        "execution": {
          "iopub.status.busy": "2021-10-03T09:19:58.13334Z",
          "iopub.execute_input": "2021-10-03T09:19:58.133642Z",
          "iopub.status.idle": "2021-10-03T09:19:58.144411Z",
          "shell.execute_reply.started": "2021-10-03T09:19:58.133611Z",
          "shell.execute_reply": "2021-10-03T09:19:58.143169Z"
        },
        "trusted": true,
        "id": "bLNxtASeXc3z"
      },
      "execution_count": null,
      "outputs": []
    },
    {
      "cell_type": "code",
      "source": [
        "credits.head()"
      ],
      "metadata": {
        "_kg_hide-input": false,
        "execution": {
          "iopub.status.busy": "2021-10-03T09:19:58.14591Z",
          "iopub.execute_input": "2021-10-03T09:19:58.146269Z",
          "iopub.status.idle": "2021-10-03T09:19:58.168711Z",
          "shell.execute_reply.started": "2021-10-03T09:19:58.146237Z",
          "shell.execute_reply": "2021-10-03T09:19:58.167579Z"
        },
        "trusted": true,
        "id": "kixaF0CbXc30"
      },
      "execution_count": null,
      "outputs": []
    },
    {
      "cell_type": "code",
      "source": [
        "keywords['id'] = keywords['id'].astype('int')\n",
        "credits['id'] = credits['id'].astype('int')\n",
        "meta['id'] = meta['id'].astype('int')\n",
        "meta.shape"
      ],
      "metadata": {
        "_kg_hide-input": false,
        "_kg_hide-output": true,
        "execution": {
          "iopub.status.busy": "2021-10-03T09:19:58.170502Z",
          "iopub.execute_input": "2021-10-03T09:19:58.170876Z",
          "iopub.status.idle": "2021-10-03T09:19:58.183469Z",
          "shell.execute_reply.started": "2021-10-03T09:19:58.170841Z",
          "shell.execute_reply": "2021-10-03T09:19:58.182411Z"
        },
        "trusted": true,
        "id": "kDPTzSwaXc32"
      },
      "execution_count": null,
      "outputs": []
    },
    {
      "cell_type": "code",
      "source": [
        "meta = meta.merge(credits, on='id')\n",
        "meta = meta.merge(keywords, on='id')"
      ],
      "metadata": {
        "_kg_hide-input": false,
        "execution": {
          "iopub.status.busy": "2021-10-03T09:19:58.185278Z",
          "iopub.execute_input": "2021-10-03T09:19:58.185663Z",
          "iopub.status.idle": "2021-10-03T09:19:58.374137Z",
          "shell.execute_reply.started": "2021-10-03T09:19:58.185601Z",
          "shell.execute_reply": "2021-10-03T09:19:58.373095Z"
        },
        "trusted": true,
        "id": "IlPbH-1NXc33"
      },
      "execution_count": null,
      "outputs": []
    },
    {
      "cell_type": "markdown",
      "source": [
        "Let's look at the shape of the smaller metadata"
      ],
      "metadata": {
        "id": "_1o_2dvDXc34"
      }
    },
    {
      "cell_type": "code",
      "source": [
        "smd = meta[meta['id'].isin(links_small)]\n",
        "smd.shape"
      ],
      "metadata": {
        "_kg_hide-input": false,
        "execution": {
          "iopub.status.busy": "2021-10-03T09:19:58.375782Z",
          "iopub.execute_input": "2021-10-03T09:19:58.376121Z",
          "iopub.status.idle": "2021-10-03T09:19:58.440217Z",
          "shell.execute_reply.started": "2021-10-03T09:19:58.376087Z",
          "shell.execute_reply": "2021-10-03T09:19:58.439145Z"
        },
        "trusted": true,
        "id": "i62ice6yXc35"
      },
      "execution_count": null,
      "outputs": []
    },
    {
      "cell_type": "markdown",
      "source": [
        "We now have our cast, crew, genres and credits, all in one dataframe. Let us wrangle this a little more using the following intuitions:\n",
        "\n",
        "1. **Crew:** From the crew, we will only pick the director as our feature since the others don't contribute that much to the feel of the movie.The director's touch was the most important parameter as we have seen in the above segment.\n",
        "\n",
        "2. **Cast:** Choosing Cast is a little more tricky. Lesser known actors and minor roles do not really affect people's opinion of a movie. Therefore, we must only select the major characters and their respective actors. Arbitrarily we will choose the top 4 actors that appear in the credits list."
      ],
      "metadata": {
        "id": "q1MgvoeiXc36"
      }
    },
    {
      "cell_type": "code",
      "source": [
        "smd['cast'] = smd['cast'].apply(literal_eval)\n",
        "smd['crew'] = smd['crew'].apply(literal_eval)\n",
        "smd['keywords'] = smd['keywords'].apply(literal_eval)\n",
        "smd['cast_size'] = smd['cast'].apply(lambda x: len(x))\n",
        "smd['crew_size'] = smd['crew'].apply(lambda x: len(x))"
      ],
      "metadata": {
        "_kg_hide-input": false,
        "execution": {
          "iopub.status.busy": "2021-10-03T09:19:58.441615Z",
          "iopub.execute_input": "2021-10-03T09:19:58.442146Z",
          "iopub.status.idle": "2021-10-03T09:20:12.064168Z",
          "shell.execute_reply.started": "2021-10-03T09:19:58.442108Z",
          "shell.execute_reply": "2021-10-03T09:20:12.063265Z"
        },
        "trusted": true,
        "id": "ek1XBr5yXc37"
      },
      "execution_count": null,
      "outputs": []
    },
    {
      "cell_type": "code",
      "source": [
        "def get_director(x):\n",
        "    for i in x:\n",
        "        if i['job'] == 'Director':\n",
        "            return i['name']\n",
        "    return np.nan"
      ],
      "metadata": {
        "_kg_hide-input": false,
        "execution": {
          "iopub.status.busy": "2021-10-03T09:20:12.065497Z",
          "iopub.execute_input": "2021-10-03T09:20:12.065977Z",
          "iopub.status.idle": "2021-10-03T09:20:12.0711Z",
          "shell.execute_reply.started": "2021-10-03T09:20:12.065945Z",
          "shell.execute_reply": "2021-10-03T09:20:12.069869Z"
        },
        "trusted": true,
        "id": "PVCQRunNXc39"
      },
      "execution_count": null,
      "outputs": []
    },
    {
      "cell_type": "code",
      "source": [
        "smd['director'] = smd['crew'].apply(get_director)"
      ],
      "metadata": {
        "_kg_hide-input": false,
        "execution": {
          "iopub.status.busy": "2021-10-03T09:20:12.072546Z",
          "iopub.execute_input": "2021-10-03T09:20:12.072887Z",
          "iopub.status.idle": "2021-10-03T09:20:12.109872Z",
          "shell.execute_reply.started": "2021-10-03T09:20:12.072855Z",
          "shell.execute_reply": "2021-10-03T09:20:12.108869Z"
        },
        "trusted": true,
        "id": "dkF8cGa-Xc4A"
      },
      "execution_count": null,
      "outputs": []
    },
    {
      "cell_type": "code",
      "source": [
        "smd['cast'] = smd['cast'].apply(lambda x: [i['name'] for i in x] if isinstance(x, list) else [])\n",
        "smd['cast'] = smd['cast'].apply(lambda x: x[:4] if len(x) >=4 else x)\n"
      ],
      "metadata": {
        "_kg_hide-input": false,
        "execution": {
          "iopub.status.busy": "2021-10-03T09:20:12.112142Z",
          "iopub.execute_input": "2021-10-03T09:20:12.112716Z",
          "iopub.status.idle": "2021-10-03T09:20:12.291614Z",
          "shell.execute_reply.started": "2021-10-03T09:20:12.112666Z",
          "shell.execute_reply": "2021-10-03T09:20:12.290183Z"
        },
        "trusted": true,
        "id": "ccxyhq-5Xc4C"
      },
      "execution_count": null,
      "outputs": []
    },
    {
      "cell_type": "code",
      "source": [
        "smd['keywords'] = smd['keywords'].apply(lambda x: [i['name'] for i in x] if isinstance(x, list) else [])"
      ],
      "metadata": {
        "_kg_hide-input": false,
        "execution": {
          "iopub.status.busy": "2021-10-03T09:20:12.293308Z",
          "iopub.execute_input": "2021-10-03T09:20:12.293645Z",
          "iopub.status.idle": "2021-10-03T09:20:12.333477Z",
          "shell.execute_reply.started": "2021-10-03T09:20:12.293611Z",
          "shell.execute_reply": "2021-10-03T09:20:12.332403Z"
        },
        "trusted": true,
        "id": "2nd51lJpXc4E"
      },
      "execution_count": null,
      "outputs": []
    },
    {
      "cell_type": "markdown",
      "source": [
        "Our approach to building the recommender is going to be extremely hacky. What we plan on doing is creating a metadata dump for every movie which consists of genres, director, main actors and keywords. Then we use a similar apporach as above-i.e. Count Vectorizer to create our count matrix as we did in the Description Recommender.\n",
        "The remaining steps would be similar to what we did earlier: we calculate the cosine similarities and return movies that are most similar.\n",
        "\n",
        "These are steps that we need to follow in the preparation of genres and credits data:\n",
        "\n",
        "1. Strip Spaces and Convert to Lowercase from all our features. This way, our engine will not confuse between George Clooney and George Hamilton.\n",
        "2. Mention Director 3 times to give it more weight relative to the entire cast"
      ],
      "metadata": {
        "id": "Gmy_l2UJXc4F"
      }
    },
    {
      "cell_type": "code",
      "source": [
        "smd['cast'] = smd['cast'].apply(lambda x: [str.lower(i.replace(\" \", \"\")) for i in x])"
      ],
      "metadata": {
        "_kg_hide-input": false,
        "execution": {
          "iopub.status.busy": "2021-10-03T09:20:12.335021Z",
          "iopub.execute_input": "2021-10-03T09:20:12.335516Z",
          "iopub.status.idle": "2021-10-03T09:20:12.397226Z",
          "shell.execute_reply.started": "2021-10-03T09:20:12.335483Z",
          "shell.execute_reply": "2021-10-03T09:20:12.396205Z"
        },
        "trusted": true,
        "id": "YxsKKHkiXc4H"
      },
      "execution_count": null,
      "outputs": []
    },
    {
      "cell_type": "code",
      "source": [
        "smd['director'] = smd['director'].astype('str').apply(lambda x: str.lower(x.replace(\" \", \"\")))\n",
        "smd['director'] = smd['director'].apply(lambda x: [x,x,x])"
      ],
      "metadata": {
        "execution": {
          "iopub.status.busy": "2021-10-03T09:20:12.398452Z",
          "iopub.execute_input": "2021-10-03T09:20:12.398739Z",
          "iopub.status.idle": "2021-10-03T09:20:12.42152Z",
          "shell.execute_reply.started": "2021-10-03T09:20:12.398708Z",
          "shell.execute_reply": "2021-10-03T09:20:12.420103Z"
        },
        "trusted": true,
        "id": "kQ5FKEOCXc4I"
      },
      "execution_count": null,
      "outputs": []
    },
    {
      "cell_type": "markdown",
      "source": [
        "Keywords\n",
        "\n",
        "We will do a small amount of pre-processing of our keywords before putting them to any use. As a first step, we calculate the frequenct counts of every keyword that appears in the dataset."
      ],
      "metadata": {
        "id": "Q7jbFgiVXc4K"
      }
    },
    {
      "cell_type": "code",
      "source": [
        "s = smd.apply(lambda x: pd.Series(x['keywords']),axis=1).stack().reset_index(level=1, drop=True)\n",
        "s.name = 'keyword'"
      ],
      "metadata": {
        "execution": {
          "iopub.status.busy": "2021-10-03T09:20:12.422935Z",
          "iopub.execute_input": "2021-10-03T09:20:12.423526Z",
          "iopub.status.idle": "2021-10-03T09:20:17.965916Z",
          "shell.execute_reply.started": "2021-10-03T09:20:12.423493Z",
          "shell.execute_reply": "2021-10-03T09:20:17.965043Z"
        },
        "trusted": true,
        "id": "vK7dqztBXc4L"
      },
      "execution_count": null,
      "outputs": []
    },
    {
      "cell_type": "code",
      "source": [
        "s = s.value_counts()\n",
        "s[:10]"
      ],
      "metadata": {
        "_kg_hide-input": false,
        "_kg_hide-output": true,
        "execution": {
          "iopub.status.busy": "2021-10-03T09:20:17.967016Z",
          "iopub.execute_input": "2021-10-03T09:20:17.967452Z",
          "iopub.status.idle": "2021-10-03T09:20:18.008732Z",
          "shell.execute_reply.started": "2021-10-03T09:20:17.96742Z",
          "shell.execute_reply": "2021-10-03T09:20:18.007429Z"
        },
        "trusted": true,
        "id": "QKV_QvQ0Xc4N"
      },
      "execution_count": null,
      "outputs": []
    },
    {
      "cell_type": "markdown",
      "source": [
        "Keywords occur in frequencies ranging from 1 to 610. We do not have any use for keywords that occur only once. Therefore, these can be safely removed."
      ],
      "metadata": {
        "id": "vfIBwU47Xc4a"
      }
    },
    {
      "cell_type": "code",
      "source": [
        "s = s[s > 1]"
      ],
      "metadata": {
        "_kg_hide-input": false,
        "execution": {
          "iopub.status.busy": "2021-10-03T09:20:18.010173Z",
          "iopub.execute_input": "2021-10-03T09:20:18.010636Z",
          "iopub.status.idle": "2021-10-03T09:20:18.021803Z",
          "shell.execute_reply.started": "2021-10-03T09:20:18.010602Z",
          "shell.execute_reply": "2021-10-03T09:20:18.020587Z"
        },
        "trusted": true,
        "id": "uAs5bvxeXc4d"
      },
      "execution_count": null,
      "outputs": []
    },
    {
      "cell_type": "markdown",
      "source": [
        "Finally, we will convert every word to its stem so that words such as Sportingly and Sport are considered the same."
      ],
      "metadata": {
        "id": "kErmzYZuXc4f"
      }
    },
    {
      "cell_type": "code",
      "source": [
        "stemmer = SnowballStemmer('english')\n",
        "stemmer.stem('sportingly')"
      ],
      "metadata": {
        "execution": {
          "iopub.status.busy": "2021-10-03T09:20:18.023485Z",
          "iopub.execute_input": "2021-10-03T09:20:18.023941Z",
          "iopub.status.idle": "2021-10-03T09:20:18.038199Z",
          "shell.execute_reply.started": "2021-10-03T09:20:18.023892Z",
          "shell.execute_reply": "2021-10-03T09:20:18.037223Z"
        },
        "trusted": true,
        "id": "4i4t4zJQXc4g"
      },
      "execution_count": null,
      "outputs": []
    },
    {
      "cell_type": "code",
      "source": [
        "def filter_keywords(x):\n",
        "    words = []\n",
        "    for i in x:\n",
        "        if i in s:\n",
        "            words.append(i)\n",
        "    return words"
      ],
      "metadata": {
        "_kg_hide-input": false,
        "execution": {
          "iopub.status.busy": "2021-10-03T09:20:18.039561Z",
          "iopub.execute_input": "2021-10-03T09:20:18.039888Z",
          "iopub.status.idle": "2021-10-03T09:20:18.046922Z",
          "shell.execute_reply.started": "2021-10-03T09:20:18.039856Z",
          "shell.execute_reply": "2021-10-03T09:20:18.046046Z"
        },
        "trusted": true,
        "id": "j9c20xdXXc4h"
      },
      "execution_count": null,
      "outputs": []
    },
    {
      "cell_type": "code",
      "source": [
        "smd['keywords'] = smd['keywords'].apply(filter_keywords)\n",
        "smd['keywords'] = smd['keywords'].apply(lambda x: [stemmer.stem(i) for i in x])\n",
        "smd['keywords'] = smd['keywords'].apply(lambda x: [str.lower(i.replace(\" \", \"\")) for i in x])"
      ],
      "metadata": {
        "_kg_hide-input": false,
        "execution": {
          "iopub.status.busy": "2021-10-03T09:20:18.047876Z",
          "iopub.execute_input": "2021-10-03T09:20:18.04818Z",
          "iopub.status.idle": "2021-10-03T09:20:19.472118Z",
          "shell.execute_reply.started": "2021-10-03T09:20:18.04815Z",
          "shell.execute_reply": "2021-10-03T09:20:19.471093Z"
        },
        "trusted": true,
        "id": "GhMDPkNZXc4i"
      },
      "execution_count": null,
      "outputs": []
    },
    {
      "cell_type": "code",
      "source": [
        "smd['soup'] = smd['keywords'] + smd['cast'] + smd['director'] + smd['genres']\n",
        "smd['soup'] = smd['soup'].apply(lambda x: ' '.join(x))"
      ],
      "metadata": {
        "_kg_hide-input": false,
        "execution": {
          "iopub.status.busy": "2021-10-03T09:20:19.473541Z",
          "iopub.execute_input": "2021-10-03T09:20:19.473846Z",
          "iopub.status.idle": "2021-10-03T09:20:19.52752Z",
          "shell.execute_reply.started": "2021-10-03T09:20:19.473802Z",
          "shell.execute_reply": "2021-10-03T09:20:19.526492Z"
        },
        "trusted": true,
        "id": "7DShPo3UXc4k"
      },
      "execution_count": null,
      "outputs": []
    },
    {
      "cell_type": "markdown",
      "source": [
        "Applying the same Count Vectorizer and Cosine Similarity as mentioned:"
      ],
      "metadata": {
        "id": "I8tu5rhRXc4l"
      }
    },
    {
      "cell_type": "code",
      "source": [
        "count = CountVectorizer(analyzer='word',ngram_range=(1, 2),min_df=0, stop_words='english')\n",
        "count_matrix = count.fit_transform(smd['soup'])"
      ],
      "metadata": {
        "_kg_hide-input": false,
        "execution": {
          "iopub.status.busy": "2021-10-03T09:20:19.528697Z",
          "iopub.execute_input": "2021-10-03T09:20:19.529068Z",
          "iopub.status.idle": "2021-10-03T09:20:20.481886Z",
          "shell.execute_reply.started": "2021-10-03T09:20:19.529019Z",
          "shell.execute_reply": "2021-10-03T09:20:20.480858Z"
        },
        "trusted": true,
        "id": "MYfx_pnYXc4m"
      },
      "execution_count": null,
      "outputs": []
    },
    {
      "cell_type": "code",
      "source": [
        "cosine_sim = cosine_similarity(count_matrix, count_matrix)"
      ],
      "metadata": {
        "_kg_hide-input": false,
        "execution": {
          "iopub.status.busy": "2021-10-03T09:20:20.483232Z",
          "iopub.execute_input": "2021-10-03T09:20:20.483559Z",
          "iopub.status.idle": "2021-10-03T09:20:22.188452Z",
          "shell.execute_reply.started": "2021-10-03T09:20:20.483528Z",
          "shell.execute_reply": "2021-10-03T09:20:22.187484Z"
        },
        "trusted": true,
        "id": "ePjl-5CdXc4n"
      },
      "execution_count": null,
      "outputs": []
    },
    {
      "cell_type": "code",
      "source": [
        "smd = smd.reset_index()\n",
        "titles = smd['title']\n",
        "indices = pd.Series(smd.index, index=smd['title'])"
      ],
      "metadata": {
        "_kg_hide-input": false,
        "execution": {
          "iopub.status.busy": "2021-10-03T09:20:22.190163Z",
          "iopub.execute_input": "2021-10-03T09:20:22.190633Z",
          "iopub.status.idle": "2021-10-03T09:20:22.205428Z",
          "shell.execute_reply.started": "2021-10-03T09:20:22.190585Z",
          "shell.execute_reply": "2021-10-03T09:20:22.203831Z"
        },
        "trusted": true,
        "id": "qaLS0BrsXc4o"
      },
      "execution_count": null,
      "outputs": []
    },
    {
      "cell_type": "markdown",
      "source": [
        "We will reuse the get_recommendations function that we had written earlier. Since our cosine similarity scores have changed, we expect it to give us different (and probably better) results. Let us check for The Dark Knight again and see what recommendations I get this time around."
      ],
      "metadata": {
        "id": "uAgJwwNUXc4p"
      }
    },
    {
      "cell_type": "code",
      "source": [
        "get_recommendations('The Dark Knight').head(15)"
      ],
      "metadata": {
        "_kg_hide-input": false,
        "execution": {
          "iopub.status.busy": "2021-10-03T09:20:22.207423Z",
          "iopub.execute_input": "2021-10-03T09:20:22.207916Z",
          "iopub.status.idle": "2021-10-03T09:20:22.23264Z",
          "shell.execute_reply.started": "2021-10-03T09:20:22.207865Z",
          "shell.execute_reply": "2021-10-03T09:20:22.231342Z"
        },
        "trusted": true,
        "id": "KeX4ww3RXc4r"
      },
      "execution_count": null,
      "outputs": []
    },
    {
      "cell_type": "markdown",
      "source": [
        "I am much more satisfied with the results I get this time around. The recommendations seem to have recognized other Christopher Nolan movies (due to the high weightage given to director) and put them as top recommendations.\n",
        "\n",
        "![](data:image/jpeg;base64,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)\n",
        "\n",
        "Also adding the cast we got other movies of the same actors into the recommendation list- The Prestige (Cristian Bale), Thursday (Aaron Eckhart or better known as Harvey Dent), Interstellar (Michael Caine) etc. The movies where the actors have collaborated with Nolan earned the highest ranks in the recommended list. That was quite amazing!\n",
        "\n",
        "![](https://media.gettyimages.com/photos/michael-caine-christian-bale-maggie-gyllenhaal-and-aaron-eckhart-at-picture-id834728940)\n",
        "\n",
        "We can of course experiment on this engine by trying out different weights for our features (directors, actors, genres), limiting the number of keywords that can be used in the soup, weighing genres based on their frequency, only showing movies with the same languages, etc.\n",
        "\n",
        "Let us also get recommendations for another movie.\n",
        "\n",
        "I was really fascinated by the movie **\"Mrs. Doubtfire\"** when I was a Kid- and it made me a huge fan of Robin Williams. Lets try to see what would be the recommendations for a user interested in the movie!\n",
        "\n",
        "![](data:image/jpeg;base64,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)"
      ],
      "metadata": {
        "id": "FJyOcyOlXc4u"
      }
    },
    {
      "cell_type": "code",
      "source": [
        "get_recommendations('Mrs. Doubtfire').head(15)"
      ],
      "metadata": {
        "_kg_hide-input": false,
        "execution": {
          "iopub.status.busy": "2021-10-03T09:20:22.23467Z",
          "iopub.execute_input": "2021-10-03T09:20:22.235221Z",
          "iopub.status.idle": "2021-10-03T09:20:22.263414Z",
          "shell.execute_reply.started": "2021-10-03T09:20:22.23517Z",
          "shell.execute_reply": "2021-10-03T09:20:22.262073Z"
        },
        "trusted": true,
        "id": "GfrdMNamXc4x"
      },
      "execution_count": null,
      "outputs": []
    },
    {
      "cell_type": "markdown",
      "source": [
        "**Observations** I was ignorant of the fact that Mrs. Doubtfire, Home Alone Series and the first few movies of Harry Potter were directed by the same person-**Chris Columbus**!\n",
        "\n",
        "![](data:image/jpeg;base64,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)\n",
        "\n",
        "This model creation really improved my knowledge on the world of movies! :)\n",
        "\n",
        "Also based on the actors- Nine Months and Bicentennial Man had Robin Williams in the Lead, while for Percy Jackson & the Olympians: The Lightning Thief, we had Pierce Brosnan in the Lead, and both have worked together for Mrs. Doubtfire!  \n",
        "\n",
        "![](data:image/jpeg;base64,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)\n",
        "\n",
        "So in short, we have been succesful in our target of recommending the movies based on the cast and crew- with a special importance to the director.\n",
        "\n",
        "But,one thing that we notice about our recommendation system is that it recommends movies regardless of ratings and popularity.\n",
        "\n",
        "![](data:image/jpeg;base64,/9j/4AAQSkZJRgABAQAAAQABAAD/2wCEAAkGBxMTEhUTExMWFhUXFxgWGRgYGBoYGBgaFxcYFxcYHRUYHSggGholHRcXITEhJSkrLi4uFx8zODMtNygtLisBCgoKDg0OGxAQGi0lICUvLS0vLS0rLS0tLy0tLS0tLS8tLS0tLS0tLS0tLS0tLS0tLS0tLS0tLS0tLS0tLS0tLf/AABEIAREAuAMBIgACEQEDEQH/xAAcAAABBQEBAQAAAAAAAAAAAAAEAAMFBgcCAQj/xAA+EAACAQIEAwYDBwIGAQUBAAABAgMAEQQSITEFQVEGEyJhcYEykaEHFEJSscHR4fAVI2JygvGSFjNDU6Ik/8QAGgEAAgMBAQAAAAAAAAAAAAAAAwQAAQIFBv/EAC4RAAICAgEEAQIEBgMAAAAAAAABAhEDIRIEEzFBUSJhMkLB8FKBkaGx4QUUcf/aAAwDAQACEQMRAD8Aw2lXbpaua1KLXkh5XoFIV2BsRUirIJk0vXsa6j5U+icutcIutqP26dmORyUsR/frT0cdmHT9qdZLg+zfPwt9RXsYzacwPpW1j2ZchmWCzW864hhuD/pNS82ELJ3gF8qi/tpf3Fqa4XGC7AkWbT5qf4ojw1NL5M89WDYrD+HNytTHEIipAtyv86u3DcFgX4ahnxOQ53z2sSCDMyoBa5JCp/51zPwHASDvDjyStlAygAqC4U5ttlW99i1Cm1JfSvg3G15KRhUvmPQfqQKaZDe1XTB8DwKyMoxqtG6MBqofOJVyrqLWK3N+dqkODcBwTmc98jOjFY1JsbK1i2W+t9qE5xjBX81/U17KL3WlCGrD2iwixsUUjTTf3NQcUVyoO16ZzY3fFFRlas4dLWrgiiJNX/vYU0BfWgyjukas5Arw04BTdVKFIh5Xle17agtFnlqVEogA2zC2vVfSvaxYXtfc5AGxpt4rV7nJ1ohACNTYD+7V0ljjkQs20BgUTEvyNcyR8wLD617AeVYjj4umRu0PhbGvZoTcEbHX+a7vUxw7ChgAdsw18ibGmlj5JoXc62WDsPxyLCxsJFZhJIvwIjNe1spdnUgG+2upvRX/AKkiMcbxrOixMpaHJCyuBMWZmkNnLlTY6WuByobtR2fEGEeWJrZWRuvPU6/8fkKiYcWq5HJURSkg6iwLcj03+nlQMU8OWTLbmolp4Z20wokaIYXKJZGk8NiXQpcAFycsoYAgfDcUziftEwwnkEODa5WyKAgPetIpkOYC4UIgUWF99rk1QO0UWSTKpPhOh5i+oH9a9VnW0jMc34yotJZiM3i62oU4tzaXoLGSSTfs0Uds8MkjR/cyiPO7uGEf+WJYkVSVBsRnBJBIFm0N9nuA9p4BFhlKYqXuD42+7x5ScpHxKTdBpZfcm9U7EYa4gAzrFK3eK0jeKRQ2VUzDwjKNLkWufI1de8RlgMchgeMjvwk4QKoKtnyq2VwwDDS+thpWeKSbSNW7K9i+2ODzy5sO8wk7iwaOOMosbOXKlXYq+qkHW9rEWqTh7Y4KWOREieIl5nuYogCrsGVTIHupsCNAd9Ko3EsV94xskwQ5ZHkeyDOwBJYHKuxGn93obGOMhKi4JOZhcXAtlBTZbEE3G+as0024+gkOL1I0GbtzgZJA/cysVeRlvDCO5V0dVsveESlCyb5dFvuaJXtdgkMkjRSDOkSBzBGSWQuWIj7zwizKPiNyprKMJifw2+IqL+QNz86l+JS5oslrv3gXyAK3Pza/tRsFSTbMZNOkWSTtjhThWgMBLHDyIZTHGCZWYsrFAdrHcNobaECs+QaeunsKl8dhbXHSwHmd/puaASPMb/hH7bfPei9rjKjKmmrGJF2HM0w+9E5t29h6/wBKGAoOb7G0JBc0RNhSoB0s2x/npXsUeWzMDY7EU5LOVuLghhrz/wCjScrHceKCi3Pz+/8AIIJCNBXtcPSrIu5PweKaORgfEbaWGWgKmuyMUL4uJcQ4SMsczFgo0UlQXOigsFW52venOny8dMDONhmA4a+IdVABkYGy3sAAL5ieVqIm7C4wWJCDV92tYR3zHbbT9Kkk4VGwnePu4JkMBjX79CwIbve9PfZwDtHpe4v51PwYHCvkz4lkT/8AnImXGqxZ5Cn3he4U5o8uaQZiPw3vrTmSamtf7BRXHyVVexOMFsyJv+cf6t/I5GqRThcuFTNKoAJNhfxeElWFuWqnWpJuG4IeKTEPh3yTMRHi1xDAq0Yhe6N4r55fBe/hNqLw/CsHklH3j7w0eTKPvQCMXw6ySOBIw0MjMOo561iGZwe/8FTxqS0QXGMYZYSFJaKRGAPMOBmynz0NUfB4o91JCbWazi/Jk1+ouPlWmYTDYIRxRxl/88iUqWB7jLeMg23LMGN/ykVnsUQw+KKyRZrMQBva50YAfFbl50LqvKktei8Kq0F4rhEyRRys0bkoCMrXKIdi3mNRblT2A4XIwLOLAjRdz7mp/F8eTERRQCH/ADQqxZ3tmYh3Zm689jVm4Xw5TowpnpYRUbYHNKV0is9ncYIiMgdWA02kW9737t7Ec9FYVcpuN4oxXMaOLXLGAqfpMalOG9lIUvIq3ZjueXkKlocIQLZdKqfZb0jUO57Zh3FcZMZA6uiMDmBRMhHoQx5ae5qIlBjsAL3J9CTuLdPKtG7R9jgMQWiGWP4jci1zrlUb29arXFcBlBFvTytTMccGuUfJjuSTqRVMRgzDlk012W+oJGlx5VN8OjjMSMzgzO5cptlGyufLYe9e4rjMXcGPKWD5SWOrLlBuL9DcVI9gOBYeaDM92d5u5kIljj+7xZUPfEObsPE235DXLlNYsmvA0k5x35InFjMGYW+HT/kbA/r8q4h4DO8Sd2oOdGkChhnKISpbJvlupHqDV04Z2bwcsEb2fI4lDS9/GFiEV1RjGdSGtmsPzVI4bs9hxlj+8SpAXjjjf7yhjmWVSZGSMHwAak3FGl1Ckr9lKFGf4zsRjUUHudLlfiW9/Ffnp8DfKgMb2elgkEc4ym2bQ30uRuPMGrynBMO0Wf8AxSUh4JZRIJGNmWdEjDxXuLLI2Zd/iIqSfsrAwmeSeTEvEUVD3wa4OHjlazH8PeM4GwpHJkbHumhHknLwZpJIFBVhfpUNLWjT9iQ+IQXP3eSDMr549ZjCXyDX8wttVA4nw+WCQxyrlcWuLg2uLjVSRQkF6vOsjpeF4BKVe15ViR7SBpUgasg5G9S2GxAIyqOXzqFvROEny0703UNOmCyQtB/c7sfkNz5ih5pCrq6jUcv1ovD3fW9gNz+wrudAfhWw+vvTuSPOGgClT2TUTHuPvsYDiI5HW+UgMcyHQcjmF+WlN4+QS4o4nD/+0yCRtgUYqc6C2xJU7VF8Ex5hE8JJyTxMnlm0KH5irDw/hP3WGZtyY5EWRl/y+8KEMtydDYMBpqdb0nOcpPa0gqiktELhuMGXEJLlsEICgnM2wBLNzJsfnWsdmnD23I5Hr0NZBg+GWSN1bMrlgeRR0OqHXW65WB55vI1qvZfE3UG3kR6VrDNuBJRXI0jCqAtgdKcyCoJsSwFxcU0eLSbWrPFkHOPwDKx6c6yrtAwLatlGuvLQXq/calkZCdTWZcZl8VjfS5PttR4ycYmXFNlVGINnXuz4tVI0O9ja4Nwf2oFkAAOUgXtqdTbfTSp/g2JRJhmmZEPgN83guGJdMu2Vstufi2qM4rg7MHEneByddc17ncHXXf8AXzRnbVh1omJe7RADYsEUdTdhmIHoLfOoLEtmbQeQFSHFFAaw5ae/OuOHQKfi0bkennTmadKjfSdP3JA0SGM3+f8AHrTuJxCuuny6V5xF+Wnryb+tRymua97OlPN2bxR8HjrXBFO3vSFUxFxTehq1KiEUb0qxZtY/kGFKkBRBjvGG6Eg/qP3oqi2LNg5pClXlZLDsFP4hc6dKnXdSoy78z5VVQamuD40DwkXv/d66fSdR+SQtmx/mR3jMPYXWrN2d4ysuFfCYgZvEh1O9r5TflaodYbgknS+vX1oGKMLKNSFY5Sw3AJ3HnRc0K+qtGIO9BcLssjQbors66arfw7+gFaPwBo47WkXkTrzqgSJbFxlLuJANgbhvhZSOt1v6NRuK4CwfMM7LrorW32I9OlLY7UdBX5Nij4jEy/EKZgxsGb4hz+n/AHWPYfh2KZrRlwOja/ptUzxHs9i0w8UiSeJmII1uL8/pW4r7FWX3i/EUYZVKgdSazvtMkF7I4ZuYHzvUQvCsRez536i5X9OVOw8F7pWZvisSeZHlWt/BYx2RhAn72YXVVOUcviym/XS/uaa7S45GxllRVWM625tv9CTTGJxDR4V0kjYFiFQkWy5WDMfUsLb9ahMMKUvYeKsmFwwbVtCdjyJ6GhJyV05ikcQQLX9uX/dD/eeuvShzk2dFShGKS0cSt1oYA3omQg0sNCb3tWAEoOckjwQW3p0YW4oyPBudd6Kji0tQZz0dDH0TflUREUOtqVTH3cV5Q+Zv/puOmitXqY4JGJI54+YUSD/ibN9CKj5Ycg8W55URwHFiPEIx+EnI3+1xkb6G/tT34JKzgeUR7LY2pAXqX4lwsrI5Y5VU2J6noBzJoSPDM+iiy9Ofv1rLg1JxJerAyKJwUnjUW5i5p1+HkUNImTQ/EfoP61dShsmmWPANf06U5iIhyP8Afl/NRnCMaPhNdPickjK3qPeulDPFwVizxtS0GpOyurxW7xMpBvYm3PXdh18gat3BuLrLmY6MDeRR+G5+K35b/K9VTA40rmsMyuBmFgTobhlJ2IO1GR4Tuylks+jiaMkB0JIHgIsLjQ870F3CVejemjQ0cWBXnbbnUvxHDn7shPLWqtwrEB4WRXKyAaGwNugt05UJje0uOK/dzGtx/wDJyt6da02WSS45VQk+ftbeqlxnjS6WsHbVAdNtQx6C4vrvbpUjxLEqsQS+aS1yerbk6VReJYvMhugzMw8f4iFFrf7dvcVWWTS0airAcROzHKWzAE29eZ96djAUX51xh4wBc01icRek5SG4pQVs5lkpvPXF6QFC5A3JsLh5UViEJa1tOQ8qi9aIw+OdCCDe3XWsuxrFnglxn4JiLEMEyj586NixQKai7CmcHiUmGwVhuP4or7oADb5UtNr2eo6eM3DljlcaobWzLmGx+Y8qVERrlGo35V5QrDSxWlZTXcsbnU1ya7tb1riuk18nhESfE+JviGQHZFCgDmbasfM/tVs7I8GMgvbSqLhD4hWodiseqgL1pzpVdy9gsmtDeJ4YqSXceFQSfQC9ZriJs7s5/ExPpc7Vt3HMCJEa1jcW/pWI8QQLLIBsGYfWp1b0mTH7GNjRGKmzhWO40P7UMTSBpG/QUkeHY22h/wC/WrTwvioCGKRrKblG/wDrY6n/AINpcciARzvRKOweK5GmsOa1wl/IHOHtF+ODI8SiZWO+Qnxf7SNGHpXWLaUptxHL0MTAX/35Abe9V7hfGQssYdAyC41tcX2K3BAsddfOrfie2iygwSSTWQve5jeMKmikJ3YDX5Wbl6UWUt6MxK6sKKrmTMhAszvdsvRQb2LHoPpVYxModr2soFlHQD96d4vjhM5yDLGGJUdOXLrv71GzS8htQsmTQfGq2zvETX0FDUqVKN2W3Y9hUBYX2q98M7FNKAS+W42UDTprzqmcITNKo6mtq7PyL8IZSw5XF/lQM03HwNdPBNWyi8V+z+dULKMxUX05jn71Uv8ADTY30Pnp7WNfTuDAI25VWe1nYuHEeOO0Um9wt1J81rEMzr6jcsMWzA44ZI2DAHy03/pVhw2KLC4+R5HmKN7RdiJoRn74O35QCvy1qC4SxysGvcN/3+lbm4yjaHf+MyTxZe36f6Ek0teUwz0qXSO5LJvyVtmvXN66ANc10ZX5PDj8GHYgsBoBf1A3t6XqTwnE2VgAbXy6+R3ors3xKMQzQy2ysMynmrWIDD2NiOYqBeT4bbrpfrY6UeL7aTT8mH9WjVe03aRMNhVCG8si5U8hazSH02HU+hrLp+HyqgkZSA2xPPzpSYkyyK0r2GgzWvlUdAOnSn8bEHkCRzNNc2BIZdORs239KHkyKcm/6GoxpA/DsH3sixggFmVQTtdiFF/LWr9ivskkjfu34hgUk08DSlW128JF9aqWGljixUZvZEkjJO9wrKWb6E1t3EPtB4fJMZF4gqrp4Dgw503/AMxhfX6VbhFJIq2ZjD9lmM7+eGRooUgUM88jWhyt8BDW1B19LG9e477Mpo4zMuKws0SMBK8Ll+5DbO4Avl621G9rA2vuO+0rAEcRcBZO9WMRxyBmWbu1ym4/Ap/L5X51A4X7QMHJw3HwHDw4SSSPLGkKtaQkHc7C23vWHFItOwIfZVK8PejH4Exggd4JDkudgXta+o+dR2F+zfFTQTy4eWKZIWZCELXcoFZu7uuo18r2pzhXH4f8BnwWc/eHnDqliSVuuxtbltUp2Y7Y/cOESIGZMWMSJUVlYB1BizakWsQGBoidq/ZXgqfY7sXiuJO6YcKqxi7vISqg8luATmPS3KjuH/ZnipEaR5cNBGsrxK88ndiRkJVslxqLqdTbY9Ku3B/tUwYxkAiiOEwpaabEXA8UzxtbRL3UMf00FqY4r2+wK4BI+6hxjjEzOY5Q1lV5JWVwbb2YD3qq5bf78mrKlN9l2MEuHjEkEi4hmSOWOQvFmVWYqWC3Bsp5HagYewWKHEI+HzARSSMQGNyhUAtnUj4hYH9DatK4V9oHD2i4eT3eG7nEPJJEgbLGpilQEaa3LDbrTHCftRw/30pi8skKTO+HxFrvDmuACNyhBI6i/MbTgqslmS8fwH3XFTQKxPdSPGG2Jym19Nqsv2d8fmR+5jWJ2Y6ZzlYi5JVWG5uSddflUP2ocYrH4l4TnDyyOlvxAtcaelRsOFdSLwyXBvcBgfnbQisTgrqtGoya2j6a4Zigy7ZWtqu9vQ8xXuLNwSp6/TcVg3De2ePzLGGzONNQQ2g1uRrtRI+0DE92Y0IRs7N10Y3CqDv60tk6dP8AB/cZh1H8Rbu0UxzeI2F6zJZfiP5pGP1Nc/8AqLEFjnkLgkE5rHny6V6YtgNh/OtYWPhHY50+TuT5R9fqE4eQGlXNrbA0qxR2I5eKpkBelSFd3roJHkDg1YuA4ZJcJibqC0ZRx/yDD9hVdNT3ZLiCR9+kjBVkhIufzKysv0zVeJpZFZUtxO4uHLlCkct+hpuSDub6AX0uNz5XoyPiZlIjgjzttdtAPOw1+tXLs7wFI2EmJdJJeSm1l/2rtR+o6rBjX0q2Vh6fJke9IzOXhc7KZe5fIN2ym1R9fQGMN7iwt05GsR7R4RYsTKifCGuPIHW3tXNx5u43Y3lwdtJokezHYnE45JJIe6CRkBjJIIwM22pojjX2e43DRrKVjlRnEd4ZFls7fCDl2udB526irh9mnEu44RxGUIjmPu/DIuZD6rcXFO4Tt7C+CYTRRxypiIpo0w6GJJMhUnOLkE6G1+YHSnI4rE3OvJH9nPs+4hhJ4pl+6mZGVhE+IUMCfwkDXNryPzqfjxGOxyyvNw7BnupWhc4mQBkfKCQM3h2ZbNr5VG8Q4zweXiA4gcZiEcyRzGIQBlBjCeDN/wAN6kOD/aRgXTGd67QtPijMoMIn8ASNRdT4bnIfSrSrSIUnjH2dYxZogkUYTESd3GUmWRA++UyDbn8qjsR2CxyQzTd1mSCVopMjBirKAWOUalfENRWl437RMBfBKsjOsWJ72RxF3KqtiAO5XRjrvQWM+0dIIMR91k/z3xrYhQyEo8TKoIbyNjpvVywNq0Wpeik8Y7MxRcJwuMUsZZ5XVrnwhVBsAPUXvVRFaP2+7YYPG8Pw0WHj7mRJXkkht4VLg5srbEFiT77VnUW4vQpJaZtEn2e4cZplTMyX/Eu/p/fStcwn2f4VYi8jTSMFJ1kIGg6Cqb2UwoRg3StKTjOVQGikZbboA2noDf6Ulkyy5Uh/FgjVtEPwjgMA7zKIxlAZWWxI6+Lc6XG/Osj7QYJ45mfKQjMWQ8rX0t0t0rRuKYDDzlvuuJ7onRor5G87odb09xsRHDiGWzeELc2BuBYNfkR1qoZHHXk1lwqa+DJUGY5ixLXufrck+tvnUzh0IGtACFU8N7m9yfIbfzRizaaGjZPAf/jUoXKQ7I4FKhZZaVCURrJ1NSIyNrU7FhJHDMq+FBdjsAB5nn5VxhQuYZ75RqbbnyHrU/hUVgrSKGtqkNyIowfhL5fEzHcKDc31OtP3o837K9HEDzqZhgQRd34mZhmAKFNf9LE+LryoVMOBKw315Cw9guw/SpZLgjMSo02uygf7HLfQip2+cdIinxY/2feOIDvJjFrqsSZpSOmc6Crvw3h2Fn8XcsejOxZx08ROh9Kq/ZhoUmzyENYkAHbyNjVxx3bbCxr+EHoNz7CudlT5V7OlilHin6GeNY0QKSx0UH10rIZc+IlZ7asSfIdNfpUp2l7RvjJLbJfbmfM0/FPDDYICwsGYre/SxB56mtwi4L7s1GMc8vqdRQHhsFiVQIwcROO8yA6PYlAxXYm4I1prG4ObXw6DlejJeNgA91GQTa7MxJ3ubA7VIJjBIhYAsANxprbn+lalkmHw9B0mS1yfL9/bf3Kay23rmpniMQOoRgTZrdFIuuvnUNRYu0czNi7cquz29ER+IU3DCWOlWzgnYyWSzZGynncAfK96JDMsf4vBiEXJ6Kg62rmtMw/YuM3MhVfJiCfL351Ecf7JLGfCwtrYrt5XoDz43KosI+nmtnPYzjC5xHJvsD1rVo+HZ47xyFW5Gvn2aNonsdGU1YuF9usVCLZgw8/5oeTDbtBcXUJLjIuvanhTqoM2WS2zAWYe+4qkcQxhN8xJC9TcnoLneu+Mds5sQLEZfSq48xY6mtY8bX4i8ueL/COLd2ueZ1ryQ5Wo3CRDKSRoBfTe529qBm1Jozfopw4wTXkTT3pUyVpVmkBc5PyPKg8Ppc/tUohYIq2ve5vz1JBJ8yfoB1qJhbX2tRRxZAFqbxxVcrFZN+CUw8RHi579fmTRaOWVbq1wbswGluo89qFwczCMAFXL3Hd8xYbnaw9+VSGBMSplxIkVxfwtdRYqwuOTEHKaO8mOEdWCjCUn6AsYEKqebHYgctL3U1BYzC2uf7+tWHDYeKHLJJIySnxKi65B+EHTeuJ2SU2WxY9fxH+tCyuLVy/2bjadIr2HUgZgSD+Hz661LLHbxE6nX1J5n5mmXgNwoUixCWN7Ak39utatw/sVhjEoIJaw8V+fpXMyzo7HSxVb/bM1LLlsw32Fvr6/0qJxMbLcagHkOdfROB7M4aOHuwgPMk7k+tUDtj2YjRhIgCrezX2A6258hbqRWVPi/wD0NmlDIvNV7M1bEuovmOY9OlrW89AKCAo3iDr3jhfhBIX0FCQrdgPOmInMyS5PyaH2B4VEWDOoZwuaxFwo5acyavHGsEBHdrA7hVtm8teVVD7OgWkOUWA1dz5bD5DYe9T/AB7iKs3dqxGxLMbD+fc1zc1vJs6GFJRVB3D+CpIAXub67/3epTG8AhaLLawHMG1j/NA8MxIjhBLam+p5KvxOfTT3NZX2p42Z5XaBG7u5a3eSsTpbvCisFUWA5eppjDg5R5MHnzcXSAO2uCMOJaMjbUHqDsar9T3F48U4ifEh7Mn+Uz21UHbMNTv+LXaoSVLG1PcGo2Iy27FEaLbKIhrqTtbp0NA12p1FVZlOiVwkimM66/lI9dR7AD3odoydANdretP4KAHc2BI6c+fltR2AmjjYyN4rEgAbi2uYjodqwx2E+UKZCTLY2I1GhpUZII2DE5s+p01BufPa1KqsHKDsj4mFdA00tO2tTUXoSaCIMc8RuujW0PMdacfi07LlZyy3vY2OvrQBF6P4fECQGGn6VLb8vRmVRVnOGjaRrm9+pqc/wwZbjcC5X9xUtw3gLaMljzt5V5xtlKXAAO29jfnSeXJToDGTnJUQ/DeNZZAZgHU2jP5souAb87X9a1jgHEVdBlYGwB9R186xLFRAkgbDn+tWbsxwdpAsscmU7khj4TbxApsRfX3oOSEWrOxGOSEtbv8AQ13FcSVELM6iwvqbVQOOcWjxEoRDnBbw3t87f3pU1xTs/Hio4s7sPDc66E+fWusH2bw+HZpiseaxAyqFAvvYcr0KNeTWXFKb34Mw7RdnTHnkUiwAYjpfc+l/1quwtY3terP264izS2BsGBv86g+CIDKCeWvl703jb4WxfKl3KRsHYngvc4YSSasy3CchfYW86D7W4Jhlc3J6DQanVj6nQDyq29jXEuGiIO5PzUH9xUX27xqKCTmspCIFFyzWuT6ADfzrnO+VnRx1dEXhcPK9jlSRChjeFzkOVjmurWIvysbX61X+2fZiTNGcNDIA/gYG3hJIA1U/D11Iq59nI1aJSb3t71ZMMgHOmsfUyhHj6BZOnjJtkHi+GYeHACGWJp1RPETuMo1bNytyA12rEPugkchdFucpPIcrnrW+cfwc0yFI3Kr0WwZj5sdl8qx7GMiZokU99mKkHUg3NyfOnOkm5ckydmDqypzxFWIO4pup3iPCu7UMx1P18h/NQrLatzhTEs2J43TDMFiyp30sdKKiYEEA66C3kP1NRAomM7WNj16c71hoqE6JJFsTdLkgg+W4F/f9KVMtKRe1yW/1Hb1vrSoVDCmRS16WrmnYIiTtTCl6EWPYfDkkG1xVp4RgwfiHhG/Uf0ofgUABGYXB/v2qfxmH7oh0Nh06e37UDNl9Ck5cnQ/LOYE8Jup/v+xVRxGPEjyMGtbLZctw12AY3v4SBr86ksRjs4IBA0va9gfS/PyqCimUKQpNrlmK+FiCLAFm5X0K86DG2tjHTRUZWEInhPtXnDuKyYSUkfA248utOJLfXkVv/fyrzHRho76XAqk90z0+TCsmK4PaVl9wna9JFSO2UKNTa5I300sB53p3iGLDRmUkqm4U9OXz6Vm/AeKpC1pIVmA+G+6/0qb4hj5sUQSmVBso29T1rM8dMRhluP3K72gfM+ckXPLoOVRsEmU3o/iAAaTw3vYX8xv/AH5UNw7BSSuFjUsd9rgDqfKmoUonPyJ8zafsnxDDBjNyLsPQg2+e/vUT2u48gxXdn4I1Vif9Rbx//m3yojhGIGCwJaQ2awNidbtb+grM8XOZHdy92Yljz9vQedJ48fcyN+hqU3jivk11sPmjD4aQHS+huKrGM7VY2BspRTbzIqoYHjUkWUxuyZT8QNgfIqfi+VSfaHtGMRCLC0trMbZQfNb6+1Hl03F62il1Nxd6Ye/2q4jKVESX65j/ABVQn4o8s7THRnNzb0A/aiuCcOWVTtfYimWwGRyOhreOUITpeTNZGlK9E9FhzIA8hDORZVH4B1t18qgeK4LIxF7tz8v609huIMl1Q6nTNzHp09adlRctxqx+I9D5fzXUpSQ5LjlhS/myvstERt4Ttpz508+Gua7lwuUX2/SlJwcTmvG4g5c0qaINKg0Z5HEURY2FWDhOBFwH0HXpQ/BsPrrt16efpVzweHRlyNbT8XJvKpN0hHLkt0gKTCmDxMLodjyP9fOgOJcTNtDcdP2pziXEWiBjPiT8p/D5g1AYPDHESmNCASjsoP4iiFwg/wBRy2HmaDGF7ZWOF7AMXPna9qWHksD4AdQQx3FvK9iPUVaB2Da4X73hxcC4LkMDnyWK+xa+2hG9QfHeGiCRU7xJAUVw6m4swuNBcXHkTR/sNrR3wiS6sp88vkbbelDQYgnT2p6NBGoa/I39dLDrf1rrAYMgZiLg7HltffrQmltnSxzbWOF09k/2T4OJCSy3AP1qb7TRiKEBdC5yj03b6ae9VPAdo5obomUC99Vv+9G8Z4+ZoVzrZ1YEEbEEWOnLlQZQk5WMwlDz6Q1NGjAA32AuB0q/dkMPFBE8h8KGwzOALgD01v71mWHxg0Pn+9XJ8Skixj4lXUgk2IA8YYDXXr5VmaaVBOpnjyPlErnbbjJnI7u/dF2Avu5U2zEct9BVfJsMvIHX/U38CusfOM793cRh2KBtStz1526+VBhqdxxUVSOHkk5StjmYklm1t+vIen8VxnN731rptgvufU13JEyjyNFjG0YD+BYsCQAnKx0DciejDoeo286ty4UOmYje9+oOxFVHs5wUYp3UzJCFUNmcgXJdUVRcjW7fIHetS4ZwQ9yCZFuVUnLrmJQMSouL66a250j1MXpryOdLP8r8GbcbwZjPhTw9aj4sQRV+7acCUw9595VSqMwiuLuBkvpm3GYcjsazWJrGnOkyy4rkVknxnos2AgRF72Q/7R19q5eHODK1rE+FRv8AKorCz66jN0FThbuyGJvKdxpYDkfXypyaTQ5CssNeCHxmDK6fitcj8o8/OlT/ABaQIMoN2bVjz/vypUnKNM5+WHGVEvDhsoC/iOzD4SP2NdJxvuWClUYAi6uMynroCP1oV8UYhYeJW3H8HlURjWB1U3Xodx5UJ7OXCNu2XbivFeFSu/eKAq4tBH3AsWw4XUvnvdS29tdBQeNXhRDSI0QCR41O7s+Z3ZpfujLysoaLXllqhSnWm60kOJUapJjuCM6gRRZY5Yr3RkDJ3T5yGViZBnyg3Ckbig+Hy8DAi8Jt3xkfvAxYKYJWWLQjMiyd2t7jN5Cs5Ir2I68vfaoaRomJx3BpFZmQjPBCP8tTG8cvfSq7rHmZbiPuiVuQR0NVTtViYfvs7YSwgLkxhbhcthsD53ob/Eh3HcFFIzFg34gSAN+mlRtRFttSux1pidzXc0+4BuPf96aiOov15V1i0s7Doet/qKlIvuSvycCTS1Pw46RfhYj+/wCtNwYV3+FSeVdtgZALlDYVfGyubXsalcnfnr868jW5tXTwsNSpHqK8Tn6frWjJpsGL4SYYCywKwOHzqEMjHxL32aQgMNMzE+1MYqXhjFLyRCF4e5kQI3eRys72xC8rqChPUAis3UGkzValSLNKn4hwpsLIIUgjkBkVO8jzOVVVWN7kHxNZm5atVh4J2j4T3hhiEaLnjsGTIrjJ4rOCSxzfmFYnSoUoqSpmozadm5dpsThY5FDph2TuJWKSRLcSAHuioABIJ0PoKqsXEOFtChdcOAY4LosLCYT97GZyXvburd74drFQKpB4uzx93KBKFBCM3xJ5BtyPI0zFw9yAbEevOs404qmam+TtGkcP4lwQSZkQKDLiSRIucKCiLDlNjeO6lgCNMxFVzjWOh+8O0RTLplKKFUC22WwBPnaqtJCU3pI1NQlQTFkcGGTR3u1jY7a8/wB6VOxSBrGTW1gFHP3pVtxDuCltAqY4jQ6imZZRe6n2oc15SxzVFIOgiiK3ZtdNNvXlT/cYb8589f6VHLCx1sbUu4b8p+VXZYasEGYeM26f1tRP3CG5+Pa+x9+Vc4HCoACWsbaje3sRRRdANZbEmx2258vStJFWMf4dF0f5H+K5hwUJJvmte2l+Q9KJbFrYWmAN+gIHt6UMUi+LvTm+K17C/pUpEO4sDGNbPcWIsG1+leS4SI5SQwY/F8XudupFdjGDJfvbMAbDTcfCLW6AUKeJKbXzaf7edieXUCpogbFGq27pntcZ9L267ind8wYyW3+HqN/h63ofBZLlgzC+/MAnltYU7NORqC7E6MAvlccvOtIobnytmDs5UHmLcgb7U2mAjtqr305N5eVdnKy3csoJN82ltOtvIVw+NVCoR7ra19L8t9KvXss6+5RXIs9ri2jXt+LlyryLAwE6Zyt7XAPQeXnT331CVPe+u2lxrypuSaNYzkk1ANhobk69POpohwvD4+Yfc20O1/Dyrx8DGEuQ+b3tYHXl613FxBCPiYa7G38elOSYmNhYy3FvLn7VKiQFbDwAHNmH5b3qTTHQ5VFztyv0oGQQudWzW1HvvsNaBnwxU+EEj0OnvWJJfBuLoNxz4drkE3tpqd6hr1PHs/4M2fW19tDzqANXJNFXY/FObilTAryscmEU2hUqVKqBhUWOZQBYWHr/ADXf+Jv0Hzb+aCpVdslBv+JP5fNv5pqbFliCQL3vz/c0PSqWSiRPF2/JH/40m4ux/BH7LUdSqcmVQVicaXUKQoA6Cx9zzrjD4YtfkACb200F96Yp1JQBbKD7mqezUaT2iQgwbKW8VgCdwcpAF7+lFmWRQzZlvzst/wAI86he+H5R8z/NLvh+UfM/zVLkvYfnh/g/uSbl5YxmYAEj8PnbcUBi8Nktqdb7ix0/am++H5R8zXLyAjYeutXv5MuePjSjv5sfwePaMEAKbm/iF6fHGH/JH/41G0qvkwFB8vFXYEZU1FtF/TpQYciuKVRtssdXEEdK7GLah6VS2QM/xOTu+7zeH626X6UHSpVG2yCpUqVUQVKlSqEFSpUqhBUqVKoQVKlSqEFSpUqhBUqVKoQVKlSqEFSpUqhBUqVKoQVKlSqEFSpUqhBUqVKoQ//Z)\n",
        "\n",
        "It is true that Batman and Robin has a lot of similar characters as compared to The Dark Knight but it was a terrible movie that shouldn't be recommended to anyone.\n",
        "\n",
        "Therefore, we will add a mechanism to remove bad movies and return movies which are popular and have had a good critical response.\n",
        "\n",
        "I will take the top 15 movies based on similarity scores and calculate the vote of the 50th percentile movie. Then, using this as the value of  m , we will calculate the weighted rating of each movie using IMDB's formula like we did in the Simple Recommender section.\n"
      ],
      "metadata": {
        "id": "b123Bz7SXc4y"
      }
    },
    {
      "cell_type": "code",
      "source": [
        "def improved_recommendations(title):\n",
        "    idx = indices[title]\n",
        "    sim_scores = list(enumerate(cosine_sim[idx]))\n",
        "    sim_scores = sorted(sim_scores, key=lambda x: x[1], reverse=True)\n",
        "    sim_scores = sim_scores[1:26]\n",
        "    movie_indices = [i[0] for i in sim_scores]\n",
        "\n",
        "    movies = smd.iloc[movie_indices][['title', 'vote_count', 'vote_average', 'year']]\n",
        "    vote_counts = movies[movies['vote_count'].notnull()]['vote_count'].astype('int')\n",
        "    vote_averages = movies[movies['vote_average'].notnull()]['vote_average'].astype('int')\n",
        "    C = vote_averages.mean()\n",
        "    m = vote_counts.quantile(0.50)\n",
        "    qualified = movies[(movies['vote_count'] >= m) & (movies['vote_count'].notnull()) & (movies['vote_average'].notnull())]\n",
        "    qualified['vote_count'] = qualified['vote_count'].astype('int')\n",
        "    qualified['vote_average'] = qualified['vote_average'].astype('int')\n",
        "    qualified['wr'] = qualified.apply(weighted_rating, axis=1)\n",
        "    qualified = qualified.sort_values('wr', ascending=False).head(10)\n",
        "    return qualified"
      ],
      "metadata": {
        "_kg_hide-input": false,
        "execution": {
          "iopub.status.busy": "2021-10-03T09:20:22.265527Z",
          "iopub.execute_input": "2021-10-03T09:20:22.26593Z",
          "iopub.status.idle": "2021-10-03T09:20:22.276459Z",
          "shell.execute_reply.started": "2021-10-03T09:20:22.265897Z",
          "shell.execute_reply": "2021-10-03T09:20:22.274942Z"
        },
        "trusted": true,
        "id": "SzvwQNEWXc43"
      },
      "execution_count": null,
      "outputs": []
    },
    {
      "cell_type": "code",
      "source": [
        "improved_recommendations('The Dark Knight')"
      ],
      "metadata": {
        "execution": {
          "iopub.status.busy": "2021-10-03T09:20:22.278147Z",
          "iopub.execute_input": "2021-10-03T09:20:22.278472Z",
          "iopub.status.idle": "2021-10-03T09:20:22.335194Z",
          "shell.execute_reply.started": "2021-10-03T09:20:22.278438Z",
          "shell.execute_reply": "2021-10-03T09:20:22.334194Z"
        },
        "_kg_hide-input": false,
        "trusted": true,
        "id": "Ojs2gphwXc45"
      },
      "execution_count": null,
      "outputs": []
    },
    {
      "cell_type": "markdown",
      "source": [
        "Fortunately, Batman and Robin does not appear from our recommendation list. So we can infer that we have been succesfully able to filter only the movies that have a good rating, as well as match our desired outcome as seen above"
      ],
      "metadata": {
        "id": "cEHpS2xRXc5C"
      }
    },
    {
      "cell_type": "code",
      "source": [
        "improved_recommendations('Mrs. Doubtfire')"
      ],
      "metadata": {
        "execution": {
          "iopub.status.busy": "2021-10-03T09:20:22.336466Z",
          "iopub.execute_input": "2021-10-03T09:20:22.336775Z",
          "iopub.status.idle": "2021-10-03T09:20:22.374706Z",
          "shell.execute_reply.started": "2021-10-03T09:20:22.336743Z",
          "shell.execute_reply": "2021-10-03T09:20:22.373708Z"
        },
        "trusted": true,
        "id": "s6A-EhnCXc5E"
      },
      "execution_count": null,
      "outputs": []
    },
    {
      "cell_type": "markdown",
      "source": [
        "**Observation** Based on rating parameters, Harry Potter movies tops this list now. Indeed they were loved and appreciated by the audience.\n",
        "\n",
        "![](data:image/jpeg;base64,/9j/4AAQSkZJRgABAQAAAQABAAD/2wCEAAkGBxISEhUTExMWFhUXGB8aGRgYGRgZGhseGBofGx4eIh0aHSghHR4lHR4ZITEhJSorLi4uIB8zODMuNyotLi4BCgoKDg0OGxAQGzAmICYvLy8vLTItLS8tLzAtLS0tLS0vLS0tLS0tLzYtLS0tLS0tLS0tLy0tLS0vLS0tLS0tLf/AABEIATYAowMBIgACEQEDEQH/xAAcAAACAwEBAQEAAAAAAAAAAAAFBgAEBwMCAQj/xABHEAACAQIEBAQCBwQGCQQDAAABAhEDIQAEEjEFEyJBBjJRYXGBBxQjQlKRoWKx0fAWM3KSwfEVJENTgrLC0uFUc4OTF6Pi/8QAGgEAAgMBAQAAAAAAAAAAAAAAAgMAAQQFBv/EADERAAEEAAQDBwQCAgMAAAAAAAEAAgMRBBIhMRNBUSJhcYGhsfAFFJHBMtHh8SNCov/aAAwDAQACEQMRAD8Aw3ExMTEUUxMTDD4V4Xlq2o5g1EpqVUuroBqqNpRYZD21sTPlRsWBZpUTQtL2OuVy7VHVEEsxCqJAkkwBJtvgzmeAMudOV0FYJks4A0gFjUL6ICBeonTYA98c+KImWzCPl9RUaatJ3IbULFTAUAEEEEXuCO2IQRuoHA7IfT4dWYArSdgdiFJm5Fo3uCLehx0ocJquGIA6Z1AuildOkEkMRAllE/wwep0awy65kNSXkKGWnpbUq1GcBvQqX1CSZ8p2IOB9LLvliyVKiUmq0wrowdiqtDgNpB0kwpgSw2MGRi6VA2hjZCoDBUgkahNtSkwCs+YE7RvjnmMu9M6XUq3owIPpscMxSo9OtU59M08ropRpe6lyEKgWPlmTBg4p8Q4eDmWXM1kSqzfaBVLBWN2DEWDTuBIBtaDFUoCgGJjtSyzsCVUkCJi8atsFfFPD0y+ZamLqkKdNpNP7NjsblkY7d8SkSCYmG/iXhqglN3BqoFoUaqu+lkZqwUmnZQdXUSCJspkDfFFvDBDJTFUPUqU0qU1VW6uaJVSzABTEkkmAATNsWWlCHgpexMEl4fT6gcwkqCbLUIaPwnTB+ce02mzmOA6KlCmayzWSm6kK5AFXyzaZ9Yn54qldhBMTBnM+G6y1kpAo3MANJwwFOoDYFWaPgQYINjgRUWDEg/C4xCKUBB2XnExMTFK1MTExMRRTExMdqFLZmDcvUAzKJibwJgaoBIBPbEUXHBipxamcuMuKJChzU1czqLFdI1dEEAbAAbte+PWW4IteoEy1VX1fdqRScbm4JKkW3Vj6mMXch4TZieZVpo33KZDF3BE6tA61WO5HraBOLClWvPEfFTVctTpaYq6eXVq/eemp1Ik7xN29So98UqmfovTpoaDkUpg8waoY6tJIp+WdRHoWb2g+fDNOmftNJVlOioCTSLbBT0ypsbfkceKPABlHJqvYrKsgLI09jMfAg4fw3ON2s3EYwUAqeV8Ufbu9VW5LoUagsadBXSEU20qoC6dyNIxxzPFlr1Vc0TVqiOqymppEDWkOrGAASNM/G+GCn9H9bMMxo6dg4vCMG9G2n2wz8A8AVqTCsihaitpYCHple5k+W3rg+A7Zx0Qcdn8mjVZjS4qaVGtQalesyFiGC6TSJK6QFgb3mdu2PnEOMpmGNStQBqnzOjsgcxGpluNR76YB9Map4i+jcfWNNPq1QxB+J1R8LYqP9GtGkxzBFQqpJFKADKidMzuYgbXjAuhNaHRWyYWbbqgH0M01qZmvTdVKCkK5mZ+wqKwA9iTcYC+MaXWXYG1VgQYUnUA897MdbA9wQe+Nd4PSy9AZrMiiaTBOWU5aU2GohnvMMCFS5MGDE3xkPEKiVadeJF+YAxE6pl4I7XeBvEYXlolqcHZgHLhm/FGsPFEKXo06DNqJPKpabAEQGbQssQdrAY9VPFTE0nVCtSgtNaR1alApqFJKkXLKAD2ibXwuY0r6IPAiZ5zmMwJoU2gL2dhBM/srIt3J9AQUyTcNuYpgjB0pKlCjUrhzQyNQ6rHlq1RVuCdEozIbR5jAJx24ln6lOvlqtbK1KbUUpqiuWXUKEaSdSAmYvEfLH6vyeWp01C01VVFgAAAPa22Frx/xXIU1o0M8EZMw5XqAIRQp+0J+6A5pjUNpnscLbJIRdDwRFrV+b+C+IBR+zdDUohtaKTLU6guHRoEXAldmFjeDgAcNf0keETw3NmkCWpONVJjvHdT7qbfCD3wp4YH5gChy0VMTH3GgcF8GheMGgZejlytZpgSpValOmSbamLInbue2CAtQmkn8f4U2UzFTLswZqZAJHqVBI+ImD7g4mNmqeDuFuzVM0Hq5iozVKjpWSmhaoxc6Vdw2kTAJAkAHviYLhuQcVqxfhWQNUk9MKRIYsJntKg+hwymhXqaVZaHJUk8lOZTST36VuduoybKCSBGKPgqhrNQf2f8AqxotPKBAogSRM+gxrgwokbmKzYjFcN1IBlaeWy7pmaOXKZhWLadbmmDMgKSAYiRJEidiROL9ca200nfRXcKolggeq4Uq6Egh1VnjTAIUlDaxXN8N5kOiGCQpO/VsYA3GOo5SM6LTqcpqYD0tL1GZ1OoRolg2rq1KNSFWI9AvERNirLZKdBiDKDsAunFOILRqDLvl0HKWHCotSm4ZumZAXZekMQw9d8dM9X5iCp9WpcqDOiQfQAkqIE/d0x3mwxy4hlFVJCZgmoulbUQHW8yyqwYwfKNrzp2x64LwymqqCmYiQIcahIuPL1QCbCIviQte8iQD586oJnxgZCfnmvXAXp5dHFE2a/KLdAI30NCsFJvDKs7xh18IcVSujoAyMjQylpYr+KAB39vXCNxbKnLBilAFWqAkyzNpgqwKvEAg7qbiJ8uCvg2i9GaqknRAZCAdU/tfr22xoLS5pBHmkkxtcHNO/JGfFuUemlSqGhRTYLBuTpLDT7kiCPScV0OYztCr9YNOgrmFWCzag4BYy0FRsLXMXAiTXGKlPNU0CuBLm43Gqk427tBn4A4CZXhlOqAW5nckKrG7NRrATEDZfzPcGOZiMQW9k7rZFE06hDfH1TLLl6aU2DVKlenSBUljDtUCtCkKSQHG25IEb4zLhvhE5mkpV2SVlzUSPMnMUwCena/cMDbbDT4+ybvWo5WhS1V2qq9OmwUhlp1czAbWdJDB0OlrFScBTxTM0eGqUdlV55ZVaSTFTkuCoDMbFhdgI7YjC40T5oiBsEs53wVmKOrWVMKDK6olnRAJZR3cbTjXPBHFU4dwzJpXZKYd6odmYDTHNqSe5nSiwLywwg5nxWtSny0putR2paqjNzL02ViQAoN2VTHtGB/irM1alaCAFiEDBQg1J1ga+kEFzuZEg2MHBYjDskbQPyihikc09rvX6QoZzt/Jxi/0w59MxmyqahVp/YtcEFOWHkAmzfasu8GPgRz8O+MmoZOrljmFNdUHJdzKqHIBBcF50FjAI2AEDAbxFxw5yualCmsVFpo2sKDTq1KemAWYARy7VAARG4EYx4eKRjqdstMjmluiNfSHmqXEcnk2oEfZO9IFtQJVFT2nYpPvjP8A+jdX8VP82/7cFavFkSiqqpXpJRWBk6jGtjABkKtx+EDtg/4UyjZ6rTSmhJYw0W0AAamJI8qzv3MDcjHVw+HhDaJ6lYZppAbA02Spw/wm71EVqtMKT1Hr6VF2a6xZZPyxrdLlVHd0U/aNqN5JaAiaovpRBpCiTcmLzgP4h+r5dzlMp1vMV6283EUk32IBYjdgB6gEuD0OWuogC1yxF49iCoA98NYxo1CVI5xHaTEhRAFOskDdDUCn+60fE9zJN8TCJnPG+WRynMrNECaSKybCwbWsxsTG4O+5+YC29VeR3RJ3gEHVVj0X95xs1PLzTZ6lMEimCATBPr3tH7sZN9FdHVUqiYMLB3/FjT80zEaNRbQdMxHy9xjXhRcI+c1gxslTHTYBGuC1cvpal0zVE6RsCywVkbGBijm8stOrz9BeFZSY6gWC6akR51KgEjcSfjQRVRQVnX+754vZWtUZQKbXHmQwfj73wT4AbKCLEkUK17kL4LwavXqnMl1pAOarinzBrci7LS16L6mlt7necF6/Ew56xBHc/PHnOcVTLtLsOZIHKQy06RH9mRFjvb2wtcS8S1AxOjlTe2lmvcdRJ/KBjEZ4YSQNfBdWLBYrFDMOyOpT1w7P85DrAgQOpRsPWbRjsmQAUikVIIIJXTZSpkHTEz29MY7VztSq13dySLFp3IHc9I+EYKcF42+TzAdW1KpiooKkMBY3FiYgg+w98IdjDfZbouk36HbdX25M/ibO1cjQpVKdKm1NrAsZYNBItB+6xEyNiNsK1TxJXUHm8sBgylEDMwCppNxVUSQAoUd4kjDv9Iic/K0q9Jiy8xGULtDbNuLi3+eMw4jRICq7WQFRBMlzdr9jcEkHSLC5xbgHnMVgYCwZeiYPHGdQcRpFqzUDykfnIrMyNy309KqxLEsoFwACd7QrV89RFCjl661gmlm1AnZqp0MFYQASC5Ak2INzb7lZr5l61U6lpoWJmJa6UwDuDMsPTQewwG4nmHJZRqKgKE1XKKNlW/QOxAsYwsMoJt2ulbKlKVHTya1SqGhUQM6dYCSyHVqcloDXWIi1rfiJVqFeS0py6dJToPLL6aXQhYdFSxJ1RCgAm8EOcxpqMUGkFjC6pgHZS0CYFpPoNtseMvTZ2kRIbeSIMMZn/hOCG1Kq1tXMq608xJy9NzqZRR1a0mopVQG6tRBZSDJuB3uO3FaiqtAPTpuWydMKQGXRIqCTB6nk6iTYkC28iTlaqsqhCWZtKhRqLNC2AFybi3vh64d9EfEaoDVmo0LCVYs9SBCrK01I2A3M/PAlEqHBuDVhxHh65ZDmKgpZfMaahARQyrVIkA6aaliJIJnaSQMaxm+GU+CcNqCgyrWqv1NpJlqjRpQagQonSt+nzGTMkfo78MZfhlAqripVYg1amkqxuQq6WMqo2A9ZPfCt4145ResKoRWq6StFjcgBiGeCLLqCx6mdsMhjL3UlTSBjbSzwelTyqhqia6hHQm5vABPcT2O57Thd8c8WqVkBqMSNYhROkdLRbvG17jF5nMz33959fjgD4pH2S/2x/wArY3zsyxlYYXl8gJ/CWC+JjxiY5drqJt+j7jlHKPUeq2mQsCGMxM7A+2+H4+JjXbXTo1dJ7lFRfj1sJ+QOEvw7xPJq6pRytZ6h2Olajk/NrfKMaDTTUJKMpjZtJI/usR+uOvhB2azDToP2f6Xn8eTmLspF9T+hr6rilViBPzHp+WLXE81yUVKSsatcFQFnUB3Ii837e+PuVpjUBE4qU/DVXP5jMGrU5OXp1dClUHObloFOl28iSWYRuTtYYD6lNkYGjmnfRIA+UyOF17pSbieg81NRDiGckMdQjVtPT1LE9rXx7qZ81iJJYTAkmL/P9fh7Y0RvomyfLCLXzSjSV6WogsGOpgYpSwnscB8z9FDFmNHN+YyddMW0iBZCF9JBW8C4xwuyvXtxJ5hKD00tA/U+/vhv8K8Ly+Yyz85SSr6VZfMLAxqiSN7G2BGe8GcUpVBNNawP30qA6rRID6YG1psNzY4b/AHDWFKoKZ1DXOpASA0QQHYKDH4lJEyNXrYrN2lMViQ6O49DoplMq9NFytVQtI1Ty/tFQspQmVD3Lai3SBvfYTgbm/o4q1B0NUpMZIWu1N1MjbVT0st7+Q40CjlqVF4Z2ZtukhYk7F51atrSAfScXdSwQlJCJuXv85YHYH374JpdfZ2XMcb1fuscreHc1k6FdatLqqsBzBDBUUG4I7nXUWe0z2GFr+iebzFQ8mi7CAOkMwmO7AaR82xvXExmWnlCiwM6eZzIn1KodLfEiPfAOtm+JjSNdOlsIpopQatrMCbx32vtjU1jz0SHPaOqz7h30N8QqQXalSF7M0t+VMMP1wz8K+hVUU83NsWO/LRQB0su7Ek+YmYHwGC1fOZlVZ6+cYIAZkpR0lAWYAqB1gAnS0ggWJBws5j6Q8vlTBzlfN6gwPLfytTeBJYgFXFxEkRuRGLMRG7lBJfJNNHwjS4YTWoaq2Yfop89lC09XnYGmoYSqhZEnb1OKQy31vMJRdCpSKjIFqPTfWCmp6jQGKHUQptcbGRgJwj6S2zlT6vTyDmq1g/OnSkyS3QIAJBnsYjsC35fxDXWKQyhLgGSHAEb6gWjpmxG4MTvgo26aKOcAdUL8Z5RqNNaNNnIGkQIUBJukmOkiOm8ELEAHHHL/RfWq1TXq51OtYCLTLBUsVUNqXb8rnHvKBsxXapUVuY7CIJdE07DcyN9rX/PQeEMVogMI0EoIm4U6Rb42A+GGyPcwCt0kNa9xvZZB418O08i1NENR2cElmWEtFluZMm97W9cZ94sH2K/2x/ytjSPF3H3zNYlkVBSNSkqTq+8QzE+XV0jba1zvjOvF/8AUr/7g/5TjZI132xL91z4pG/dZWbWk/ExMTHGXbWkfQrQD16wInpW397v6bfpjbaPC6a+WnuROoBhb/ixjX0FH7fMf2F/ecb3lTKg42NeWxivmqwOja6VxPzQIJm8olOmzmmnQCwAUhp3F9XrGA3DOJ0VVqYIasxapoU6jDMGgaZM6TMbjBvjecZUISJkD13sYHcjeDHfCf4IohqlUCoy8s1oiy09RXamT5iWqMSRqAMA7Yw4slzhfy11MCxrGEgItkvGBqO06KSAQOYyF2i0BS4PeTglR4mxUOoDGTMgqukzIILEztYE39NsUkelzCoo6Kw0s7A6g4AswYMZU7dVwLEDFwg1KiIBpDEFyPRYB+Z8oj/HHLklOw3XQDRV1QRLIoa0b8snUQTuwMj4EG5Ii8d5K+uI5p1JXqVQQNVkmwnRqsqCQDU6mJJCidOCdOiBEEKgHlH4RYCe03OMy8c8f0uxzFQJTIIp0wTqYAm8C+xIi0gkEiQDpA4feSsQbnPQIzkPFvDqIDVM1QBIlEUloWdI1ONTu53Kkk+osTgDxD6WsiMwUNOo1PUA1XSLgarhfMFmAARJ1EnYSn57JqaLVkQo9QXcqBAI8tMGLxANQ2m0+UYQeJZF6b6XUq0TpMgwdiQYMn3AxpjkJCXJEGra+K/TPkxRPIp1WqsF6SFRUBPUNUnqAvMEEkb3wC//ACXms2zrRp0KGpQo1l3KhIIM2EbgmLAgmwnGTJTk4afDfLSovMYooYfaD/ZmRdgfuGQCR2PvODc9wGiBjGk6rVvBfFGq5l/rQUuzKrioiqVYqAotsTpLIy2bqElgJXvpl8KU6S/WZqtUkrzDy9LAQVVwADr0lgG7hADcyWPNUadJjRzNIcooFOkgjSxAMTE0WOgx/s6hRh0sIrZDhxNatw3MtqWtSYpzCSlQKQyNBvTaPvDY6xBIBxkZJqtUkfRXPofyXD8vw9q3PptVKrUzDzApBgStOTYaQDI/FPthqWrk8+mvK1kZ9IgAiYZFaGU3jQwBHb4jGMJ9HVKg5OaqVCuo6UQLqtFnZulWEgECQbEGCJMJwPhdMF6QqiqgPlraCTtp1hUh7new2O4xrZMORWc4dxGoWkZDg9XL1UcFSjrDBOx83SkCZ3ncX3kYWvpP8bJkaSZbLk66xWpzQQdKhwSb3DGBFrfIYDZjh1fO5IZXLZusGSHSjW06+lSFAdYYoZInqUkWYxGMWzNBqbMjqVZSQwIggjsRhplzapPBy6LTq73wveNGmipt/WDYADynsMc+A8dUilRfUXJCarRGy97nYY7+N6cUU/8Ac/6TjryzNkw7i1cKGB0OKa13O670lYmJiY4i9An76KK9RHrmmFLQg6pAiW7j8/zxp3BeMVc3NJs7TpPomnTpEKznlNJLFTG6tA2Em2m2VfRnVCtXLRp0rqnaOqZ9ow5NmuDMyE1NOhGg0ZXUQD0sVMyQAAT5pj1OOkwDgNPj7rkSEnEvAvl7BHcjVzpDtXZGAI0wBdpH4YEG9om9sUc7wGjRXmVXrJUqVAStNhcSVRbXaQVkDeFG8Y8+HsxkA4o5aqHd1DEnUfKvdSYXSCbetrwMH6OX+3FWqSTTJFMDYCAC1vMbkj29ccvGvBlPku59OBbAAr3DkyxpcmnQ5Gm6QFjqESCCfgVN4vHpYpVLlktpEKs2BLBNRPooJPwBN+3KnVEEaYn7wGyyYIaO+4PaxtMYCcQz3LD0xCipCKf7aldRj7oprUHtJPpjiyPOcAroCO2mkw8f4z9Vyz5gnU1QgUqPSCZHSDJ7jrPpLb4xXjTrTqNms3/rGbqGVoX5aiIBqDfT6Jaf3aHxBRW+0UPUNKAEAVKlViBdmeTSpM02C8xxt0KDjM+N0czUzHLrKiEsPs6QGkPUiEX8dSI1MxMSZPbG6M2flrM5oa35St8N47XYanaXY9L9II7AUgehFE3qkECTEk3Wc0C8up1sxgNeW2FtXUZYi5ubkxOHKrwkK+umNTCnYzIsBcWvOwJuQ5MAEY5ZfgnKqBAsiigufvll1PA9BrVWfsAFFySGNkYLpC6N5q0oHhxDlRcqBIHvYH84/vjBzgXCyWgkAd9QkQRaZMERv7agdicOOX8O0wKNYsS8tLd5edWod7mQv9kdyceuNKlJXC+UqTTYQdDxOie6ODKehlZCsoAOnzaNRthy6lF+DgGjSpsCRRZaRUkM1PV/V+YdSL1KCfNTZQ3lMF85kVZaRB6stUAplj9ypA5RY3KdSgE3gqNyMJfC845p0qtMyG+yLESJgVAhnswPMSdnWohI1Ya+F5zXQdZBlirK120F9LrJuXQvKnc/Zk3qDCSN75pg1qlQ8XUmrClVHSXpgmT5WSVcED70KSD2IqDuMJWUyDVAHCiJBAYbKZYA++m5/aJGHXjmdDUQDYhxq3k8yVJBBsQ/LYH2I2OBgrJTQK0wW6mGkACb7kTcAQP8cJbO4Ds6k/Cn8HkeSJeHuCk01BtLMym80zpQiPwqxDmBA2tc4XPpw8PBVo54CHduVW/aYKWRz7lVIPrAw75HODQzLIFiJVgRHqCJiwE++KXiZW4hk86iDUUVKidpZGbUBqjcMyz37dsNhnIfTv8ACz4iHs2F+fcvSZ2CqCWOwGDnFqGdNEGv5EI7qT6SY3+JwAIjHpKzAEBiAdwCQD8cddrgARquW9hJB007l4OPmJiYBMTt9HNM6qyn7yqOxsdQ98PWW8IUCoOkkTvIFiNvSQSpj3i9sZXwDjn1cVdyzqApsQCJ3EjuRhuyX0gKjoWosU0sHHQSWITSwJvYhhdvK0QIv0Y5mCEC9R/a5MuHlOIc4bGufQJw4P4eytDMs9FHBIK9QIHnUixAMWUQfXc4bmpzLLBIJIMar239ABAtff0OFnwRVXMp9Z0lUIY6D1NZtI6vwwsmY7R3wB49Wq1q2gBnUNJuSAAbhRAHta1x3vjzM8hkxDq2/penwWHPCAvYJ+q5Ex0+/mYSe4ETMaiegYVs3mlGbol2qAI89BhjppsApgqYgsCJG2Kv9J6iHSKgYAffAAdQCSrrEahEagBIuLjQ1Tj2aWpmBWEwWpSCbgaTTYG5uJYRJ3FzbC+EQQ9aQTRaV44l4pqwcvlgnNaobUzJWnu4lQNDsxg6dTR3BMkBm2C1iKkVaqqTXKxppgm9JYMGrUMI0WUMFBME4ALmmo1qlyCCQSvmuTMHt8sE/DVMFLAw0j3LMwRfyLEjfZj8NuQMbaxA530tO8K8M52Wq1Kl3IYTHcEkkel7AdgAO2FmvmDTqAsQtbnPRntqkFQfUFWX8zjSfCeV00EIO7VJtYyzH8rfrhN+kDgrAVzFxSFcReGowsj4wk4yBoIBPNbAd29El+KfE7mAk02mKg7I3qD37NPoxj1wDz3GKlREDGGSUMbEdlI9BJKn0t6YYvHXB9VRXTy1RK2/EhqJ+usT2nCQxI6WBBFiDa0CP029oxvhDcooLnz5g42U3cC4sPqtWizMVIDEDzq1NgyFWvOoB6RkfhO1sHaHGwlVK6Nrp5gaSNld6YZGkT0tVpW3sygmdIhC4FArItyragSPQr+hU9Xxj2OO1d3y+ul+GolRfYg7x28rX9z64j2AupRriG38+UtU4hWDnfUemW/EdSmfiRDfEnF9eF02qJViHQyrG8WI2Ntif5GFHJV2XLUpU6gEUqBfpWYj1C9vY4ZeGcSSooKsGHscckAsdfquu3K8UimRyuXq8zJMwUVE0gBiCNDBh5WDRK7SJ2wwcJ4YtKvXWxFRVtGlRIMqo7LqJMdpwt8AzdfnqAqTqi6nSQFJP2lypj29LHFjifiIrTq5inB1uUpE99J0T8IRmHxGG5qYPFZ54zxCBzCwbxpw5cvm6lNPKDIncAgEfMqVPzwDjGpeKcll3zFWvUakpJE8wPAOlVtpDLExuMU0DpqWBpHSwCo9P4EQU+E/LHSbL2RaXF9NMtkPAPTW1nMY+YaOK0MutVl5AtE6amkTAkQTa84mGB4KwugLSRYVDw3lBUZ5KiAIn44euG8HDBSq0qjBl1AzBBeNMz6QxMWE+kEB9GlANUqEidIUgWg77ypH6flvjVOGKoDQo07QSdkBJup8vliSDewth/3kcLK5rGcHJM+77K9cCoLSyqpfYLpAAUs1yQL+vqYt8T7ocGKVQ8gnzEfLb0uN8X/DWVVap1A6gjBJJMw0zeb6WUfADHShTYZlqzVZp6PLBBNouO/USfyGPORNzDOTv8K9CHZLa0aUsx8YUV5zaQRJMgi+KnDRUzIfLsGclZn7yqAq2G7RCQBe3ebWmquGqpqJLkMDKjaQRfYEkGRfpHqcdOGUaqcuqjshFXlhlKyxCa2QT20xLGykqd4xvYQ1mVR0TiS74UFzOR15nL1Cv9YrCoBtrpyHPuIMj1GC+d8P1JXTVWgq9QOnUCdMbgiBuPn73Lc1K2ZeyUz01kVZAAKKrx/fJ+BItpEGuI5J6gFB1UWZaYUlg2koCWkCCBNr2Jj2RJM4PDR0QxRtohw3Pz1QXgXjavlkKGplKyo0QGamxJnbWRJN9gRh8ylSlxHLs0aGqLpe+ohZ2BI2MA2EbYE5LhFKq6vWyytWTQA+o6ZpiEY050krcC1h8SD74Pwirl82aVMqqwjs0Sp1u5YBbBCQtgJ0+a+qMN7JAypWUgnNvy7168YZGmlOmqpJQ6luB5Qwi/bqM+2Mg4lwzm8rXVy1FY0K2pmkCxGoDSQO0bY2Hj3C6lbMrRaHVg7zGlQKbU4VgZ1jrJK21QNovw4jwhFd6iUgKz6pYAcscxdLELuCVsb3t+FYtrhHZJVubxAGjXqkfgXgxaNRXWq1RlEbQCWG0b7HY+uKPHOEt/pKmhWUqQWAifsyzFSe0wPiCMaFwHL8n7MAAgJYCChd2Un+zAkX7Me+FLxZnBRzWtQDmHDrTE2pqSBzGjYQAQN9/UYzxySOlOt2NEczWNZlAoAqsldC/wBWZ0Jkl25tNZqM5dgAzhhBjSVkggHYQWThvh1swDUo16RemxDMFVi0R0O4Mht+oQL+URjKqvBKVN4rVnJI1ABB9oCT3DlkLEWlZ9QMW6WZy9GGSlWpEq2iopZAWYW6i2rQJ9YMD3J3/biqWH7h12n2lxiuK1bLjpTyvuGIEAzJsSbCOx3x94mSVp076EtaPM7aj6gwpA+OKVWoFZXmo9Z4DBSzyyqrQCxuEBEsQZn12vZzitNsrTUJUoVWJDNUOkkzZgAxHmbVBvAESNsRhcHXyC6Mc457pRr1WqLz6p+8a5EWIDHQojYSVjeZGO+Uy1OlTbME1CQpdnDyj9ysgwCxPlMb/n9amKrpSAVVqPA1MAumkCEBmygkMbzOgYs+K/DFZMk70gp0lWzCRoqU1AB8ps6aoOpSQYB2vjWDdDqo14jY553G3VZnXrF2ZmMsxJJ9zfH3HM4+Y2Li2tF8F8JZJNxqAn5T/HGm8PywCi0fl339sDeAcLjthxoZCFGPI43EvmccnJdgMbE2kKp5rl1ANA6mnVN1tB/4SY7298SnRqF6zstSZCLpKhYADEk6gxkxPYgRe+L9fI6ukASRpv7nfA/661NnoVLspOiTBZZtc2JAgH3+IwzB4guj7XJEDf8AFZpxbLhKrDS9m+8V777N8xgiMtTPD1zFSoF+rmqUSYNVqhEAR+1TVffr9Ditx9G5jsVCidh8Bb44G+JK1OnUp0XR1PKoVAWcFRzKQYjQFGkaiRuTubmMdvDDOFWLk4bRW9rvwvNKKiVapFydTEkQGLD1gAA2+GH1wXZXBBkKwuVggeZWWYMz6yJBkEjGMZzP6VCrcARYiPTttPvh88Bcb5uVFMn7SidvVCZBHsLr8h64DGwkVKOSThJg52Q80/5Js2TetSVY35Rer/e1LTn/AOOPbF3hahamkA3Yksxl3awLMfWABFgAFAAAAFXIZ9NILEAe5titxPK5tKxrUSj0idWmDqUwAYPcWnCmvNJ5jGatkX8Qr1rBKuGlWWJU7TexsSCDYgnFSvmM3p0n6uT+Mcxf/wBZmD/xH54oZXK5qu61Xbl0wwJWDqIU6oE7SQL/AB+ROrnab6mVgQu5Fxb32OI6Q6quEGkDcoUictwzNNy1QkzOhZ1EwB2AsAALAYyPPeJhUjQqtCBbovWzSxDGAdKzB/Fae86TxdnrUK4UkM9N1UjsCp/fYfnjDMtWKgAH1n2J7/KAflg8A1ri5/NIxxLcrU38J4CatOtW1HnXCg7EwbQBYGQQCYImxxVGTdKWrMUeYWck1DLOmkAnUA41oZNrbNvIxp/0eZNPqwNaooaoxZdZgkE9Nrfdge2C3GeDCVAYOX1QQQbhSxvfthr8S9pOlhC3DRmgTRpZL4bz7VH5zzppAqoBIJao0sTBCoLkmY/ZBiMdeJeIqQjTRW06QwAAJgyFgQT3MAz8cMnEOHJSv0ye8AXPYfz6YQOOZJRXAAsSJHc+v8++JHK2U7K5YnRN3tGuHHXUV1QFQE0IeoAaSAskTIOv3FsX/G/GnGRWghJDkWI6qaAaisjszabExC7TfHHw9RYFtQs15G1x6ekn44vcTyQaZvOEula2UdyY1rnxFqyg4mHCrwRZNsTG77lixfaydFv/AAjKAAYMVTCgRvv8v5nHLJU7YK0qHSJ/ntjiYHBl0ZHVNnk7VoQy7Edr/lhZ+kVyFpinRDktd79ECQQFuWiRMiBvO2GHOZZiulWKsDYj2/wwqcXzFSwZpvEggQRb8Pof8sZM5gdkLd1qw8eZwdeyA5Yo1NlKlmksXaNREDpn2M+UCRE3x8qeE6WfqM1ZQGIALKAGELpF+8AAX2tjtmqQVKhUk6VBvFtVh+e+PXBuJNlr1qFUpYlxcQe8GNXyO041xSSbs0T3xsc12YX0WeeOvAtbh55k8ygfvDdZtf0vAn1IHph58C+HeVkFc/1lU8wkXgEQg9+nf4nDVxnN083lnXlNy40a2EK3MEdMXMGO1re+Pvg+hTpU1yi1DU5PQSwAO0gWtYGI7RvIONOLlfJFkvmP8eqwQs4b8yA5WtyyUYAg7qQCB+e6n/PHSrw2pM0qWpTsFqOkfCHEfIYMeKPDLMC9HzC4AgH5Tb5G2Eij4zbKvyaqVCw/ApPtsbi4ItO3bbARMfVHddEYhhFpjpcGqOZrUwAN9dR6pPtDOVH5Y68Uz+uKYPSOwtMdvYDC5X8bO8KKVUAmNToVQSYub9+/6jDf4X4CwHNzA6jcKe3xH+Hb44qVrtlRlaNSrHCOGnQWYb7T3/8AGMO4rw8ZfiFWlHRzAQI7OwIF/ZiMfojP5oIpJ2Ax+feO8ZOYzb11gJspgmeXLA/EkmO8YZ9PZlkcG7Vr48v2sGKfmaHO6/7WncN4fWal0pl3ZlCjmBjC+iqIEzckGf3ghT4S2Vy1dqhJdAVp6WMU1e5HoGMSd4BA7mRWW8WpSy+mm0VWWx7bdo772F8LdbjOfemVWrRVTEUqhZahvEkWLEkk+uCDL1I1Wp7+13dyuvw/WmvMUdciza1IJBCwFjUO5BkCAe8SEz3DhqpejTbuABb/AAGGDhPiBmo8pl0OCdp9YKg2kA48LTV8xJgxTAB9yST/AIYUXujJvkiyNkF966cN4edEkXBF/WR/HF3M5O22DvDMg0j0O/5T+YM4u8R4Zp7ev6RtjkvnkJL60C0cRjTlSA+Tvtj7hifJ3xMM+9CPRaHkbgYLoIAwncN4vpImImCZudjYR74Of0ho3F5G9vh/HHY+nYmMxamiuHiIXh2ynED1n5fuwqcbypMlbg73NiO8AX/mNzi3nOOBqx0+VmAE77b+kSDbHLM1LG8Y4f1LFAy9nqtkDHMAtJfFRAZbAss37hfT1mLe5i04F1KjsiU9Z0iw1ER3tBMb32Pb0ODvEqKVg1Mxom7CJT9r19j2I32wtcL4HnTX00q6U2QkDmhtJj+rKFdWqZPoB6nbHTwoD2gXRTXymOwRdp0r1Vy+TUKHpk1gg5jI8kkgMNJ06batII+9OFvhHiBqPFnpkrpempXT3anOqR2b+tBn8K+2Fr6TMjmKBofWM0cyzl2NiqALpgBfW7X98Kp4tU56Vz5lcPAsJmT8j/iT3x0hhg6M94/0uW+cl6/UHFuLhKQ5cNUfppj1J7/AAg/kO+Mx8Q+FDTzLuhDM6B29S19ZHqS0n1v3Jwb8P5+nVqc9W1IqBafcAv8AaMfjDIp91OBHiDj7NmXMA01phU7E3JLfAm0egB74x8SQggbro4WOpA4ahePD/MzeqkQCAIZ2HYiIJ7n9Th18P8Q00TSYyaLGmSTJhApEk79LDe53OAvh6qlPLIwENVGtuxlpMfKY+IOF/jPHEofWWJ3ZXIG5LJoA+J5f78A1vbIarxLg45joF0+k3xSNH1ak01KtjB2Tv8z5R8TjKkqVE1diRt8bd/acemzbVahqVLszAx+4D27fxwfzlBaq2UBtrg9U9pBjUT39sdaGIRNpcmWTO60Fp5gtCzsNzf2uJjbt8cHst4ieBTNKmVYAsAnmkW7wbwJI/dhbqo2ogiDMERt67WwbySMokidIEbkkXuCdjcW7fPFyhpGqkT3A6FM+UoioFJXSSJ0/H4bjf85jDZ4e4bqYE/zf88BOCoDHqLflbDhw3MikdpgXN+5PoPbHmsZKQ7IuzEDlsbpq4dkAsWt/C2LHGaIJn2/n9+K2V8SUAqhpBsO25t69zOOHFuMq2kKJBt8L43THDx4YtB31WANldLZCEVaQk2xMcamYucfceTz9y6VOS8eJhU1lwApkyREaRe9+3p6Y918/JLX1GT2jbT+79TucKnNFWmRO9u3sf/E+mPlDidR6YorCuYTVHy1DsDHYiP8AD0owvTz8FJJG3fLkmXh3FlapQRSWFSXB7AKhO/qZ2/xwc4lW6fX2/n3IwrcPypp1qKrMLTI0zqhKYZFn0Mmbb6j2wZrIXBuw7X/PtjLNgg6Vpbt/kqmvsW5As5XdYJBbfbpdNtj94XPtvY74X/EuderTCpq1q4IZW0xBJlbyFJklPusAR3g7meGV3J5al73g/wCeFjjHDHpmXQqx9ZHrt+ox2cPEG0SsWJlLhSW+JZivVaa7u7AffaY+F4G3zxRqJgvV4dVF9Jb3WT+gvi1kfDj1xpUEOTa36e+OmDouYQrfh7jvKyTrMMhgf/IbH5En8sGOH9fW538o2sBAwm8U4NXydULWS02YGUYqSNxYlWBBG4IOCFPjMggNf+dsY5oNy3muhhsSW6FPHDHcqyRtDKfZt/1/fjPvFNU1KrMQenpntYn/AM/njauE0SyoqLS0IFS4CFkemrrL6WIsy9QHvGFTxH4aR0q8vzUz1LJIKlVbUpIBIh1mw3FuwXhXx8Q1uDXmgxDnOb6rK6FQA+2CuXzlzckRBmf8PTewwKzlPQxX0xb4fl6tVW5aFgouR2sT+4Ex6A46JWIK5xPMBipAvpgm8xHvYTuIwS4VUUG5jSoUfnv8Z2+WKP8Ao1hTBaY277zOPeSQqb2W0zMb2Hsdz+eESaik1m6duFVI/n1wd+vAOVP+7DD06SbH0t8rGcJeTqtYyQPf2Pvt3xdfif2wYjy0tQgwWKhxpnsCrN+c9scWfC536rsMfTNEzFdQWoDY6SPceYdu8/ljvlc4H1MCDpaLEeYMAREyCIMjthNbxH9SXktNZUEUiRDMsdAYzAgEAmNhbti7wo8miS7A1CQWIAAPM01Cbb9RYg/tHCH4I12vLwRMnDj7piqZq5x9wrVOMrJviYEYA1sn/cRdUseEeJFqdVCTIhh77229hi1w2up+03AM39r/ALsBvByXremgflfFrgCf6s59n+Vsd2RgzHyXFjcco80/8Prsc05P4Le0sDa59D+XvhmGZqctSrMoipOnUJI5YW/sGc/3fS6xwnKl8yQpIlF7dyThvXJlUUMZLK+kwsEEIdwzD7o7nHPxVsic4cgtdt0B6r5xcAU6ZABOumbgmSaFTe8tcz69+2OeYyYdcui0gztSsplaagEgkKANfVEqCsCCSJANjN6Psk1TUYUn0C5VVpkFmA8i7gE7mwm8fRWcPl6IFMlwbk1CVpljDEAru6hdItaSbAEw/wD5gLrsDXzWU/x2vX9IM+WRaD1qcqdaI6izrqqrSZUqR03Yw4UEi0o06bL0ujNtCrVSkDSekughTTBVplm1GXQsW3pgrpJx9BByeaLR/XsoEkXGfZVv6ltu1xNsW+IVDyHBJjk/D72kT/NsG2V0kmhqg7/y6lRYA0ePuEO45w6gtBlrEnKchkVD5aZV28oAHVZWUgSNLAmCIxn+i2aFA5pE5uX7us7DuRYgev8ADG8ms6jLM5fS2rWoZgNYbUJCkAgrzpm3QPQQl/SLxSnQyjrRIPOmjRbeac6q1QezsdAIsVVSN8HgpKYGbmm+o5fgoZW634+6PeE3L5aieos1Gg0X/wBytMQPQmkfnPrj3lKDNUrELtTQMB1M9U5Ven9nSgFhvrF7RjrwNlq0kdkDCoKGoN1BkanTcWMgKC7CIAksdySQfC/FtLM/WqFNKlJxTrHmgqgRhTYalFOLgKJIibnc4yxB0j5AwbSAnyq/bRGTlAvmErZb6P3qV1bNVFpI1TTp6jJgtpLgFFbSCYJt3iROlcO4GlH7CktNBAjUjlNLq2oFQysX6Glpny2Ati4yDlUTcEMARJKkOGQpp2ALEGwEkC8Y9lprAm5NCmZ9+XVn474OXFulytOl5Dp0LqpC2PLZ8UHrcHWvTZaa6RPSHHkFNmVtZmFYsSSewUD7uA39F0flhapArToqinNJiGVSJnUAdQhiIIvYXLHTzZFPiYBhqZr6StyNWsgxG4abd7Y7AzQpBnOkEtAWWBBZT1q4F5axU3PaAQ1ksmrdz2vQ6BFlG/h7JeTw1Qpq3TUqAHRzAypL6jTKlW6lGsBB3k3jFHxB4ZppUo1KZZr9O9wwJG2xAn9cOFfNqiVmK6hzHMbbZmRPzAn1wocf4y1RqbXnmd/ZW/SMDC577c7qR+CR7JgJqvD9JU8UcPTUzhRCnT3HlsRf3t8sUuK8bjLIAeqY/Ib/AKAf5YKeI8x/q9U/tNf31nCPnVP1ekT3LY2xAOAvkkzW0mua4PxByZnExTxMaqCyJj8LViBW2tT+Hc3/AFx34JXIyjiez/zOKvhxSvPH7H+WOHC6o5TgkCx3nuPjhLhZPktDXUB5rRslmX59SDsibRO7H5HbDfwXMmoZjq6gRqMEkA6tMwGPdwJbvjO8hxFfrFQk/cFh7EgX+GGrw9xygu7BWkk6tU3AgWWIgEzPpjnYuNzoXtaLJC0hwNE9Uyg00+yppTQB6L9CgEs7LqYx3Oo/njvnc7Tp1KDF0RkpEdXeXR12vYqwI/bwGpZ5XqFqTmsJpLppjYU4ZmJ7TpCie7DtJAj6QuJii1I9I1U4DNudJIsCfQj88KEQdOGuG7APO7Sz/EnvVvMcepU6b0ANbVqj1H0FCqTmDWBlysE9u4tvGLGazdSpTLo+vLqgVqIjrbVzBNQCQDY6byN7G+W18/c6iskbQu5223wW4d42qUF0QGUTYOyHb8SFSbAb9gMbxh2tOZo119TZ9UvOToU/8Oeu1NatRUpCUFJAWICoS1Rzq2ik1RZ9WUd8ZF4140c7mncHoUaKS+ir3+JMn54Ncd8dVsxSdNITWNLMaj1CEknSuokAExMXMCdhhSNMdotf7uGRRBrs9UaoeCB7r0tbVls2yZNq9Kx+qq4BC6Qwy1OLD097/kMZP4d44cvmGqlNSVAy1EEAlagIbSSIkAmJt64ck4vo4Mgt9p9gZiRo5g77dHJHwOE7LrQpUwtenUFTVquxSUKkBQG2vpfXpMwRBGBw7OHnJ1txKkhzV3BbLwbj9LMUU0up0sHd5VRpDa/JqNQMWgFYMXhmgFiVCvTqVQ1NtQNFQpGxFNKqmCNzOmRuJE7jGHOlBr0nFFlJg1HIJB8saQbgCCRvqFsdV4jmaLEU6xYGCSolZ3GoMI1D32PrhZwrLBGlV+GmwEWc/O9a9SaH4gCr1VZyrqtjBYqY9xO/sNxj0nF6dNFpVqiK4J06tSFwwMaho0p5iSAWBgfJC4V4+rIJqAORbWshjFgG7OBOzSB6Wx94j4hoZkXUJ1QBp1IWeWJ1KAwdjLGRe5wTYqNkcz68kRdfp6J+qIXSqumC7VCoP3hziwIIsZTq3/UHCPximFqUgQQRU/6WwBp59qY+yquo9UclT8CMVM1xvMF6c1C/Vs4DX0nuRP64GOHJYvck/nVHm0/CseIqh+r1xvDt6/704W88D9ToE/ibBrjWZmjWBA87bSP9p/lbAfiJ/wBTy/xb95xojFfn9JTzv4ftBMTExMaFnR7gjAVK/YaDvbuB6+/vgTQaAbdj+7BLhlFtNVo8w0DSLE7yDG1hMeu2LdDJqMuwGoPq0tY6mBcXg2jTFh6HCyQCUzUgK1lX01ZtJpJsPb0J9cd6tZ3k69I9IX3+OBHEcwQ2uCARABEQIA797Y8UKxjVPxHsfbtacLy803PyRRM4yyBUbfbYe2w27XMx3uccTnnhpYyDuQPb/AER+vr46j3AMiRI+G5HaxxMwhgL0z7SB8cWAqJXzlMX8xnv7D0EH88WPqpH3hHwgb/xv/ngfQUq9yBP5G4HbF1cwY+Fu8kjvA7fzbBINFzzlOb/AOA7d8UQhmQcEXIJvH6zce+ONalGxHw/mN/XFql1SueRymMqKuvSf2lCn/lGC/8Ap92fmCmkhkYEl5OiQBUcXqrBIIbeLmSSV0Jcaoiex29bfpj1k6gcOuzLMX37Dv8AzbAuaCrBRxuPVOXQQ01PJ6VOpx0mmaRBANjDEhgUIImDAxY4JxStUZaaQDSqPXEtUJY6YK3kuTCkAXJVsBlanVQEEXN5Ekevz3vi/lqZUHQzLIg6DB0+m+0hd/Y9sLc0VVIgERz9d2pVSppBKwWqxWsW0LTbklgYB0Fy1PYkkjeJPStWzRrtmuQupNaOBV1pJBra4JHQadUgSSDqgQxUYFI7AqQzAqCqwxkBjJAg2BkkgWud5x4OYZZPMaCG1DqOrmALUlmI1alABn8IJ2EBk6ItVyzWVNAoDBJRWhTICuAVJ9JBB/PuMU8yBzaVp6hv8D7Y9ZvO6yCzloGldVyoEgKPQeg+GKlOrrqLvCkHUP1vI7Sd+2GgGtVM3JXOMt9lV80Go4DaTpJFQneYwPzjTk6Ps5H78F6mbVkrq6sVdtQQCQXIizCD5tJN9gbdsUs3kiMoVhpRtYMWK2B7WMsTc7D8ib+0DuaXMTExMOSUzjxSFXSlICNvT4QO2PI8Um0pcdxbf54jcGy2mRUYmRAldiBfy+5/Intj0eC5YT1ubSt1GrcndbGBMb/4Jth5I7cuOd8QrUBBTf1j+OA4qqGkBgvcAx+X6YOvwPLiIdyZv1KPXYafn8Acen4DltP9c0xIuNx2jT6xHrPscQSMG1qEEoDVzH4WcfEzjmcy/wCNvzOGL/QmVgHmubXhk3vH3e9vz9scq/AqOqFrxYbjVeTNxEQNBj9rF8VvwKspQI5l/wATfmcT6w/4j+eDI4HTEE1wRqAIiDcwYMkDY3P8cWTwLLT/AFjm9+pR2P7PrH6DvazI1TKUHp5XMsJVKpBEggMZHqMehkc0baKpvGx9J/cZw1ZQrTRFFc9NgIp7TO5W83gH0PpiumaZWE1gVZjICjphQAzEi6gADYTY4XxXG9Pf+leUJcTJZqAQlWDEGGvNxiu9OpTfqDBhcyDN73w460XQBWYgdIICWGmRcraIG/vj7l82uoHnlZYNshAMEEgad7Jvb8rTiu6e6mVJKVWWQCVnftj6M1U/G394/wAcMeZ4bQqOxaoxbpBuo3AH4bW+J+OPI4Lld+a8eoZd528vfse+GcVvNVlKX/rVT8bf3j/HHw5lzu7fmcMFHguWYgcxrnfUptYExp9T+7vOK+T4VQZ3Ds9NVKgEkXkkE+XvaP8Azi87fgUooOlYyNRYib3vGC548FAVEgC14/w74tJwTLTBqsNout9yfu+gnHNuEZa32jSWWQGUwpcAmQt4UzOBztdorFhcF8SVR7n3/wA8df6UORBX4RFsdP8AQuXgS7zabrF5k+U2A7/H0x8qcHyoamOa3UTquvSApM+Xu0D/ADxWZnT0V9pCKubQknlC/uR+gtiYPHgeS/8AUEfFl/7cTE4ze/8ABVZSqQ8UVRYIkCIHX93a+qccz4jqSp0J0knv95SpG/oe3fE/o8/+8p/30/7sQ+HXv107GPOn/df4jE/4h0U7S9nxNVOnoTpMjzb6Sv4vQ4v8L469QOC1NW3CFSQ0j8RcAGbAGd/bFnK1GRFQBOkAWq7ydxveb94nbbA9vFRJnlR7BiBcjtp9o/k4XQcKDfVXtuUap1nUKBmKPSsXWD0rpB/rbkj09seWzLqjtzaUhSQsGTpWAP66R5d/ngOniqAo5I6duq9r/h9ZPzxyp+JIQJyl8hSdRmDN9txa/tgRC7p7K8wRfIZqVGmtSjtKEWLMTbmiwI33jae/t6rC3OpSwgnTabCB9pHofTApvFU/7ITM+a0+sacdeF8cVuZrKJJDDVqP3QpghTbpBg+sYhjcLNeyrMERIPQOfSIDag2kRdWkWq/L9x3x8rVXI082npOoFtJtIMX5u7GLfCJAgWnpupJ0JAUrEt7EdvQG/sfSD7WnUYxFKbA3bcixsPQG/wAfW4X1/SJUBnndmptUQGJgpE60E35tiCSpAtbHQV2JA51KBIkqNj0/739mPmcfMjmg2pVCFjrLKC0pqqM0Tp7TEie+LQWpJOhOoTbV91EXeD3AM9j7mMQ6Hb2UVPIVWHWtakGaoTcX6SEEDmxfTb+F8cqFd3pUya1FfKxA09OlgVuaovAuLGZG98XqlCo1NkIXrUj7xgEMAY07yN/3DCxQ8R1ROvr9NliRB8o+H5YNrS6y1UTSYaWYchZq0QdPl0yRzCNQnm9m7+x7DEzGcqtCc2lBi4U7q6NF6sT5rfsGw7BX8TTJ5XZY6ttJY/h76jPwGK2c8QVGaUASV0kWawJIjUtgJO2CERvZUXJipZmqdILoNBBA03OpFE/1sQNTj0lSPYAD4mrBlbSkqpUWbYlT+LtpGOVPjtQyKsVFJBiFW4YNMhfaI2vi4viiNQ5Q6iT5ttRm3T2O3oPXBcOv+tqrvmuS+KaoIIRBBn78TEfiuPbHMeJKurWVQmDHm+8QT9691GK/GeKc/R0adIixJBsBtFtvngdGGNjbWoVElEK/F3YzCjb17CPX2xMD4xMHlCqymH+kKW+za0R1fh2x8PiBIjltuD5towvYmB4bVeYpmpccDnSlKoWJFgdRMGSIAn/M4Xs0kOwCssHyt5h7Gwv8hi1wHPDL5mjXILClVSppFp0MGie0xE9sF+HeIKCKlKpSapTWo1QzpLBiQQVm0QNLobOD2IUi2tDdlRNoFl8hVqAslN2AMEqpYAm4FhvAP5Y8Vsq6NoZGD26SCGuJFt7gjBLwzxn6rXWsQzhNRCBoBZkKSTeLMbxizR8QKuV+rlC/23M1vfpCBAsTuAJmfaO+CVINTUJUAqoSAepLq3uNrYunN5W8Zd/b7U2N/wBm/b9cX6/H6To1MiqFau9VtLAErVNOUPbZCZINyLWM218WoKlGrpcFAVqU1gI4UvybyTKK+i82Ve8nFFtqwUGbNZT/ANO//wBv/wDPx/PFPO1aTaeXTKW6pYsCfaRYYYsn4sCfVywqu1GoXY6o5oLFob4QtzO7Yr5/j1JqLU1VyalOmrawgKtTVF1B06nB0sSGsdS2ldRoNA/2paAVaDpBZWXUJWQRI2kTuMEPreU/9PU/+6f+ge364McI8VU6QoUnR2pUepbjWlQOX1oewadLIbMoHcAjkvivQWqUlZXZVAQ6WpU3QqeYikb9NgdtTSWvqsi1AUFzz0ioNOkyXPUW1A+gHSNvXFHDPl/E6LWdhR5dI03RaVNjCGqQXYEwZnbYwEE9M470vFlMJTU0WZ6LBqbsZMvPPLfi1WK/hPr3gFKkr5ZkDdallvZTpO1rkHv7YK0+MUgI5PYC/JJsIuTRvfBij4voqiUxRqaUR0kuNUOGE2AuA3YidK/KnX4zTr5dqLFg60wVZ4YOy1qtRptKsVqwGH4I+/anNDt1YNLjWzKsqt9VcI3QraadzEABuTci/vf1E4DZ1AGICOkbq5lgf7o/dg/wbxMlClSpmmz8uq9WdQF3pCkNNjBSNat6gW74EcYzyVmUpTVAqKhgBS5Xd2CgDUfb0EyZJgaBsoTaq5TMmm2oR8CAQR6QcFDxwRBpAz8PQjsu18BcTFloKlo2eNobmm3ycAf8uJgJiYrIFMxXbnn0X+6v8MfBVPov90fwxMTBKlOefRf7q/wxyxMTEUUxMTExFFMTExMRRTExMTEUUxMTExFFMTExMRRTExMTEUUxMTExFFMTExMRRTExMTEUX//Z)\n",
        "\n",
        "Now let's take a look into a new concept- \"**Collaborative Filtering**\""
      ],
      "metadata": {
        "id": "3_Tr4DWYXc5I"
      }
    },
    {
      "cell_type": "markdown",
      "source": [
        "# Collaborative Filtering Application\n",
        "\n",
        "Uptill now the recommender that we have created, our content based engine suffers from some severe limitations. It is only capable of suggesting movies which are close to a certain movie. That is, it is not capable of capturing tastes and providing recommendations across genres.\n",
        "\n",
        "Also, the engine that we built is not really personal in that it doesn't capture the personal tastes and biases of a user. Anyone querying our engine for recommendations based on a movie will receive the same recommendations for that movie, regardless of who s/he is.\n",
        "\n",
        "Therefore, in this section, we will use a technique called Collaborative Filtering to make recommendations to Movie Watchers. Collaborative Filtering is based on the idea that users similar to a me can be used to predict how much I will like a particular product or service those users have used/experienced but I have not.\n",
        "\n",
        "We shall not be implementing Collaborative Filtering from scratch. Instead, I will use the Surprise library that used extremely powerful algorithms like Singular Value Decomposition (SVD) to minimise RMSE (Root Mean Square Error) and give great recommendations.\n",
        "\n",
        "To get an understanding of the algorithm, please go through the following link: https://towardsdatascience.com/understanding-singular-value-decomposition-and-its-application-in-data-science-388a54be95d#:~:text=In%20linear%20algebra%2C%20the%20Singular,important%20applications%20in%20data%20science."
      ],
      "metadata": {
        "id": "NWdTx3LaXc5L"
      }
    },
    {
      "cell_type": "code",
      "source": [
        "reader = Reader()\n",
        "ratings = pd.read_csv('/kaggle/input/the-movies-dataset/ratings_small.csv')\n",
        "ratings.head()"
      ],
      "metadata": {
        "_kg_hide-input": false,
        "_kg_hide-output": true,
        "execution": {
          "iopub.status.busy": "2021-10-03T09:20:22.376076Z",
          "iopub.execute_input": "2021-10-03T09:20:22.376445Z",
          "iopub.status.idle": "2021-10-03T09:20:22.489848Z",
          "shell.execute_reply.started": "2021-10-03T09:20:22.376412Z",
          "shell.execute_reply": "2021-10-03T09:20:22.48862Z"
        },
        "trusted": true,
        "id": "lSFUMmcuXc5P"
      },
      "execution_count": null,
      "outputs": []
    },
    {
      "cell_type": "code",
      "source": [
        "data = Dataset.load_from_df(ratings[['userId', 'movieId', 'rating']], reader)\n",
        "svd = SVD()\n",
        "cross_validate(svd, data, measures=['RMSE', 'MAE'],cv=5)"
      ],
      "metadata": {
        "_kg_hide-input": false,
        "_kg_hide-output": true,
        "execution": {
          "iopub.status.busy": "2021-10-03T09:20:22.491121Z",
          "iopub.execute_input": "2021-10-03T09:20:22.491444Z",
          "iopub.status.idle": "2021-10-03T09:21:06.595242Z",
          "shell.execute_reply.started": "2021-10-03T09:20:22.491412Z",
          "shell.execute_reply": "2021-10-03T09:21:06.594047Z"
        },
        "trusted": true,
        "id": "fLzfKFzgXc5Q"
      },
      "execution_count": null,
      "outputs": []
    },
    {
      "cell_type": "markdown",
      "source": [
        "We get a mean Root Mean Sqaure Error of 0.8944 which is more than good enough for our case. Let us now train on our dataset and arrive at predictions."
      ],
      "metadata": {
        "id": "uJga-OzGXc5R"
      }
    },
    {
      "cell_type": "code",
      "source": [
        "trainset = data.build_full_trainset()\n",
        "svd.fit(trainset)"
      ],
      "metadata": {
        "_kg_hide-input": false,
        "execution": {
          "iopub.status.busy": "2021-10-03T09:21:06.597181Z",
          "iopub.execute_input": "2021-10-03T09:21:06.597541Z",
          "iopub.status.idle": "2021-10-03T09:21:16.518451Z",
          "shell.execute_reply.started": "2021-10-03T09:21:06.597507Z",
          "shell.execute_reply": "2021-10-03T09:21:16.517445Z"
        },
        "trusted": true,
        "id": "WBvRBI4VXc5S"
      },
      "execution_count": null,
      "outputs": []
    },
    {
      "cell_type": "code",
      "source": [
        "user_rating=pd.merge(ratings,meta,left_on='movieId',right_on='id',how='inner')\n",
        "user_ratings_final=user_rating[['userId', 'movieId', 'rating','original_title']]\n",
        "user_ratings=user_ratings_final.sort_values(by='userId')\n",
        "user_ratings.head()"
      ],
      "metadata": {
        "execution": {
          "iopub.status.busy": "2021-10-03T09:29:38.245717Z",
          "iopub.execute_input": "2021-10-03T09:29:38.246133Z",
          "iopub.status.idle": "2021-10-03T09:29:38.413603Z",
          "shell.execute_reply.started": "2021-10-03T09:29:38.246098Z",
          "shell.execute_reply": "2021-10-03T09:29:38.412295Z"
        },
        "trusted": true,
        "id": "Gq6XsYbpXc5T"
      },
      "execution_count": null,
      "outputs": []
    },
    {
      "cell_type": "markdown",
      "source": [
        "Now we shall be checking for a particular user- as to what are the ratings he/she has given to the movies watched. Based on that we shall be trying to predict what will be the rating he/she shall give to a new movie. Seems pretty interesting isn't it?\n",
        "\n",
        "Let us choose User no. 7. First lets take a look into the movies he/she has watched."
      ],
      "metadata": {
        "id": "ZqPimz0GXc5V"
      }
    },
    {
      "cell_type": "code",
      "source": [
        "user_ratings[user_ratings['userId'] == 7]"
      ],
      "metadata": {
        "_kg_hide-input": false,
        "execution": {
          "iopub.status.busy": "2021-10-03T09:29:50.82868Z",
          "iopub.execute_input": "2021-10-03T09:29:50.829098Z",
          "iopub.status.idle": "2021-10-03T09:29:50.856853Z",
          "shell.execute_reply.started": "2021-10-03T09:29:50.829062Z",
          "shell.execute_reply": "2021-10-03T09:29:50.855552Z"
        },
        "trusted": true,
        "id": "LGkIkD9KXc5W"
      },
      "execution_count": null,
      "outputs": []
    },
    {
      "cell_type": "markdown",
      "source": [
        "**Observations** Okay what we see is, the user here has seen multiple movies from the action and horror genres. So in order to test on this particular user, let us choose two movies that he/she did not watch- and accordingly shall predict his/her ratings for the same.\n",
        "\n",
        "Lets Choose a movie:\n",
        "\n",
        "1. Since he has watched multiple horror movies- will give him a horror movie to estimate his ratings. Our choice: The Conjuring\n",
        "\n",
        "![](data:image/jpeg;base64,/9j/4AAQSkZJRgABAQAAAQABAAD/2wCEAAkGBxMTEhUTExMWFhUXFhcaGBcXGRgXHRkeHRgYGBgYGBYYHSggGBolGxoaITEhJSkrMC4uGB8zODMtNygtLisBCgoKDg0OFQ8PFS0dFR0tLS0tLS0tLS0tLS0rLS0tLS0tLS0rLS0tLS0tLS0tLS0tLS0tLS0tLS03LS03LS0tLf/AABEIAREAuAMBIgACEQEDEQH/xAAbAAABBQEBAAAAAAAAAAAAAAAFAAEDBAYCB//EAEEQAAECBAQCCAQFAgQGAwEAAAECEQADITEEEkFRBWEGEyJxgZGh8BQyscEjQlLR4QfxU2KCkhUkM3KisjRDwiX/xAAXAQEBAQEAAAAAAAAAAAAAAAAAAQID/8QAGxEBAQEAAwEBAAAAAAAAAAAAAAERAjFBIQP/2gAMAwEAAhEDEQA/APEsrX9+Hu8Mi7OwcObt7+0dZxqNPZHjHJTT7QDPpo8PTx5t9Y6kySS3d9WiRUglRu76/vrAQjT3ziUklWxpVmrQbUidUjJlcXI8jYki2kNNlEUZnq2utf27oLiBcvR7D7xxOQx8Bf33xZmINKG1ttN+Q8hHOIl/L3JHm8QVYXpE5lsGIaj/ALRCzRUOlxVqbt7rCJDav7v6esMFQwgJETBlIYO4IVVw2zFm7wY5yVttDDeLE5DKLj7NZj3VtAQIJBd4Y+/rFuSkEvQ1s1SN20iFaL95pAdyUdkvQUO++m8RKRZtu/XbSCMqWnqTQ5nDl7jQNyOsVZicqmcc4iq6hHbBmd7W0o+vl4R1MJBBFLEGJJs4kvTuAoXOar6ZtPDuol4fhC6XHzWryoeUHeHIQbVZxz93gThsRmIcBJdRo7ANQDZmUIMYKV2XFCQabFv5jNIpFPYDi6zTalaa6QokW9Qd6E+NfNoURYzhQSdzyEW04NRQSzl/DSrxZTIYim3rBjCSGw0x9/tbnF0wG4LIBUslTMkEUfMc4Tl5GrvyMH18JQFqAmJLJcEAV7Ki3zaEBO/aBZqxR4XhRQp5X97wbGH7R97wQI4pg0oEsiYCVXSNGSCyqmuYkf6X1YRzuEJJKjNCRkChmSO2chUUJZRqCMveo8nJcZwZIlsLrFdaP6MfWIsdJcFw9Qw55S5goTj8AM6QFjKtEolQsnMWUCH/ACk8rQ0zhqesQnrUs8gPSykkqW2aoQQHYsc1xF3Fy8rgXCEV55lHyp9OURTsOQuSafk+30eGjjFYBCgM0xI/FVLenypS4mfNQKqALDeB8vBSy34wS8zIXAYJp2yUrNPR9dYI8ZICR2WDquXtYtpWASw5D0c1pataaxYlWp/D5YQtQnpUpJSAhg6nCST8xsSRR7bOQ+G4dKUJZVPSnOQCKdhysFRqLZUmw+cMTFCWkF3p7sBvFmQhLspJUAC1SGd2Nr6sdoqJ+HYBK+tPWAZEEpBDdb2gAkOXSo3sYOzuAynmZsRLGVCShkhXWlSe0hJKwApBBFb0OtKPD8M+jhwwD7mkF8VJqk1YIB7qaNeMb9awGwHDsyVFRSCCimqgSHY2o4LUdzXsmOsbwuXnWBODCqSw7WZK1MO09MoQQHqsPBHBSAalNwCx0t784q4jDBxQhwRrRnbxMXUS8M4aiZKdU1Mt1FJdL5QlIUFMCCQSSG5FnNIpYrgst/8A5CPmnJ0/+tClIU+dmmEZRsTrRy0rA5cOTSoB50JEBsdJa0BziOFygEH4lBJlLURTskSUzAh89ysmXoXQTlZokmcHkkpHxkusvM4SKF0dmqxVlKLFj+GQwcRSxshkg6N7HOIMQGApX28UE8HhUpEopmJWVoKlJADoLkBKqm4rpeLuEnUD6fxeBXDM1wQ408iSa28IK4e5S1XYt3D6OYlEOOBc7gHleFHWMkksw1HN3p+8KIJxJ0FwRd+96+EXESyJCwa1Nr2cRPjpeXNyOnOLUrD5sGtQuVGl+6sRpR6P4V5Zepp5FVPGCq8P27e9oXBEdgBKdrhvzQTxUvtKbQ/b+YoA8YXkVLbRQ7q0/eB/GVnNyzD2D5eUF+kOHDI3zU8AD4iKGKSFFndynR9Hvpf0ioWKw+aWrVkCtvzH1/eOZ2Gfq3ZsqK02LxdxKcpWB/hpt/3K25w5kEolskkgIoC9wo28YihfSDBdkFIsG9dPSMhPlls149Q4lKeV3Jq9NjfS8YTiWFyoVXTceP2hKWBOHkhw9amgfb35QVwGECgo0cJfuq5BpUs8UMLLJBrR/VtvGNBgpFDqAB79PSLakdYLDhmD1s3rSDy0MtIKaFLGjCqCxpazxFgcMcgDJuwBc6377+cH8dgmylTZlJFBsxbuPKMqAJwzObdnTRk6QNxEunjvyOto0Zk9lYJenk4gPNlMbUqftWvpyhEp5Mj8Fd6ML0u9oEY+VUfs/L9400qT+BMv8ye75vWAmKlc/fl7aKBfFZQZLfKLAvuPvA3GCgNq05VgzxIlgK1FvufGBGPllnsAWH9uUWBuHzBmY19HvrtaNbhcKwzi7jvL5Rp5+MY/ho7QFHKh7842vCEvLANXIJfZwf38oVFPEySQNGBPk7fT1hQQnJSAWv2gdKX+kKMrBHismppcl/297xPgZA+BWC75oL8YwST2n3LfV9niThWCBwyibE02ux8KRGlTovg05SkguGrqHIPk28WsVhB1iq9oM43gjwGWhIW9t73LBiPdYbiCKnKLguTvavedY1EYrpFIJyBqZ9CNQACQKs1GgNPQQSxN011Lgt75RrukOFSEJQVUJDAACzUPkfKAHF8EErJTQgy/AZTARYiQ/WFJ7QlJFzVypi2pYxoMJhewgEflSX55ffnFBMonPqSiWX/1G7d0aDhaHApQAABtqU9ICDi+G/C+U60/caxg+N4Y9UaCgD67co9N4tLHVj6s21/CMR0iwpElYAckUIFrVMT1b0y2DklQtVidB4MLV8I1fCcM6SWuK97+/OKPDMAEpqxJev8Aajv9DGnlSwJC1ZSwAsHd1U1p40hfqJMPw1WQkD0futyHrF/iSBmFRlSkEuFPZyzPX94tcFnGZJCiCkgtltZLV3DNWH4kEmcwN0gEBuywq7c2rXXwYBAkvLJYFkgvSh37ozuJljMC1S4F9q++caIyyy7uyqPega16iAnwzrzNowNL8+6Avy0kyFECmZPOzt94CYxBsQR8tSFGrXo4bmftGnw8j/ljRznZ6ajZ4GY+UGNHBDUZtK/WAyfEkVBL+7/aAePUaCNTxeR2t7tpR3+gaM3xMWBcirDa5fz+kWFccBlZp6EvdQbVqjSNrwNPYVuNr3VZ67ecZDo8j8eXtnD+YjY8Kw5Et2ft5S7d4r7uIckTrw1SwcgA++cKLS0dk7ABwavc66wozSNVxNDJNA5Cioiw5/SJcPXClIBZquTdw7EW7ol4wodWTlu48+7VhaOEIBw5CQGI/n6U8YvrXiToyvTTKCGsz6nf+YI4zDZiGcBnGjAggAjv90irwhwSnYAeqreUG0p3LPze7U5XixKxvHpACkClxXvd/WBeKkB5j7jzykMPKNPxzDJUtKVF8q0mlHaz63iniMOQokAUb/1MABkiqiDTLLf/AHKaw+rRoOFygKuwYEuwYMLkeUU5GFA6zLcZHHjS9618oK4SUzpN8tS7OSB6uT5Qgi4zLZDj6vs14ynSKW0iYovzuHFCXMbXjMo5E2v3axmukco/CTH1KbaVAh6eM9wuQ4ZmofHuf3WNfwyR2FvfKlgeaoD4HDEZhVnbStf7wd4aCylKzEFAejJDK/Sagsaf2iQWsKjshiGeh5N9D+0ccQQpSw6SHSCzhzUvZ9Cde9nifCzHSkhioKtcCwVWlvDuifGAEgkHtJt69rURUZz4cBJA1Ja3f+4gOaKcDXm3eHp/aNbOlJCFPuRptUfWMlOWQQyXS6tUhr1OpiYo1JDYVR0zpbm4Lh/Ae7h54sWetvD2fCDRb4Wv6h5tWulGgPi1WdgdWFyxHv2IignGUMoPZjyNgNe+Mljw3VuHZL7eb+Eajiwcmpciuo0v78oC8WR2BX27+MWJUXAP+qC1nbYfOd6eekbXo9JHVMq4KVMe4N31+pjK9HkdvwDjQu738u+Nv0fQoywGCgxKhUl2ISQ1La1qYVEGJk7Ud7tsfTSFBLEy3OQAkhJ0cF0rSAw2LcqiHjKtDxPKqTlsSbA2IDmoOwtEHCkMgJD5RV27J1Z96+jPEfSKYEgkfrB8mB5CkTcGQ8gnNcUdhoI16eO+FKYsXNDs75jz1eDs1JJBSoi4LMdNR5RnOBL7a7liAO/MokeFYOonkkVqwcM1xsai0WAdxpCsycozOwL377NEOJlHO/Pu09RX0EXeIntAh6Eba0/fyinMUCti5YhiBWtSCfKKJMDKzBYoxYOCXJBoCD4efnZQLFTJJDX/ADOmgBoQ+t6x3gpRGervXxe7xOCH97QEXEpGdDPZjGX6RpHUrGjincXPfGsWew9RTW93YvXlGR6QzB1UxtVP6pf0gibCYfspYs6nfUjkPH1gvh0HIoB9HYPr6QB4rx2VhZaMx/EyZiK0pQny90jH4v8AqrMCmlSxko4WGJ3sfvGY1Y9Ww+CCQL3IqXpUs5qzk/SG4tLOYMKGhtZxobjSBPQ7pRKx8kKQckxCk9Yg1I5j/KoAsdI0ONl9oFxR6ffv0jTILjsqkqSRelHF2u232jIzpToyu7ncijGlLn+I12IIKFGzks9/LzjNzk1JALBg/wDGtYlFiYo9QQ9iwDGpABJO9x5c4Dz1nNQUOgDEO9G8R5wcWAZQCmHaB7RIJDCza09HgUZGY1oBUjXla2kRQTGISaEFyAbMwaz6VbygLxiW400e1mYD1EaPiSQVEhmLDzIBNfGKvFcL9r91qeMRQzoxh/xBs7H+ab08Y3XAkhMtKtaAVpRhzd2IjK8Fl9WcyAXZRoaWItSr/WNLwZaupYKYFaj+rUXZiG0rrFqCeMxgCCollswoCA9E9oUN6UsADCiniTTtZKnWrD5Qoh7fv4Qogt8WxaJkpTH829bgfSLHDsa2FUQk0KRsWYVDnSM3PnlRIFAogs9rivkfCDMnDH4cuL5WtVg9QafwfOzsq3w7FjMpYBKlLADMblwo6tQ7QeUoGZzbnyb6+sA+jcppZIF0jupQn6QVVm6wl9n3NCfZiwRBSipaVF6inKsNKWoLUBZw415M+kVOLAhZKVCikllAkPce94UmdVSjdx+509vFBQT2UXsSB3XLjfSLVAT308oz5mqUsN+oEPptX3rBaQoluYY+A0ghcYxGWUpWZKQBVRNBUGujXq8YnF8XkTpa5aJ0tagpJ7KgSQ7PQ1AcPs2kF/6gYuT8IuQqWVLU6gxIyhLuS1Gyg99BciPC0ImSlIUQUmikm3iIT6tjaf1JmHrAlLsEJH+21fARgjrGi4/jysKzXIA8XBfwAbxMZ14cOj9Oxbot0gmYHECfLAJAKSk2UCLEit2PhGxl/wBXcSVPMkSVJ2RnQb6lRUPSPNo2HCeHcIVJQqfjJ0ubl7aBLKgDyIlkNreKzGywfTSVip8uTKlKOZKioqYFBDmwcKDagxdrmNr25XPfGM6A4ZHxc9coqMuWlSUKI7RCjRRtcJNNiY2CjRtS5/iJVi1iZzSBV+2KHUcvARSWkggqR+VOYM1nbStj5mL+Nww6tKsxotLgNSgeu94hxEwpQD+oAiri8ywNjy5xFCp6khROWgpp+mp5adzmK2NWHAo2vsRLxPEjrCoWJYA6Po2sUsWtmZwaB/C+0ZVb4bhSpKw7FgUs1yRfUiCGBkdWhWcuhLkgDVyXfZ9O+F0cIKT2WruG/fT1ETzAGYmhS9SA9yxOwYDwMWM1FKS4IBZ7qKfPUMaD2IUd4lH4YAAqbNfbnXUA6iFEVUwcvMcxBLncf5rV0H18I0aRlkr0cgjZjR/fKAWFmE5UpTpru9HJLAGNHLGaWo6gGmlGr3c/rFEnDZwClP5MNe7wFouN2zUmidTcgvWAmCUQs1qWYlvNvH6QVw8ztqBJIv5beJbwiwVuIoebQOKE0dvHw8IrTU0JBqdfL9zFrGzDmA0q99t/KK60gJOtSB5fxFHMhYcB2r7Ji7h55JDaA9x3ZvrFQyhke/a/fzimnElK2Fw38+kB30zxctCStcxgUFKpYKR1iSRV1JUARUgtdtWjxrF5pk5OZTpdIzuVUdgSpr05R79P4FJmypmLmBJ6pIKQQFMtICgSDRwGZ6Oags0eR4zBOtSxQrJIFN6bDyA7haM7jeSwI4phMyTMdkJLB7qNhTQUvu8AVpYtGz4ukCUgAUeWT3ErI8W+sY3EKdSjzMa4ufJHBngWGkrSvrPmC0EVIaWlE2ZOLC5ZCR/qgNFzAYjIJp1MspH+opB/8cwjTL0H+m2Gy4WYogOuYcvMJS31KoPgEGlbfzbS8QdFsL1WElJavVueRU6iDvcxZwxdY5X/AJ5RlVjiBPVnmbBnFvHbXSAuPxjMknMUhADCzufuN7QY4rPHVkpYrJVl01Gm1D5Rm8f84Y3y+DVe1/ekQQY5fasw8KC31iFRJYXNNeW3n5xzi1EklVSe7eOJc250o7+jeYiY00XBF5EKdTdkkMxq43hSZmZiASAKizlrjvL3v5xFw5C8s2jukM4ZgSC7ju9K3iXDYgKSEEMdcoJoH01oY1Gat4vELUsMLindTd68+UKI1LykEap1pWvpaGiWELhoqkjtM4vckvYc/tBlU5OUgtRmbzPdeB2HlhId6A1UHHiWbVvIc4kl1QSkvyq3y7vuOUZbWJMxKWJOpO4PL+OcSJx7ZvlctTZyPMiKSQ4ABFyo2NnpZm1iOefmLfpFKWNzs9Y0ieZjDnuLh38LecPMxLk6V79AfHWBEuZ22YsKVrz18n5QsJOK1sogArbM4apZjoN/K0UAemXEsSiaE5liU3Zb5TqpwOe8d9E+P58smap1fkUdWskn9Wx1+tP+o3DZknFIT1mcTRmRLV+QEsxzKLAnUtbQNGSE0oLGhBuOWoI+ohi7OntnS7iAkYYSFKUhSu1MchNGTkSxDkjWzEtWPPkS8UVomzJRlylJUZZWwJDEpISS5zECrM1otcL6Uz5YVlnqObLmzkTHy/LmzO5BrEOI6Rz5iipSwTqSHLm5ryPrEVWxWIzSVbiUG70qKh6RkBBniExpahuzebkQGBjUY5HMEcHw/OJKfzTpwQOQGQPzcr/8TFBCXUA4DkBzYc41XReWFYzDC4lSis/6s0zz7aR4RWXquOCQlk2SGDaUanK0A5CMxc2JLC7OLuwb3zgrMxTux3oNezrtcHygTNxDHXl9W+sZaTYhFCFHQPtXZ7C5ItSBONlAOUVZTOHpYm7kd3KJxOCtWc/Yem0UFYihKdVG5cakMbN/MAPxhoCSHOnL23lDSwyrUpz02iCYs5mNIlRNqSbGhv4aRBqeEzgJKyWejNc8wDoaQpWXOBYKLkAGgId/pTVjDcPxCUySzGoJoHN6q338o7wUwfNqLDfW3nFSp8Rh1MxDhIDg2uaueQe+kKOMTOGRwC5ZwFA3AIcB9a17oUER4JYyrZRCXZn/AMwFHFFDQ0vBSaKLSlgH5UD05M+uwEDzKCXUVUe9BsXD7uIlwzOUpU4oH8CQxHJm5xl0WJskAAHVwaN6jWOZib8xTWg/tD4iwL6N49nY/eB0ziDKYAnXSgBY21cFh3xpHRSxV2i+h3GtHizwmeJXWLLK/DUAm+cgh0kMwpVzsYHYvtAFQArSgJd9NI5xPEkSJQJLqAORDhyQQl6iicxBqbJLWIgjDcaxCFY4/EmYtCXC+rUnO7EsFKdIZRbkARGi4b0gweHlESJEtRUcpM+WZigglObMC6MpSLA/NVmYDz1SyS6qk1Nanm+8OiYxdJIPvURcNF56JMydLUU5JavnEtks5NQ7gFiKAAU8YqBU0h3YDUhnYOH0sYQx1krAUBZSaEfvXwi1h8SkpUgTEpD5nWFOWSoBIagd/MwX4G4paqZg2vfpFaLOO+ZswUwFQXG9/GIKRWUmFJcsnMSlQAZ2cM7DUPGw/p4is+awFEpDeKi3knzjOcM43NkpKU5cp0IsSGcKFf7RruiEvJhLVWpSv/yP/WJRpOu7T3uBWwLaXew9mKuLlJUGIe1a8i4eK02YQXa2nOh3HKEZpO7dz84gkUQB2Xvb3TX0gZi5hvQh+fcW2/iJMfiksH3dqhuf8cnijPnpKRperkvcvADp805r7E2LVGuhG3KJ8PNcjYkvzpq2sDutBWCA7MNdxpbWJRiCkkqBYE6UDnuppAanCziEMQcpSO15nX+1YsJZVrOBzD6Aa/3gRIxIyX33s2/haJsPittC40Iq2kCjInuQAwqOyQC1Dfm1GhQLE3azOfDnCggjiZUzq3LAOL3NB4sBEmBUrKQKDd2s39+bwDxHHUZlgrKk5iQC7AUJFdX2AtEY6SMgJloUQ1Tr39r6wyt60spCpxUo9lhqdqJDg+3rCm4YpLUcFItd9TegUDTnGbR0ingZerCQdS/fYWjqZxGcQXmJu57BNnbTnFxltpWGILFLgLYckgJqaE3SqlNIE9KcFhUyJs1ak9YiWodi5zghA2udqPS0ZlGMmzVHNNWsXLKUA92CAGAp9bRW6SYRfwyVpSlEtDZg5zLWtRBUQ1RQAVYNuS7BjwYRjtEonSGAEVHKRtBGRwSctGdKQakM7GhY3pcbxzw3A9acqSApnBJaugHN4sYXiq5JUhaQSM1cxoXJPykpNeURcD8NICiQpYQ2771tFxPCV0KULWBd0qQltsxbSLfR+bITLUJrOpTV2YaCrOTyglPxMmWPw8TX9JeYDydPaHm0UDOJ4hSJRl9WmUFFNE9rM2ud2uO+NPwjiEhMqXLJAISA5dNWro94yeLxHXLkoyJS5BLEF3IBq5agsYPz8AlZJIr/AKG5CjkRKYJz55VVKknaoPJ3ikpamcm2kA52EyOUJD+P1UfpEBxC/wBbBjq/oaesDF/HY1QergvQjvqD5XgX8eXZIpoBXTR9Yj+IVqSfERCSNvfdASfFsaAip8HIf6CO5uPJAc02zEvuTuTFNRGn1iMmKgnhcSSCQdqeg9B6QUlTyA9Kj684zUtUT/FHUmtx9C3gz84mK1EnHVBuPEaVrs31hRmTijdy9t/52hQwXeqDhiRoWCj40VfyiVaANzuQ9PMx1LUQAwT4rfyDRYlSkEOUueZA8lIL+cNFaR1rvLSoj/MTTuBYfWL6MXOt1YY8kg7UBLekdrl5khgaGozLNNgxY0ibBYsZmrv2iQq1KlLgCJqxzJmoFVymVSqxVydyMvgYodKOJOciQkSylPZEtKTd2UsCtajKdfPSzpfWhg4RzY7agBxATHcNSCXyr5ZiCKaJqbc4QrPYvFImEKA6tgzB/BvpEylYY5icySagCgHJmqHiPFYYAf8ATUNi31c/aKDHSKmnVMa1CNRSGXOUaFRPeXjlZrZoZoqEFG0SGeWankP2iMCFAOVPE0nEqTZRHjEAENAERj1aqJ8R9IXxA15XAMDoUTF0VGIfXvZhSOTKzF/F6/ejwNBiQT1bwNWlydnbweICm4YwlTFFnOmsclT3gunKW396xyCf3h0Tm+z1hTVvt3iKhjaFDEkGjiHgjpE8iLuGxqrBTd4H2YwOSmLMlPd78IitAjGJCbdp/mJNP90dy8USWLqG5CTTlldvKAKFkFxmPgCBF+RjaNmryBHoXiAzg5iAxQWDlwE5dz8pFb39izLnhbpIKgbhYauhBTTaM8rFEOzgcmG24cxY4Rg8RipvVYeTMmTCD2aUG6i4CU81ECo3gaJnCgOjRnYVB1YTN30JgNisHKUfmY7Co8SAWHjB2R0YQZnUnF4ErJ+XrJxS9mVNTJMoKFvn0gx0WlLw/E5OAnIlf9cJmJKULzdl2cpJysAwpfcwwedHAgnsqB5CvjEU3CqAPZDDVo9XxExE3h80rmS5ZHEBLz9W5KeqUrqgZCFKZwC1Pl8CZwWER8NLbqVf/wA3GzOtMqmdE5CZcwhUvrMyRR8pNDfUPC5SQbpfueOVywND7741/SGTmmAlUtQTLl9uSgpzOM5oAmqVLKHKQSEBxSBRlJ0XnFndPoQzQ0wB6uOQiCvUAPR+ahXbv9IcSq/k9fR4umBJTCyQSVKANQbmrH7hoeXhwKhvr6CGmBplnaGywXl4d/lKueX7vaGzs+v/AHD1Bf7Q0wKBh1HWLU62neP3iquA4hPChRUOowokUNgyS7OR6woBAtEqO/yiB4QVWIqULHM+n3izKKSHKi9Ozf1ioJjaQ6VAtoO8jx97QF9eYmiSxtVtOcepdHZPw/RnGYmSyZ0+ZkWsXCetRIyuKsEqWe9ZMeQdYx1I7zG66C9O5WHlT8FjJal4TEAheX5pZKcpWkG4IApcFII2gMzhzlGVZB5Bk6WbLG7rhMPhuJr/ABsZiJh6gzCrLKRKSJecpBGeYRlAejEEgkGMwrguCz9jieH6l/mMnE9aBzkiUxP+tuYjR9IekGAxmEl4KTN+HOEWBhpk4TMs6XkCViYpAJlrKhnqGokUcsGg6LSpeOwZAw8lJl42QufLSFBE0TSJRnJIUFypqUlYocvZNK0i6VcQmYeSnE4IS18PVKmSUhSApUnMQZuHnPVlLD5ieT1BUH6JdJMNw9HU/ES1TJ8+QqfNSJypUqVJWFlCTkzTJiu0GSnKM13ECOjvS34LEzUqKcTg5xKZyBmyzEH86ErAIWkHUB2I2IDXYtGHUniqThJATgUIXIA6xICpg7RXlW6/lTU1o1ozv9RMLIkLwqZMmXK63CSZysuckqXmzMpSz2QwYNreDH/E5MyX0hmy1hUlUvDiWqrHMVpSK6k0gNx7G4fiEnBzEYmVJnycKiROlzxNT/03yrlqRLUFpLqdNxSl4AnwPhGEnKKVYRBbhKsUPxMST1qVlP8Ai/KWHZgLx7A4eXwzCYzqBJxE2atKpBVNKZiE5j1oQtZWkOEpooDt90Euj/STCyp89RxQloHDVYOSoonBSl9lXWtLQoy0585qXAy6uw3jfF8NxDBShiJwl4/DPK61aZyk4iUPlUZiEKUFpv2hV1fqoB7i3CcDI4yjBnCj4UyDMWkTMRnpImTSUr6537AAFm84CcR6LowuOwq0JRieH4ubL6qYrMQUrWAZalBQUmYkE97PoQCXH+P4GfxdOLTi0dR8KuWVmXiAQo4eZJAy9U57SwX2B7iF/p50yRhJnwmLadgVzElxmPVLSoFE+WCMzOASGB1ZwxoJdMeE4fhyJazh5a5+JVMWiWpUzqZEpJAlgIzgzJigQSVkgF6WMY7i3FZE2VLCcOiTPStWcyswRMQQnK6CshKwoKsA4IjWdLeO4XismUhWITIxOGVMloVMSvqp8oq7BC0JUULCUj5gAXO9B3S7HYU4DCSZSsKrFpVM+JXIkJl5gVEymmpkpBASwOW5u94DEqmcm7ojMdDnHLQQ0PDlMMYCVE0BJBc7VNPCGjmUCbNb20KA4JhPDQoB47SWrHAi7I4cpSMwKWfm9225iArKU5py+kSJlrW5SFKAFSxLDmdIt/8ABpjkOlwwNTyI05iL3BcRicKZhlpQesSUqzMQQHBoSPWAGS8FOI7MqY3JCjZ3qBWx8oiThphAIQsjQhJ3AZ+8gd5EaxXSLGzUnMJJCwp3CwTnStKqg6pmLo9HozQ0jjOOGYhcp1KOYlPzHrJswghspGabNo1l8gwZ+Rw9dHlTa/5F1tZhW4i0mRMSOzJmMf8AKW2FhflBbBccxspKUpMlkBKQ4UflylLtr+GIWC41jZIZBksCTUKNlrXe/wA0w94YWd5i6Dz8XiSgSsihLPb6sS2CiABnIAHWED8ynZy1600YWYzpRMIt8qmd2y0DXo0HTjsUoJQUySlKBLykLYpExM1Id3opI173iWb0jxy0gFMpQzy5gVSqkHMlThViSVNZ1KLAkxTWbXgZgp1MwUf5VWDObWDjzG8cJwc2rS1liQeyosQHItQiNRJ6QY1QqmUCkKS5zgsVSyqqVbykV5c44XxrGhK26r8TMk5UtQqmKYCgHamTC9+1V6CCM4cBPt1UzdsitGcinMeYjk4CaACZUyrfkLFyAGpq/qI0nD+kGLQkhJlUBlKBCv8ADkyjbXLJRUc94nwfHMdLShCTJKZb5QpJNLgE3ISyW2yJgMsjAzf8GYb0CVbkbHWIJ0hSQCpKkvZwQ45PeNgOlGNXLSxlEAkggLSQozMxUCCCO0H5MGAtA3jczEz8ipvV9gEDKMtCxIoKB9AwDlgHgAGbUDSGI/vBD/hMzdG1zv3c4jn8OWhBJKWdjfdtRAUteUMrlHTU5wia1rAcCFCArCgGhQ0PAEJeOlhKQZQJDOaVo23jEi+IoIUBKAcFvlodCKaXjhfEwZCJPVp7Kicx1vRh376RWTPH6BvrAWxjkaS2sal9nqRE0rFJWwSlCTmFFauGYAJ8YGqmg/lA5gF/rEIMBo5cmgaWggk3O7lvlpekdCWHbq0ae/l74zYVCUrvgD+HlKDAolquNtBU9m7CGnLSBlaWlWWhJPMOOxvFDgQlGa05QCSiZlKny58h6vPlqE5m9Ho8aDAjAFUvrESlJKWmJSqcCJgnWSSXEpUmr1btNXLAUur7PyIdwC1K5mNMmrGHTIZvw0MWA/8AI/p9sIKy8Jw1KRlKZrEVmmcgq/5ntZgkjL+AQKagkVMVMTh8D1STKVXLMzdYmaZgdBVJSAlQSped0KUKUQrKAVCApLw/aT2EBg7As9r9mvdHfUOQQhF973H6LOX8IsSpeC6hBASMQEB0zDMMtRzIzlSgxScuZksGZTFToayv/hqZiylCVychMtMxc1EwrzKJQsg9lJRZTXMu/bEAMTIqFZEAOQwP/bfs/wCU+ccYpISRmShIq3aIs2oTzED+NKk9b/y5Jl5UMSCkk5QVZg57YJILUcFqNEEvEpAP4YJKSHJJqQzsXgDUnDdhsiKBne5s/wAj3iPGKCACZSWUbA+OqRpAUzg3y17z6B4ieALHiKCGEmvJu/aEriSP8Ieh17vbQOkTQLpB5kkfSO+vT/hjzMBamYtBSWkgOCH7NDpYXgc8X18UJk9UEADfk7t56wPgETChQoBoUKFAKFChQDvDvHMKAeGhzDQCjpEwpLgkHkWjmFATfFL/AFq/3GF8XM/WrzMQwoCb4pf61eZiNcwkuSSeZeOYUAoUKFAKFDw0A8IQ0PAKHjmHeAaFChQChQoUA6oaFCgFChQoBQoUKAUKFCgFChQoBQoUKAUKFCgFDiFCgEIaFCgFChQoBQoUKA//2Q==)\n",
        "\n",
        "First, lets identify the Movie Id for this movie..."
      ],
      "metadata": {
        "id": "9ssqi30wXc5X"
      }
    },
    {
      "cell_type": "code",
      "source": [
        "movie1=meta['original_title']=='The Conjuring'\n",
        "meta[movie1][['original_title','id']]"
      ],
      "metadata": {
        "_kg_hide-input": false,
        "execution": {
          "iopub.status.busy": "2021-10-03T09:29:56.668959Z",
          "iopub.execute_input": "2021-10-03T09:29:56.669362Z",
          "iopub.status.idle": "2021-10-03T09:29:56.687907Z",
          "shell.execute_reply.started": "2021-10-03T09:29:56.669327Z",
          "shell.execute_reply": "2021-10-03T09:29:56.68708Z"
        },
        "trusted": true,
        "id": "q5oByU3yXc5Z"
      },
      "execution_count": null,
      "outputs": []
    },
    {
      "cell_type": "markdown",
      "source": [
        "So, lets see how much will the user like the movie \"The Conjuring\""
      ],
      "metadata": {
        "id": "U_iTInZRXc5a"
      }
    },
    {
      "cell_type": "code",
      "source": [
        "svd.predict(7, 138843, 3)"
      ],
      "metadata": {
        "_kg_hide-input": false,
        "execution": {
          "iopub.status.busy": "2021-10-03T09:29:57.981881Z",
          "iopub.execute_input": "2021-10-03T09:29:57.982429Z",
          "iopub.status.idle": "2021-10-03T09:29:57.989037Z",
          "shell.execute_reply.started": "2021-10-03T09:29:57.982396Z",
          "shell.execute_reply": "2021-10-03T09:29:57.987949Z"
        },
        "trusted": true,
        "id": "dP5i59_VXc5e"
      },
      "execution_count": null,
      "outputs": []
    },
    {
      "cell_type": "markdown",
      "source": [
        "**Observations** Okay, 3.27 is a mediocre rating.But if we check the movies listed above, he/she has mostly rated them a 3- so in that order, a 3.27 seems better than those."
      ],
      "metadata": {
        "id": "7BXLUlHZXc5g"
      }
    },
    {
      "cell_type": "markdown",
      "source": [
        "# A Combination Recommender"
      ],
      "metadata": {
        "id": "P_d43Qa8Xc5h"
      }
    },
    {
      "cell_type": "markdown",
      "source": [
        "![](data:image/jpeg;base64,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)\n",
        "\n",
        "In this section, we will try to build a movie recommender that brings together techniques we have implemented in the content based and collaborative filter based engines. This is how it will work:\n",
        "\n",
        "For this we shall be creating a function recommend_my_movie()- which will be responsible to provide out the recommendation list\n",
        "\n",
        "**Input:**\n",
        "User ID and the Title of a Movie\n",
        "\n",
        "**Output:**\n",
        "Similar movies sorted on the basis of expected ratings by that particular user."
      ],
      "metadata": {
        "id": "9Jh5jMQlXc5i"
      }
    },
    {
      "cell_type": "code",
      "source": [
        "def convert_int(x):\n",
        "    try:\n",
        "        return int(x)\n",
        "    except:\n",
        "        return np.nan"
      ],
      "metadata": {
        "_kg_hide-input": false,
        "execution": {
          "iopub.status.busy": "2021-10-03T09:29:59.354394Z",
          "iopub.execute_input": "2021-10-03T09:29:59.355051Z",
          "iopub.status.idle": "2021-10-03T09:29:59.360676Z",
          "shell.execute_reply.started": "2021-10-03T09:29:59.355011Z",
          "shell.execute_reply": "2021-10-03T09:29:59.359269Z"
        },
        "trusted": true,
        "id": "DhWrWpCfXc5k"
      },
      "execution_count": null,
      "outputs": []
    },
    {
      "cell_type": "code",
      "source": [
        "id_map = pd.read_csv('/kaggle/input/the-movies-dataset/links_small.csv')[['movieId', 'tmdbId']]\n",
        "id_map['tmdbId'] = id_map['tmdbId'].apply(convert_int)\n",
        "id_map.columns = ['movieId', 'id']\n",
        "id_map = id_map.merge(smd[['title', 'id']], on='id').set_index('title')"
      ],
      "metadata": {
        "_kg_hide-input": false,
        "execution": {
          "iopub.status.busy": "2021-10-03T09:29:59.362166Z",
          "iopub.execute_input": "2021-10-03T09:29:59.362805Z",
          "iopub.status.idle": "2021-10-03T09:29:59.409202Z",
          "shell.execute_reply.started": "2021-10-03T09:29:59.362768Z",
          "shell.execute_reply": "2021-10-03T09:29:59.408184Z"
        },
        "trusted": true,
        "id": "JFFoaUJmXc5m"
      },
      "execution_count": null,
      "outputs": []
    },
    {
      "cell_type": "code",
      "source": [
        "indices_map = id_map.set_index('id')"
      ],
      "metadata": {
        "_kg_hide-input": false,
        "execution": {
          "iopub.status.busy": "2021-10-03T09:29:59.410669Z",
          "iopub.execute_input": "2021-10-03T09:29:59.411157Z",
          "iopub.status.idle": "2021-10-03T09:29:59.416028Z",
          "shell.execute_reply.started": "2021-10-03T09:29:59.411123Z",
          "shell.execute_reply": "2021-10-03T09:29:59.415109Z"
        },
        "trusted": true,
        "id": "qQi2tWykXc5p"
      },
      "execution_count": null,
      "outputs": []
    },
    {
      "cell_type": "code",
      "source": [
        "def recommend_my_movie(userId, title):\n",
        "    idx = indices[title]\n",
        "    tmdbId = id_map.loc[title]['id']\n",
        "    movie_id = id_map.loc[title]['movieId']\n",
        "    sim_scores = list(enumerate(cosine_sim[int(idx)]))\n",
        "    sim_scores = sorted(sim_scores, key=lambda x: x[1], reverse=True)\n",
        "    sim_scores = sim_scores[1:26]\n",
        "    movie_indices = [i[0] for i in sim_scores]\n",
        "    movies = smd.iloc[movie_indices][['title', 'vote_count', 'vote_average', 'year', 'id']]\n",
        "    movies['est'] = movies['id'].apply(lambda x: svd.predict(userId, indices_map.loc[x]['movieId']).est)\n",
        "    movies = movies.sort_values('est', ascending=False)\n",
        "    return movies.head(10)"
      ],
      "metadata": {
        "_kg_hide-input": false,
        "execution": {
          "iopub.status.busy": "2021-10-03T09:30:00.780917Z",
          "iopub.execute_input": "2021-10-03T09:30:00.781319Z",
          "iopub.status.idle": "2021-10-03T09:30:00.791628Z",
          "shell.execute_reply.started": "2021-10-03T09:30:00.781277Z",
          "shell.execute_reply": "2021-10-03T09:30:00.7904Z"
        },
        "trusted": true,
        "id": "zpHHJlOQXc5s"
      },
      "execution_count": 1,
      "outputs": []
    },
    {
      "cell_type": "markdown",
      "source": [
        "Let's check for the 7th User we had just seen above!"
      ],
      "metadata": {
        "id": "iYelIhKHXc5t"
      }
    },
    {
      "cell_type": "code",
      "source": [
        "recommend_my_movie(7, \"Inception\")"
      ],
      "metadata": {
        "_kg_hide-input": false,
        "execution": {
          "iopub.status.busy": "2021-10-03T09:30:00.797168Z",
          "iopub.execute_input": "2021-10-03T09:30:00.797618Z",
          "iopub.status.idle": "2021-10-03T09:30:00.849634Z",
          "shell.execute_reply.started": "2021-10-03T09:30:00.797584Z",
          "shell.execute_reply": "2021-10-03T09:30:00.848618Z"
        },
        "trusted": true,
        "id": "RwCcMd-BXc5v"
      },
      "execution_count": null,
      "outputs": []
    },
    {
      "cell_type": "markdown",
      "source": [
        "Now, just for the sake of comparing- we are choosing a different user. But trying to get the recommendations on the same movie.\n",
        "\n",
        "Lets just choose user 25 for our reference!"
      ],
      "metadata": {
        "id": "k6pIqohiXc5w"
      }
    },
    {
      "cell_type": "code",
      "source": [
        "recommend_my_movie(25, \"Inception\")"
      ],
      "metadata": {
        "_kg_hide-input": false,
        "execution": {
          "iopub.status.busy": "2021-10-03T09:30:02.280097Z",
          "iopub.execute_input": "2021-10-03T09:30:02.280501Z",
          "iopub.status.idle": "2021-10-03T09:30:02.328487Z",
          "shell.execute_reply.started": "2021-10-03T09:30:02.280467Z",
          "shell.execute_reply": "2021-10-03T09:30:02.327439Z"
        },
        "trusted": true,
        "id": "rfaw6FVdXc5x"
      },
      "execution_count": null,
      "outputs": []
    },
    {
      "cell_type": "markdown",
      "source": [
        "We see that for our hybrid recommender, we get different recommendations for different users although the movie is the same. Hence, our recommendations are more personalized and tailored towards particular users.\n",
        "\n",
        "I really ennjoyed my work working on this particular model- and shall be working on further to improve this"
      ],
      "metadata": {
        "id": "mGRs2FazXc5y"
      }
    },
    {
      "cell_type": "markdown",
      "source": [
        "# Conclusions\n",
        "\n",
        "In this notebook, we have built 4 different recommendation engines based on different ideas and algorithms. They are as follows:\n",
        "\n",
        "1. **Simple Recommender**: This system used overall TMDB Vote Count and Vote Averages to build Top Movies Charts, in general and for a specific genre. The IMDB Weighted Rating System was used to calculate ratings on which the sorting was finally performed.\n",
        "\n",
        "2. **Content Based Recommender**: We built two content based engines; one that took movie overview and taglines as input and the other which took metadata such as cast, crew, genre and keywords to come up with predictions. We also deviced a simple filter to give greater preference to movies with more votes and higher ratings.\n",
        "\n",
        "3. **Collaborative Filtering Approach**: We used the powerful Surprise Library to build a collaborative filter based on single value decomposition. The RMSE obtained was less than 1 and the engine gave estimated ratings for a given user and movie.\n",
        "\n",
        "4. **Combined Recommendation Engine**: We brought together ideas from content and collaborative filterting to build an engine that gave movie suggestions to a particular user based on the estimated ratings that it had internally calculated for that user.\n",
        "\n",
        "Overall the data source is very well oriented, and not much of a cleaning task was required. Will be adding on many more updates!!!\n",
        "\n",
        "![](https://i.pinimg.com/originals/4e/9e/6f/4e9e6f979347906a426adcbe57fd3259.gif)"
      ],
      "metadata": {
        "id": "rrXmTkZrXc5z"
      }
    }
  ]
}